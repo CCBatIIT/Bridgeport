{
 "cells": [
  {
   "cell_type": "code",
   "execution_count": null,
   "id": "f30336a8-0196-4995-9a7b-7d7b72a265a2",
   "metadata": {},
   "outputs": [],
   "source": [
    "#YANK BP\n",
    "import textwrap, yaml, yank, sys, os, glob, shutil, openmm, rdkit\n",
    "#import nglview\n",
    "import openmmtools as mmtools\n",
    "import yank.utils\n",
    "import numpy as np\n",
    "from yank.experiment import YankLoader, YankDumper\n",
    "import netCDF4 as nc\n",
    "import matplotlib.pyplot as plt\n",
    "from mdtraj.formats.dcd import DCDTrajectoryFile\n",
    "import mdtraj as md\n",
    "import MDAnalysis as mda\n",
    "#OPENFF\n",
    "from openff.units import Quantity, unit\n",
    "from openmm import unit as openmm_unit\n",
    "from pdbfixer import PDBFixer\n",
    "from openff.toolkit import ForceField, Molecule, Topology\n",
    "from openbabel import openbabel\n",
    "\n",
    "from ybbp_utils import *"
   ]
  },
  {
   "cell_type": "code",
   "execution_count": null,
   "id": "7dc942b3-9df0-4926-a16d-1b6e41d3f883",
   "metadata": {},
   "outputs": [],
   "source": [
    "# Split Crystal into protein and ligand pdbs based on selection strings\n",
    "receptor_path, ligand_path = seperate_crys_using_MDA('3mxf.pdb', 'resname JQ1')"
   ]
  },
  {
   "cell_type": "code",
   "execution_count": null,
   "id": "bce2f942-81c8-4c15-8e68-5b280498c365",
   "metadata": {},
   "outputs": [],
   "source": [
    "# Convert ligand pdb above to an sdf with openbabel\n",
    "ligand_path = obabel_conversion((ligand_path,'ligand.sdf'))"
   ]
  },
  {
   "cell_type": "code",
   "execution_count": null,
   "id": "ed3bb9f6-c3aa-429a-a2be-61deca5de1b3",
   "metadata": {},
   "outputs": [],
   "source": [
    "# Protonate the receptor (ph7)\n",
    "receptor_path = protonate_with_pdb2pqr(receptor_path, 'receptor_H.pdb')"
   ]
  },
  {
   "cell_type": "code",
   "execution_count": null,
   "id": "2902d7a9-87aa-468e-a24f-331a605135a5",
   "metadata": {},
   "outputs": [],
   "source": [
    "# Load a molecule from a SDF file\n",
    "ligand = Molecule.from_file(ligand_path)\n",
    "\n",
    "# Print out a SMILES code for the ligand\n",
    "print(ligand.to_smiles(explicit_hydrogens=False))"
   ]
  },
  {
   "cell_type": "code",
   "execution_count": null,
   "id": "0c3826d6-f5fc-4980-b06c-7aeb2608e32f",
   "metadata": {},
   "outputs": [],
   "source": [
    "#RECEPTOR MUST ALREADY BE PROTONATED FOR THIS STEP\n",
    "fixer = PDBFixer(receptor_path)\n",
    "fixer.addSolvent(padding=1.0 * openmm_unit.nanometer, ionicStrength=0.15 * openmm_unit.molar)\n",
    "# ADD PDBFixer hydrogens and parsing crystal structures (Hydrogens with pdb2pqr30 at the moment)\n",
    "\n",
    "with open(\"receptor_H_solvated.pdb\", \"w\") as f:\n",
    "    openmm.app.PDBFile.writeFile(fixer.topology, fixer.positions, f)\n"
   ]
  },
  {
   "cell_type": "code",
   "execution_count": null,
   "id": "e90871c6-91bb-4456-96f8-bf9332ca91b2",
   "metadata": {},
   "outputs": [],
   "source": [
    "# Openff function to add the ligand and remove clashing waters\n",
    "top = Topology.from_pdb(\"receptor_H_solvated.pdb\")\n",
    "top = insert_molecule_and_remove_clashes(top, ligand)\n",
    "\n",
    "# Save the TOP opbject to a json file to load easier in the future\n",
    "with open(\"topology.json\", \"w\") as f:\n",
    "    print(top.to_json(), file=f)"
   ]
  },
  {
   "cell_type": "code",
   "execution_count": null,
   "id": "2c201864-b892-408e-9da8-e41b00a2fe13",
   "metadata": {},
   "outputs": [],
   "source": [
    "sage_ff14sb = ForceField(\"openff-2.1.0.offxml\", \"opc-1.0.1.offxml\", \"ff14sb_off_impropers_0.0.3.offxml\")"
   ]
  },
  {
   "cell_type": "code",
   "execution_count": null,
   "id": "55adf4f1-e857-4600-be62-f83c59ff21f3",
   "metadata": {},
   "outputs": [],
   "source": [
    "#THIS WILL (potentially) BE VERY USEFUL CLASS, see https://docs.openforcefield.org/projects/interchange/en/stable/using/output.html\n",
    "interchange = sage_ff14sb.create_interchange(top)"
   ]
  },
  {
   "cell_type": "code",
   "execution_count": null,
   "id": "0b8adf25-620d-4024-8866-69aae47a746d",
   "metadata": {},
   "outputs": [],
   "source": [
    "#Write a pdb of the system\n",
    "interchange.to_pdb(\"system.pdb\")"
   ]
  },
  {
   "cell_type": "code",
   "execution_count": null,
   "id": "0cd0ad22-af34-4a75-bb99-7500ba3b7769",
   "metadata": {},
   "outputs": [],
   "source": [
    "#Write AMBER Files using INTERCHANGE\n",
    "interchange.to_prmtop(\"system.prmtop\")\n",
    "interchange.to_inpcrd(\"system.inpcrd\")"
   ]
  },
  {
   "cell_type": "code",
   "execution_count": null,
   "id": "211e8545-61fc-405c-bb52-b28d1e38fc3f",
   "metadata": {},
   "outputs": [],
   "source": [
    "#Write GROMACS file using INTERCHANGE\n",
    "interchange.to_gro(\"system.gro\")\n",
    "interchange.to_top(\"system.top\")"
   ]
  },
  {
   "cell_type": "code",
   "execution_count": null,
   "id": "f971544b-5f86-452f-a51f-1c9270910f5e",
   "metadata": {},
   "outputs": [],
   "source": [
    "run_for_steps(make_openmm_simulation(interchange), 10000)"
   ]
  },
  {
   "cell_type": "code",
   "execution_count": null,
   "id": "897fbea1-b625-4051-b1b9-95629e360c6d",
   "metadata": {},
   "outputs": [],
   "source": [
    "#MOST SIMULATIONS STARTED FROM THE AMBER FILES ARE GOING NAN\n",
    "\n",
    "# from openmm.app import *\n",
    "# from openmm import *\n",
    "# from openmm.unit import *\n",
    "# from sys import stdout\n",
    "\n",
    "# prmtop = AmberPrmtopFile('system.prmtop')\n",
    "# inpcrd = AmberInpcrdFile('system.inpcrd')"
   ]
  },
  {
   "cell_type": "code",
   "execution_count": null,
   "id": "986fdd8e-0eb0-4272-b677-f7dbcfac0dd0",
   "metadata": {},
   "outputs": [],
   "source": [
    "# system = prmtop.createSystem()\n",
    "# integrator = LangevinMiddleIntegrator(300*kelvin, 1/picosecond, 0.001*picoseconds)\n",
    "# simulation = Simulation(prmtop.topology, system, integrator)\n",
    "# simulation.context.setPositions(inpcrd.positions)\n",
    "# if inpcrd.boxVectors is not None:\n",
    "#     simulation.context.setPeriodicBoxVectors(*inpcrd.boxVectors)\n",
    "# simulation.minimizeEnergy()\n",
    "# simulation.reporters.append(PDBReporter('output.pdb', 1000))\n",
    "# simulation.reporters.append(StateDataReporter(stdout, 1000, step=True,\n",
    "#         potentialEnergy=True, temperature=True))\n",
    "# simulation.step(10000)"
   ]
  },
  {
   "cell_type": "code",
   "execution_count": null,
   "id": "1026ceaf-0dbb-48c8-bdc4-17832f9bd554",
   "metadata": {},
   "outputs": [],
   "source": [
    "# #u = mda.Universe('system.prmtop', topology_format='PARM7')\n",
    "# import parmed as pmd\n",
    "\n",
    "# fmt = pmd.amber.AmberFormat('system.prmtop')\n",
    "# print(fmt.parm_data['POINTERS'][0]) # number of atoms\n",
    "# print(len(fmt.parm_data['ATOM_NAME']))\n",
    "# print(len(fmt.parm_data['RADII']))"
   ]
  }
 ],
 "metadata": {
  "kernelspec": {
   "display_name": "Python 3 (ipykernel)",
   "language": "python",
   "name": "python3"
  },
  "language_info": {
   "codemirror_mode": {
    "name": "ipython",
    "version": 3
   },
   "file_extension": ".py",
   "mimetype": "text/x-python",
   "name": "python",
   "nbconvert_exporter": "python",
   "pygments_lexer": "ipython3",
   "version": "3.9.18"
  }
 },
 "nbformat": 4,
 "nbformat_minor": 5
}
