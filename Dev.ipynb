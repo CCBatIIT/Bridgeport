{
 "cells": [
  {
   "cell_type": "code",
   "execution_count": 1,
   "id": "f30336a8-0196-4995-9a7b-7d7b72a265a2",
   "metadata": {},
   "outputs": [
    {
     "name": "stderr",
     "output_type": "stream",
     "text": [
      "Warning: importing 'simtk.openmm' is deprecated.  Import 'openmm' instead.\n"
     ]
    }
   ],
   "source": [
    "#YANK BP\n",
    "import textwrap, yaml, yank, sys, os, glob, shutil, openmm, rdkit\n",
    "#import nglview\n",
    "import openmmtools as mmtools\n",
    "import yank.utils\n",
    "import numpy as np\n",
    "from yank.experiment import YankLoader, YankDumper\n",
    "import netCDF4 as nc\n",
    "import matplotlib.pyplot as plt\n",
    "from mdtraj.formats.dcd import DCDTrajectoryFile\n",
    "import mdtraj as md\n",
    "import MDAnalysis as mda\n",
    "#OPENFF\n",
    "from openff.units import Quantity, unit\n",
    "from openmm import unit as openmm_unit\n",
    "from pdbfixer import PDBFixer\n",
    "from openff.toolkit import ForceField, Molecule, Topology\n",
    "from openbabel import openbabel\n",
    "\n",
    "from ybp_utils import *"
   ]
  },
  {
   "cell_type": "code",
   "execution_count": 2,
   "id": "7dc942b3-9df0-4926-a16d-1b6e41d3f883",
   "metadata": {},
   "outputs": [
    {
     "name": "stderr",
     "output_type": "stream",
     "text": [
      "/home/exouser/miniconda3/envs/openff/lib/python3.9/site-packages/MDAnalysis/coordinates/PDB.py:1151: UserWarning: Found no information for attr: 'formalcharges' Using default value of '0'\n",
      "  warnings.warn(\"Found no information for attr: '{}'\"\n"
     ]
    }
   ],
   "source": [
    "# Split Crystal into protein and ligand pdbs based on selection strings\n",
    "receptor_path, ligand_path = seperate_crys_using_MDA('3mxf.pdb', 'resname JQ1')"
   ]
  },
  {
   "cell_type": "code",
   "execution_count": 3,
   "id": "bce2f942-81c8-4c15-8e68-5b280498c365",
   "metadata": {},
   "outputs": [
    {
     "name": "stdout",
     "output_type": "stream",
     "text": [
      "56 Atoms 59 Bonds 1 Residues\n",
      "56 Atoms 59 Bonds 1 Residues\n",
      "True ligand_H.pdb True ligand.sdf\n"
     ]
    }
   ],
   "source": [
    "# Get the filename that the next function will create for the protonated ligand in orignal format\n",
    "ligand_4_solvation_path = os.path.splitext(ligand_path)[0] + '_H' + os.path.splitext(ligand_path)[-1]\n",
    "# Convert ligand pdb above to an sdf with openbabel, addhs and make sdf\n",
    "ligand_path = obabel_conversion((ligand_path,'ligand.sdf'))\n",
    "#Verify\n",
    "print(os.path.isfile(ligand_4_solvation_path), ligand_4_solvation_path, os.path.isfile(ligand_path), ligand_path)"
   ]
  },
  {
   "cell_type": "code",
   "execution_count": 4,
   "id": "ed3bb9f6-c3aa-429a-a2be-61deca5de1b3",
   "metadata": {},
   "outputs": [
    {
     "name": "stdout",
     "output_type": "stream",
     "text": [
      "Protanting using command line\n",
      "pdb2pqr30 --ff AMBER --nodebump --keep-chain --ffout AMBER --pdb-output receptor_H.pdb --with-ph 7 receptor.pdb receptor_H.pqr\n"
     ]
    },
    {
     "name": "stderr",
     "output_type": "stream",
     "text": [
      "INFO:PDB2PQR v3.6.1: biomolecular structure conversion software.\n",
      "INFO:Please cite:  Jurrus E, et al.  Improvements to the APBS biomolecular solvation software suite.  Protein Sci 27 112-128 (2018).\n",
      "INFO:Please cite:  Dolinsky TJ, et al.  PDB2PQR: expanding and upgrading automated preparation of biomolecular structures for molecular simulations. Nucleic Acids Res 35 W522-W525 (2007).\n",
      "INFO:Checking and transforming input arguments.\n",
      "INFO:Loading topology files.\n",
      "INFO:Loading molecule: receptor.pdb\n",
      "ERROR:Error parsing line: invalid literal for int() with base 10: ''\n",
      "ERROR:<REMARK     2>\n",
      "ERROR:Truncating remaining errors for record type:REMARK\n",
      "WARNING:Warning: receptor.pdb is a non-standard PDB file.\n",
      "\n",
      "ERROR:['REMARK']\n",
      "INFO:Setting up molecule.\n",
      "INFO:Created biomolecule object with 127 residues and 1059 atoms.\n",
      "WARNING:Multiple occupancies found: CB in SER A 51.\n",
      "WARNING:Multiple occupancies found: OG in SER A 51.\n",
      "WARNING:Multiple occupancies found in SER A 51. At least one of the instances is being ignored.\n",
      "WARNING:Multiple occupancies found: CB in LYS A 72.\n",
      "WARNING:Multiple occupancies found: CG in LYS A 72.\n",
      "WARNING:Multiple occupancies found: CD in LYS A 72.\n",
      "WARNING:Multiple occupancies found: CE in LYS A 72.\n",
      "WARNING:Multiple occupancies found: NZ in LYS A 72.\n",
      "WARNING:Multiple occupancies found in LYS A 72. At least one of the instances is being ignored.\n",
      "WARNING:Multiple occupancies found: CB in THR A 103.\n",
      "WARNING:Multiple occupancies found: OG1 in THR A 103.\n",
      "WARNING:Multiple occupancies found: CG2 in THR A 103.\n",
      "WARNING:Multiple occupancies found in THR A 103. At least one of the instances is being ignored.\n",
      "WARNING:Multiple occupancies found: CB in GLN A 127.\n",
      "WARNING:Multiple occupancies found: CG in GLN A 127.\n",
      "WARNING:Multiple occupancies found: CD in GLN A 127.\n",
      "WARNING:Multiple occupancies found: OE1 in GLN A 127.\n",
      "WARNING:Multiple occupancies found: NE2 in GLN A 127.\n",
      "WARNING:Multiple occupancies found in GLN A 127. At least one of the instances is being ignored.\n",
      "INFO:Setting termini states for biomolecule chains.\n",
      "INFO:Loading forcefield.\n",
      "INFO:Loading hydrogen topology definitions.\n",
      "WARNING:Missing atom CD in residue LYS A 141\n",
      "WARNING:Missing atom CE in residue LYS A 141\n",
      "WARNING:Missing atom NZ in residue LYS A 141\n",
      "WARNING:Missing atom CD in residue LYS A 141\n",
      "WARNING:Missing atom CE in residue LYS A 141\n",
      "WARNING:Missing atom NZ in residue LYS A 141\n",
      "INFO:Attempting to repair 3 missing atoms in biomolecule.\n",
      "WARNING:Missing atom CD in residue LYS A 141\n",
      "WARNING:Missing atom CE in residue LYS A 141\n",
      "WARNING:Missing atom NZ in residue LYS A 141\n",
      "INFO:Added atom CD to residue LYS A 141 at coordinates 46.066, 36.279, 24.240\n",
      "INFO:Added atom CE to residue LYS A 141 at coordinates 46.967, 35.112, 24.579\n",
      "INFO:Added atom NZ to residue LYS A 141 at coordinates 47.011, 34.152, 23.449\n",
      "INFO:Updating disulfide bridges.\n",
      "INFO:Adding hydrogens to biomolecule.\n",
      "INFO:Optimizing hydrogen bonds\n",
      "INFO:Applying force field to biomolecule states.\n",
      "INFO:Applying custom naming scheme (amber).\n",
      "INFO:Regenerating headers.\n",
      "INFO:Regenerating PDB lines.\n",
      "WARNING:Ignoring 464 header lines in output.\n",
      "WARNING:Ignoring 464 header lines in output.\n"
     ]
    }
   ],
   "source": [
    "# Protonate the receptor (ph7)\n",
    "receptor_path = protonate_with_pdb2pqr(receptor_path, 'receptor_H.pdb')"
   ]
  },
  {
   "cell_type": "code",
   "execution_count": 5,
   "id": "2902d7a9-87aa-468e-a24f-331a605135a5",
   "metadata": {},
   "outputs": [
    {
     "name": "stdout",
     "output_type": "stream",
     "text": [
      "Cc1sc2c(c1C)C(c1ccc(Cl)cc1)=N[C@@H](CC(=O)OC(C)(C)C)c1nnc(C)n1-2\n"
     ]
    }
   ],
   "source": [
    "# Load a molecule from a SDF file\n",
    "ligand = Molecule.from_file(ligand_path)\n",
    "\n",
    "# Print out a SMILES code for the ligand\n",
    "print(ligand.to_smiles(explicit_hydrogens=False))"
   ]
  },
  {
   "cell_type": "code",
   "execution_count": 6,
   "id": "9a48dc4c-b4c4-4b84-bd1e-8251a33d11a4",
   "metadata": {},
   "outputs": [
    {
     "name": "stderr",
     "output_type": "stream",
     "text": [
      "/home/exouser/miniconda3/envs/openff/lib/python3.9/site-packages/openmm/app/internal/pdbstructure.py:537: UserWarning: WARNING: duplicate atom (HETATM   33  H   JQ1 A   1      36.571  37.893  36.614  1.00  0.00           H  , HETATM   32  H   JQ1 A   1      37.726  39.146  36.226  1.00  0.00           H  )\n",
      "  warnings.warn(\"WARNING: duplicate atom (%s, %s)\" % (atom, old_atom._pdb_string(old_atom.serial_number, atom.alternate_location_indicator)))\n",
      "/home/exouser/miniconda3/envs/openff/lib/python3.9/site-packages/openmm/app/internal/pdbstructure.py:537: UserWarning: WARNING: duplicate atom (HETATM   34  H   JQ1 A   1      36.202  39.068  35.374  1.00  0.00           H  , HETATM   33  H   JQ1 A   1      36.571  37.893  36.614  1.00  0.00           H  )\n",
      "  warnings.warn(\"WARNING: duplicate atom (%s, %s)\" % (atom, old_atom._pdb_string(old_atom.serial_number, atom.alternate_location_indicator)))\n",
      "/home/exouser/miniconda3/envs/openff/lib/python3.9/site-packages/openmm/app/internal/pdbstructure.py:537: UserWarning: WARNING: duplicate atom (HETATM   35  H   JQ1 A   1      32.392  34.835  36.542  1.00  0.00           H  , HETATM   34  H   JQ1 A   1      36.202  39.068  35.374  1.00  0.00           H  )\n",
      "  warnings.warn(\"WARNING: duplicate atom (%s, %s)\" % (atom, old_atom._pdb_string(old_atom.serial_number, atom.alternate_location_indicator)))\n",
      "/home/exouser/miniconda3/envs/openff/lib/python3.9/site-packages/openmm/app/internal/pdbstructure.py:537: UserWarning: WARNING: duplicate atom (HETATM   36  H   JQ1 A   1      32.177  33.592  35.334  1.00  0.00           H  , HETATM   35  H   JQ1 A   1      32.392  34.835  36.542  1.00  0.00           H  )\n",
      "  warnings.warn(\"WARNING: duplicate atom (%s, %s)\" % (atom, old_atom._pdb_string(old_atom.serial_number, atom.alternate_location_indicator)))\n",
      "/home/exouser/miniconda3/envs/openff/lib/python3.9/site-packages/openmm/app/internal/pdbstructure.py:537: UserWarning: WARNING: duplicate atom (HETATM   37  H   JQ1 A   1      31.420  35.153  35.125  1.00  0.00           H  , HETATM   36  H   JQ1 A   1      32.177  33.592  35.334  1.00  0.00           H  )\n",
      "  warnings.warn(\"WARNING: duplicate atom (%s, %s)\" % (atom, old_atom._pdb_string(old_atom.serial_number, atom.alternate_location_indicator)))\n",
      "/home/exouser/miniconda3/envs/openff/lib/python3.9/site-packages/openmm/app/internal/pdbstructure.py:537: UserWarning: WARNING: duplicate atom (HETATM   38  H   JQ1 A   1      31.918  34.101  32.957  1.00  0.00           H  , HETATM   37  H   JQ1 A   1      31.420  35.153  35.125  1.00  0.00           H  )\n",
      "  warnings.warn(\"WARNING: duplicate atom (%s, %s)\" % (atom, old_atom._pdb_string(old_atom.serial_number, atom.alternate_location_indicator)))\n",
      "/home/exouser/miniconda3/envs/openff/lib/python3.9/site-packages/openmm/app/internal/pdbstructure.py:537: UserWarning: WARNING: duplicate atom (HETATM   39  H   JQ1 A   1      33.224  33.642  31.891  1.00  0.00           H  , HETATM   38  H   JQ1 A   1      31.918  34.101  32.957  1.00  0.00           H  )\n",
      "  warnings.warn(\"WARNING: duplicate atom (%s, %s)\" % (atom, old_atom._pdb_string(old_atom.serial_number, atom.alternate_location_indicator)))\n",
      "/home/exouser/miniconda3/envs/openff/lib/python3.9/site-packages/openmm/app/internal/pdbstructure.py:537: UserWarning: WARNING: duplicate atom (HETATM   40  H   JQ1 A   1      32.445  35.195  31.701  1.00  0.00           H  , HETATM   39  H   JQ1 A   1      33.224  33.642  31.891  1.00  0.00           H  )\n",
      "  warnings.warn(\"WARNING: duplicate atom (%s, %s)\" % (atom, old_atom._pdb_string(old_atom.serial_number, atom.alternate_location_indicator)))\n",
      "/home/exouser/miniconda3/envs/openff/lib/python3.9/site-packages/openmm/app/internal/pdbstructure.py:537: UserWarning: WARNING: duplicate atom (HETATM   41  H   JQ1 A   1      35.819  32.005  27.939  1.00  0.00           H  , HETATM   40  H   JQ1 A   1      32.445  35.195  31.701  1.00  0.00           H  )\n",
      "  warnings.warn(\"WARNING: duplicate atom (%s, %s)\" % (atom, old_atom._pdb_string(old_atom.serial_number, atom.alternate_location_indicator)))\n",
      "/home/exouser/miniconda3/envs/openff/lib/python3.9/site-packages/openmm/app/internal/pdbstructure.py:537: UserWarning: WARNING: duplicate atom (HETATM   42  H   JQ1 A   1      37.143  33.123  28.156  1.00  0.00           H  , HETATM   41  H   JQ1 A   1      35.819  32.005  27.939  1.00  0.00           H  )\n",
      "  warnings.warn(\"WARNING: duplicate atom (%s, %s)\" % (atom, old_atom._pdb_string(old_atom.serial_number, atom.alternate_location_indicator)))\n",
      "/home/exouser/miniconda3/envs/openff/lib/python3.9/site-packages/openmm/app/internal/pdbstructure.py:537: UserWarning: WARNING: duplicate atom (HETATM   43  H   JQ1 A   1      35.630  33.389  28.988  1.00  0.00           H  , HETATM   42  H   JQ1 A   1      37.143  33.123  28.156  1.00  0.00           H  )\n",
      "  warnings.warn(\"WARNING: duplicate atom (%s, %s)\" % (atom, old_atom._pdb_string(old_atom.serial_number, atom.alternate_location_indicator)))\n",
      "/home/exouser/miniconda3/envs/openff/lib/python3.9/site-packages/openmm/app/internal/pdbstructure.py:537: UserWarning: WARNING: duplicate atom (HETATM   44  H   JQ1 A   1      37.207  29.994  28.753  1.00  0.00           H  , HETATM   43  H   JQ1 A   1      35.630  33.389  28.988  1.00  0.00           H  )\n",
      "  warnings.warn(\"WARNING: duplicate atom (%s, %s)\" % (atom, old_atom._pdb_string(old_atom.serial_number, atom.alternate_location_indicator)))\n",
      "/home/exouser/miniconda3/envs/openff/lib/python3.9/site-packages/openmm/app/internal/pdbstructure.py:537: UserWarning: WARNING: duplicate atom (HETATM   45  H   JQ1 A   1      38.017  30.117  30.297  1.00  0.00           H  , HETATM   44  H   JQ1 A   1      37.207  29.994  28.753  1.00  0.00           H  )\n",
      "  warnings.warn(\"WARNING: duplicate atom (%s, %s)\" % (atom, old_atom._pdb_string(old_atom.serial_number, atom.alternate_location_indicator)))\n",
      "/home/exouser/miniconda3/envs/openff/lib/python3.9/site-packages/openmm/app/internal/pdbstructure.py:537: UserWarning: WARNING: duplicate atom (HETATM   46  H   JQ1 A   1      38.606  31.027  28.926  1.00  0.00           H  , HETATM   45  H   JQ1 A   1      38.017  30.117  30.297  1.00  0.00           H  )\n",
      "  warnings.warn(\"WARNING: duplicate atom (%s, %s)\" % (atom, old_atom._pdb_string(old_atom.serial_number, atom.alternate_location_indicator)))\n",
      "/home/exouser/miniconda3/envs/openff/lib/python3.9/site-packages/openmm/app/internal/pdbstructure.py:537: UserWarning: WARNING: duplicate atom (HETATM   47  H   JQ1 A   1      35.090  30.571  29.983  1.00  0.00           H  , HETATM   46  H   JQ1 A   1      38.606  31.027  28.926  1.00  0.00           H  )\n",
      "  warnings.warn(\"WARNING: duplicate atom (%s, %s)\" % (atom, old_atom._pdb_string(old_atom.serial_number, atom.alternate_location_indicator)))\n",
      "/home/exouser/miniconda3/envs/openff/lib/python3.9/site-packages/openmm/app/internal/pdbstructure.py:537: UserWarning: WARNING: duplicate atom (HETATM   48  H   JQ1 A   1      34.973  32.071  30.872  1.00  0.00           H  , HETATM   47  H   JQ1 A   1      35.090  30.571  29.983  1.00  0.00           H  )\n",
      "  warnings.warn(\"WARNING: duplicate atom (%s, %s)\" % (atom, old_atom._pdb_string(old_atom.serial_number, atom.alternate_location_indicator)))\n",
      "/home/exouser/miniconda3/envs/openff/lib/python3.9/site-packages/openmm/app/internal/pdbstructure.py:537: UserWarning: WARNING: duplicate atom (HETATM   49  H   JQ1 A   1      35.982  30.776  31.472  1.00  0.00           H  , HETATM   48  H   JQ1 A   1      34.973  32.071  30.872  1.00  0.00           H  )\n",
      "  warnings.warn(\"WARNING: duplicate atom (%s, %s)\" % (atom, old_atom._pdb_string(old_atom.serial_number, atom.alternate_location_indicator)))\n",
      "/home/exouser/miniconda3/envs/openff/lib/python3.9/site-packages/openmm/app/internal/pdbstructure.py:537: UserWarning: WARNING: duplicate atom (HETATM   50  H   JQ1 A   1      31.742  37.984  30.133  1.00  0.00           H  , HETATM   49  H   JQ1 A   1      35.982  30.776  31.472  1.00  0.00           H  )\n",
      "  warnings.warn(\"WARNING: duplicate atom (%s, %s)\" % (atom, old_atom._pdb_string(old_atom.serial_number, atom.alternate_location_indicator)))\n",
      "/home/exouser/miniconda3/envs/openff/lib/python3.9/site-packages/openmm/app/internal/pdbstructure.py:537: UserWarning: WARNING: duplicate atom (HETATM   51  H   JQ1 A   1      34.357  36.481  27.243  1.00  0.00           H  , HETATM   50  H   JQ1 A   1      31.742  37.984  30.133  1.00  0.00           H  )\n",
      "  warnings.warn(\"WARNING: duplicate atom (%s, %s)\" % (atom, old_atom._pdb_string(old_atom.serial_number, atom.alternate_location_indicator)))\n",
      "/home/exouser/miniconda3/envs/openff/lib/python3.9/site-packages/openmm/app/internal/pdbstructure.py:537: UserWarning: WARNING: duplicate atom (HETATM   52  H   JQ1 A   1      33.162  37.103  31.879  1.00  0.00           H  , HETATM   51  H   JQ1 A   1      34.357  36.481  27.243  1.00  0.00           H  )\n",
      "  warnings.warn(\"WARNING: duplicate atom (%s, %s)\" % (atom, old_atom._pdb_string(old_atom.serial_number, atom.alternate_location_indicator)))\n",
      "/home/exouser/miniconda3/envs/openff/lib/python3.9/site-packages/openmm/app/internal/pdbstructure.py:537: UserWarning: WARNING: duplicate atom (HETATM   53  H   JQ1 A   1      35.809  35.644  28.979  1.00  0.00           H  , HETATM   52  H   JQ1 A   1      33.162  37.103  31.879  1.00  0.00           H  )\n",
      "  warnings.warn(\"WARNING: duplicate atom (%s, %s)\" % (atom, old_atom._pdb_string(old_atom.serial_number, atom.alternate_location_indicator)))\n",
      "/home/exouser/miniconda3/envs/openff/lib/python3.9/site-packages/openmm/app/internal/pdbstructure.py:537: UserWarning: WARNING: duplicate atom (HETATM   54  H   JQ1 A   1      39.497  35.317  31.082  1.00  0.00           H  , HETATM   53  H   JQ1 A   1      35.809  35.644  28.979  1.00  0.00           H  )\n",
      "  warnings.warn(\"WARNING: duplicate atom (%s, %s)\" % (atom, old_atom._pdb_string(old_atom.serial_number, atom.alternate_location_indicator)))\n",
      "/home/exouser/miniconda3/envs/openff/lib/python3.9/site-packages/openmm/app/internal/pdbstructure.py:537: UserWarning: WARNING: duplicate atom (HETATM   55  H   JQ1 A   1      39.633  34.013  32.226  1.00  0.00           H  , HETATM   54  H   JQ1 A   1      39.497  35.317  31.082  1.00  0.00           H  )\n",
      "  warnings.warn(\"WARNING: duplicate atom (%s, %s)\" % (atom, old_atom._pdb_string(old_atom.serial_number, atom.alternate_location_indicator)))\n",
      "/home/exouser/miniconda3/envs/openff/lib/python3.9/site-packages/openmm/app/internal/pdbstructure.py:537: UserWarning: WARNING: duplicate atom (HETATM   56  H   JQ1 A   1      37.366  34.113  32.729  1.00  0.00           H  , HETATM   55  H   JQ1 A   1      39.633  34.013  32.226  1.00  0.00           H  )\n",
      "  warnings.warn(\"WARNING: duplicate atom (%s, %s)\" % (atom, old_atom._pdb_string(old_atom.serial_number, atom.alternate_location_indicator)))\n"
     ]
    },
    {
     "name": "stdout",
     "output_type": "stream",
     "text": [
      "HELLO\n"
     ]
    }
   ],
   "source": [
    "ligand_solvated_path = PDBFixer_solvation(ligand_4_solvation_path)"
   ]
  },
  {
   "cell_type": "code",
   "execution_count": 7,
   "id": "0c3826d6-f5fc-4980-b06c-7aeb2608e32f",
   "metadata": {},
   "outputs": [
    {
     "name": "stdout",
     "output_type": "stream",
     "text": [
      "HELLO\n"
     ]
    }
   ],
   "source": [
    "receptor_solvated_fn = PDBFixer_solvation(receptor_path)"
   ]
  },
  {
   "cell_type": "code",
   "execution_count": 23,
   "id": "e90871c6-91bb-4456-96f8-bf9332ca91b2",
   "metadata": {},
   "outputs": [
    {
     "name": "stdout",
     "output_type": "stream",
     "text": [
      "Removed [H][O][H] molecule\n",
      "Removed [H][O][H] molecule\n",
      "Removed [H][O][H] molecule\n",
      "Removed [H][O][H] molecule\n",
      "Removed [H][O][H] molecule\n",
      "Removed [H][O][H] molecule\n"
     ]
    }
   ],
   "source": [
    "# Openff function to add the ligand and remove clashing waters\n",
    "comp_top = Topology.from_pdb(receptor_solvated_fn)\n",
    "comp_top = insert_molecule_and_remove_clashes(comp_top, ligand)\n",
    "\n",
    "# Save the TOP opbject to a json file to load easier in the future\n",
    "with open(\"complex_topology.json\", \"w\") as f:\n",
    "    print(comp_top.to_json(), file=f)"
   ]
  },
  {
   "cell_type": "code",
   "execution_count": 24,
   "id": "5ba5afc4-c0d4-45bd-9fb9-321f7b3a65d8",
   "metadata": {},
   "outputs": [
    {
     "name": "stdout",
     "output_type": "stream",
     "text": [
      "ligand_H_solvated.pdb\n"
     ]
    }
   ],
   "source": [
    "print(ligand_solvated_path)\n",
    "u = mda.Universe(ligand_solvated_path)\n",
    "waters = u.select_atoms('resname HOH')"
   ]
  },
  {
   "cell_type": "code",
   "execution_count": 25,
   "id": "d5be8831-1c2b-4477-b041-76fa60880084",
   "metadata": {},
   "outputs": [
    {
     "name": "stderr",
     "output_type": "stream",
     "text": [
      "/home/exouser/miniconda3/envs/openff/lib/python3.9/site-packages/MDAnalysis/coordinates/PDB.py:1151: UserWarning: Found no information for attr: 'formalcharges' Using default value of '0'\n",
      "  warnings.warn(\"Found no information for attr: '{}'\"\n"
     ]
    }
   ],
   "source": [
    "waters.write('solvent.pdb')"
   ]
  },
  {
   "cell_type": "code",
   "execution_count": 26,
   "id": "fa75ebee-3a90-499d-94c2-3e2374656441",
   "metadata": {},
   "outputs": [
    {
     "name": "stdout",
     "output_type": "stream",
     "text": [
      "Removed [H][O][H] molecule\n",
      "Removed [H][O][H] molecule\n",
      "Removed [H][O][H] molecule\n",
      "Removed [H][O][H] molecule\n",
      "Removed [H][O][H] molecule\n",
      "Removed [H][O][H] molecule\n",
      "Removed [H][O][H] molecule\n",
      "Removed [H][O][H] molecule\n",
      "Removed [H][O][H] molecule\n"
     ]
    }
   ],
   "source": [
    "#Solv top must be built from a file with only waters, and then the ligand can be added?\n",
    "solv_top = Topology.from_pdb('solvent.pdb')\n",
    "solv_top = insert_molecule_and_remove_clashes(solv_top, ligand)"
   ]
  },
  {
   "cell_type": "code",
   "execution_count": 27,
   "id": "2c201864-b892-408e-9da8-e41b00a2fe13",
   "metadata": {},
   "outputs": [],
   "source": [
    "sage_ff14sb = ForceField(\"openff-2.1.0.offxml\", \"opc-1.0.1.offxml\", \"ff14sb_off_impropers_0.0.3.offxml\")"
   ]
  },
  {
   "cell_type": "code",
   "execution_count": 28,
   "id": "55adf4f1-e857-4600-be62-f83c59ff21f3",
   "metadata": {},
   "outputs": [
    {
     "data": {
      "application/vnd.jupyter.widget-view+json": {
       "model_id": "1a58878714a74f4e9abe1440f45aeeb1",
       "version_major": 2,
       "version_minor": 0
      },
      "text/plain": []
     },
     "metadata": {},
     "output_type": "display_data"
    }
   ],
   "source": [
    "#THIS WILL (potentially) BE VERY USEFUL CLASS, see https://docs.openforcefield.org/projects/interchange/en/stable/using/output.html\n",
    "comp_interchange = sage_ff14sb.create_interchange(comp_top)\n",
    "solv_interchange = sage_ff14sb.create_interchange(solv_top)"
   ]
  },
  {
   "cell_type": "code",
   "execution_count": 29,
   "id": "0b8adf25-620d-4024-8866-69aae47a746d",
   "metadata": {},
   "outputs": [],
   "source": [
    "#Write a pdb of the system\n",
    "comp_interchange.to_pdb(\"system.pdb\")\n",
    "solv_interchange.to_pdb(\"solvent.pdb\")"
   ]
  },
  {
   "cell_type": "code",
   "execution_count": 30,
   "id": "0806f05b-9de8-4bb8-b7d0-f12ae501641b",
   "metadata": {},
   "outputs": [
    {
     "name": "stdout",
     "output_type": "stream",
     "text": [
      "Original state has energy nan kJ/mol  with maximum force 3719544752.54 kJ/(mol nm)\n",
      "Minimized state has energy -517538.47 kJ/mol  with maximum force 4021.83 kJ/(mol nm)\n",
      "Original state has energy nan kJ/mol  with maximum force 3719549457.77 kJ/(mol nm)\n",
      "Minimized state has energy -24137.67 kJ/mol  with maximum force 3622.43 kJ/(mol nm)\n"
     ]
    }
   ],
   "source": [
    "openmm_comp = make_openmm_simulation(comp_interchange)\n",
    "openmm_solv = make_openmm_simulation(solv_interchange)"
   ]
  },
  {
   "cell_type": "code",
   "execution_count": 33,
   "id": "848925a8-0932-4d22-aa0a-92d122a73420",
   "metadata": {},
   "outputs": [],
   "source": [
    "with open('complex_final.xml', \"w\") as xml_file:\n",
    "    xml_file.write(openmm.XmlSerializer.serialize(openmm_comp.system))\n",
    "\n",
    "with open('complex_final.pdb', \"w\") as pdb_file:  \n",
    "    openmm.app.PDBFile.writeFile(openmm_comp.topology, openmm_comp.context.getState(getPositions=True, enforcePeriodicBox=True).getPositions(),\n",
    "      file=pdb_file, keepIds=True)"
   ]
  },
  {
   "cell_type": "code",
   "execution_count": 34,
   "id": "7382e287-d439-402c-9202-0dfec19ea48c",
   "metadata": {},
   "outputs": [],
   "source": [
    "with open('solvent_final.xml', \"w\") as xml_file:\n",
    "    xml_file.write(openmm.XmlSerializer.serialize(openmm_solv.system))\n",
    "\n",
    "with open('solvent_final.pdb', \"w\") as pdb_file:  \n",
    "    openmm.app.PDBFile.writeFile(openmm_solv.topology, openmm_solv.context.getState(getPositions=True, enforcePeriodicBox=True).getPositions(),\n",
    "      file=pdb_file, keepIds=True)"
   ]
  },
  {
   "cell_type": "code",
   "execution_count": null,
   "id": "0cd0ad22-af34-4a75-bb99-7500ba3b7769",
   "metadata": {},
   "outputs": [],
   "source": [
    "##Write AMBER Files using INTERCHANGE\n",
    "#interchange.to_prmtop(\"system.prmtop\")\n",
    "#interchange.to_inpcrd(\"system.inpcrd\")"
   ]
  },
  {
   "cell_type": "code",
   "execution_count": null,
   "id": "211e8545-61fc-405c-bb52-b28d1e38fc3f",
   "metadata": {},
   "outputs": [],
   "source": [
    "##Write GROMACS file using INTERCHANGE\n",
    "#interchange.to_gro(\"system.gro\")\n",
    "#interchange.to_top(\"system.top\")"
   ]
  },
  {
   "cell_type": "code",
   "execution_count": null,
   "id": "f971544b-5f86-452f-a51f-1c9270910f5e",
   "metadata": {},
   "outputs": [],
   "source": [
    "run_for_steps(make_openmm_simulation(interchange), 10000)"
   ]
  },
  {
   "cell_type": "code",
   "execution_count": null,
   "id": "897fbea1-b625-4051-b1b9-95629e360c6d",
   "metadata": {},
   "outputs": [],
   "source": [
    "#MOST SIMULATIONS STARTED FROM THE AMBER FILES ARE GOING NAN\n",
    "\n",
    "# from openmm.app import *\n",
    "# from openmm import *\n",
    "# from openmm.unit import *\n",
    "# from sys import stdout\n",
    "\n",
    "# prmtop = AmberPrmtopFile('system.prmtop')\n",
    "# inpcrd = AmberInpcrdFile('system.inpcrd')"
   ]
  },
  {
   "cell_type": "code",
   "execution_count": null,
   "id": "986fdd8e-0eb0-4272-b677-f7dbcfac0dd0",
   "metadata": {},
   "outputs": [],
   "source": [
    "# system = prmtop.createSystem()\n",
    "# integrator = LangevinMiddleIntegrator(300*kelvin, 1/picosecond, 0.001*picoseconds)\n",
    "# simulation = Simulation(prmtop.topology, system, integrator)\n",
    "# simulation.context.setPositions(inpcrd.positions)\n",
    "# if inpcrd.boxVectors is not None:\n",
    "#     simulation.context.setPeriodicBoxVectors(*inpcrd.boxVectors)\n",
    "# simulation.minimizeEnergy()\n",
    "# simulation.reporters.append(PDBReporter('output.pdb', 1000))\n",
    "# simulation.reporters.append(StateDataReporter(stdout, 1000, step=True,\n",
    "#         potentialEnergy=True, temperature=True))\n",
    "# simulation.step(10000)"
   ]
  },
  {
   "cell_type": "code",
   "execution_count": null,
   "id": "1026ceaf-0dbb-48c8-bdc4-17832f9bd554",
   "metadata": {},
   "outputs": [],
   "source": [
    "# #u = mda.Universe('system.prmtop', topology_format='PARM7')\n",
    "# import parmed as pmd\n",
    "\n",
    "# fmt = pmd.amber.AmberFormat('system.prmtop')\n",
    "# print(fmt.parm_data['POINTERS'][0]) # number of atoms\n",
    "# print(len(fmt.parm_data['ATOM_NAME']))\n",
    "# print(len(fmt.parm_data['RADII']))"
   ]
  }
 ],
 "metadata": {
  "kernelspec": {
   "display_name": "Python 3 (ipykernel)",
   "language": "python",
   "name": "python3"
  },
  "language_info": {
   "codemirror_mode": {
    "name": "ipython",
    "version": 3
   },
   "file_extension": ".py",
   "mimetype": "text/x-python",
   "name": "python",
   "nbconvert_exporter": "python",
   "pygments_lexer": "ipython3",
   "version": "3.9.18"
  }
 },
 "nbformat": 4,
 "nbformat_minor": 5
}
