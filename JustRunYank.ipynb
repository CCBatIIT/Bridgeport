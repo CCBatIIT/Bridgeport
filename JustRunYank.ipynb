{
 "cells": [
  {
   "cell_type": "code",
   "execution_count": 1,
   "id": "cf31cce4-975a-4c54-91ae-fa0fbd17678b",
   "metadata": {},
   "outputs": [
    {
     "name": "stderr",
     "output_type": "stream",
     "text": [
      "Warning: importing 'simtk.openmm' is deprecated.  Import 'openmm' instead.\n"
     ]
    }
   ],
   "source": [
    "from prepare import Simulation_Preparer"
   ]
  },
  {
   "cell_type": "code",
   "execution_count": null,
   "id": "78b797e1-cc06-4af0-a7e4-5499582e8135",
   "metadata": {},
   "outputs": [],
   "source": [
    "prepper = Simulation_Preparer('3mxf.pdb', 'resname JQ1') # A Crystal Structure and A residue defining the ligand"
   ]
  },
  {
   "cell_type": "code",
   "execution_count": null,
   "id": "5d06182f-9def-4c17-8ae6-24eb318f66ba",
   "metadata": {},
   "outputs": [],
   "source": [
    "prepper.generate_topologies(save_as_jsons=True)"
   ]
  },
  {
   "cell_type": "code",
   "execution_count": null,
   "id": "ef60a110-414b-4230-b212-bdaec0c25887",
   "metadata": {},
   "outputs": [],
   "source": [
    "prepper.generate_interchanges([\"openff-2.1.0.offxml\", \"opc-1.0.1.offxml\", \"ff14sb_off_impropers_0.0.3.offxml\"]) # Takes a while"
   ]
  },
  {
   "cell_type": "code",
   "execution_count": null,
   "id": "cf003b95-f360-4f99-9317-afc043468dd8",
   "metadata": {},
   "outputs": [],
   "source": [
    "prepper.openmm_writeout() # Takes a while"
   ]
  },
  {
   "cell_type": "code",
   "execution_count": null,
   "id": "e1ade6ed-8b6a-4c1f-b1fd-c3f07738f86b",
   "metadata": {},
   "outputs": [],
   "source": []
  },
  {
   "cell_type": "code",
   "execution_count": null,
   "id": "d997d611-e95c-4fe6-87d4-91199c457569",
   "metadata": {},
   "outputs": [],
   "source": []
  },
  {
   "cell_type": "code",
   "execution_count": null,
   "id": "ff924ddd-0ea7-485d-b8ac-8e97be04e787",
   "metadata": {},
   "outputs": [],
   "source": []
  },
  {
   "cell_type": "code",
   "execution_count": null,
   "id": "be48cf1a-6772-48e9-aee4-a7503011d1cf",
   "metadata": {},
   "outputs": [],
   "source": []
  },
  {
   "cell_type": "code",
   "execution_count": null,
   "id": "264a751a-dd51-4fad-ad55-29a9f186e460",
   "metadata": {},
   "outputs": [],
   "source": []
  },
  {
   "cell_type": "code",
   "execution_count": null,
   "id": "34d15ce7-9ea8-4942-92fa-e4098ad5dad6",
   "metadata": {},
   "outputs": [],
   "source": []
  },
  {
   "cell_type": "code",
   "execution_count": null,
   "id": "64406c43-3b69-4dae-9ebe-313c0805acbd",
   "metadata": {},
   "outputs": [],
   "source": []
  },
  {
   "cell_type": "code",
   "execution_count": null,
   "id": "0179ef77-a92c-4c9c-b7de-8d426955037d",
   "metadata": {},
   "outputs": [],
   "source": [
    "# ALL PREVIOUS MEMORY CAN BE CLEARED AT THIS POINT?"
   ]
  },
  {
   "cell_type": "code",
   "execution_count": null,
   "id": "e82959d8-705e-4519-97a4-2b05ea033228",
   "metadata": {},
   "outputs": [],
   "source": [
    "complex_fns = ('complex_final.pdb', 'complex_final.xml')\n",
    "solvent_fns = ('solvent_final.pdb', 'solvent_final.xml')\n",
    "ligand_resname = 'resname UNK'\n",
    "yank_output_dir = 'UNK/yankrun2'\n",
    "yaml_file_fn = 'UNK/yank_script.yaml'\n",
    "restraint_string = determine_restrained_residues(complex_fns[0], 4, ligand_resname)\n",
    "\n",
    "with open(yaml_file_fn, 'w') as f:\n",
    "    f.write(write_the_yaml(complex_fns, solvent_fns, ligand_resname, yank_output_dir, restraint_string))"
   ]
  },
  {
   "cell_type": "code",
   "execution_count": null,
   "id": "b3139db9-b3e0-4dc8-9347-1bd87b0a4906",
   "metadata": {},
   "outputs": [],
   "source": [
    "with open(yaml_file_fn, 'r') as f:\n",
    "    my_yaml = yaml.load(f, Loader=YankLoader)\n",
    "yaml_builder = yank.experiment.ExperimentBuilder(script=my_yaml)"
   ]
  },
  {
   "cell_type": "code",
   "execution_count": null,
   "id": "be6a7333-f481-4e1e-b812-3183fb237306",
   "metadata": {},
   "outputs": [],
   "source": [
    "yaml_builder.run_experiments()"
   ]
  },
  {
   "cell_type": "code",
   "execution_count": null,
   "id": "e63615f1-7531-42fa-a9f7-d7a052597d46",
   "metadata": {},
   "outputs": [],
   "source": [
    "import yank.analyze"
   ]
  },
  {
   "cell_type": "code",
   "execution_count": null,
   "id": "d504df79-5c95-4aee-9367-3a0e35f8fdb1",
   "metadata": {},
   "outputs": [],
   "source": [
    "Analyzer = yank.analyze.ExperimentAnalyzer('UNK/yankrun2/experiments/')\n",
    "results = Analyzer.auto_analyze()"
   ]
  },
  {
   "cell_type": "code",
   "execution_count": null,
   "id": "867cd588-94f7-4bf2-9854-23903df20bdc",
   "metadata": {},
   "outputs": [],
   "source": [
    "print(results)"
   ]
  }
 ],
 "metadata": {
  "kernelspec": {
   "display_name": "Python 3 (ipykernel)",
   "language": "python",
   "name": "python3"
  },
  "language_info": {
   "codemirror_mode": {
    "name": "ipython",
    "version": 3
   },
   "file_extension": ".py",
   "mimetype": "text/x-python",
   "name": "python",
   "nbconvert_exporter": "python",
   "pygments_lexer": "ipython3",
   "version": "3.9.16"
  }
 },
 "nbformat": 4,
 "nbformat_minor": 5
}
