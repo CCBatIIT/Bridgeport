{
 "cells": [
  {
   "cell_type": "code",
   "execution_count": 1,
   "metadata": {},
   "outputs": [
    {
     "name": "stdout",
     "output_type": "stream",
     "text": [
      "Requirement already satisfied: py3Dmol in /home/exouser/miniconda3/envs/prep/lib/python3.12/site-packages (2.1.0)\n"
     ]
    }
   ],
   "source": [
    "!pip install py3Dmol\n",
    "import py3Dmol\n",
    "\n"
   ]
  },
  {
   "cell_type": "code",
   "execution_count": 2,
   "metadata": {},
   "outputs": [],
   "source": [
    "# Functions\n",
    "def definegrid(object,cx,cy,cz,szx,szy,szz):\n",
    "  object.addBox({'center':{'x':cx,'y':cy,'z':cz},'dimensions': {'w':szx,'h':szy,'d':szz},'color':'blue','opacity': 0.8})\n",
    "\n",
    "def viewprot(object,prot_PDBfile,resids):\n",
    "  mol1 = open(prot_PDBfile, 'r').read()\n",
    "  object.addModel(mol1,'pdb')\n",
    "  object.setStyle({'cartoon': {'color':'spectrum'}})\n",
    "  close_to_resi = {'within':{'distance':'7', 'sel':{'resi':resids}}}\n",
    "  object.addStyle(close_to_resi,{'stick':{'colorscheme':'greenCarbon'}})\n",
    "  object.addSurface(py3Dmol.VDW, {'opacity':0.0, 'color':'grey'}, {})\n",
    "\n",
    "#Lastly, we combine the box grid and protein into a single viewer\n",
    "def viewprotgrid(prot_PDBfile,resids,cx=0,cy=0,cz=0,szx=10,szy=10,szz=10):\n",
    "  mol_view = py3Dmol.view(1000,600)\n",
    "  viewprot(mol_view,prot_PDBfile,resids)\n",
    "  definegrid(mol_view,cx,cy,cz,szx,szy,szz)\n",
    "  mol_view.addArrow({'start': {'x':cx, 'y':cy, 'z':cz},\n",
    "                  'end': {'x':cx+szx, 'y':cy, 'z':cz},\n",
    "                  'radius': 0.5, 'color': 'red'})\n",
    "  mol_view.addArrow({'start': {'x':cx, 'y':cy, 'z':cz},\n",
    "                  'end': {'x':cx, 'y':cy+szy, 'z':cz},\n",
    "                  'radius': 0.5, 'color': 'green'})\n",
    "  mol_view.addArrow({'start': {'x':cx, 'y':cy, 'z':cz},\n",
    "                  'end': {'x':cx, 'y':cy, 'z':cz+szz},\n",
    "                  'radius': 0.5, 'color': 'blue'})\n",
    "  mol_view.setBackgroundColor('0xffffff')\n",
    "  mol_view.zoomTo()\n",
    "  mol_view.show() "
   ]
  },
  {
   "cell_type": "code",
   "execution_count": 6,
   "metadata": {},
   "outputs": [
    {
     "data": {
      "application/vnd.jupyter.widget-view+json": {
       "model_id": "9b37f263a6c349d5936bcc9c8c2760cf",
       "version_major": 2,
       "version_minor": 0
      },
      "text/plain": [
       "interactive(children=(Dropdown(description='prot_PDBfile', options=('/home/exouser/MOR/proteins/LeuEnk.pdb',),…"
      ]
     },
     "metadata": {},
     "output_type": "display_data"
    },
    {
     "name": "stdout",
     "output_type": "stream",
     "text": [
      "Box directions are x (red), y (green), z (blue)\n"
     ]
    }
   ],
   "source": [
    "from ipywidgets import interact,fixed,IntSlider\n",
    "import ipywidgets\n",
    "interact(viewprotgrid,\n",
    "        prot_PDBfile = ['/home/exouser/MOR/proteins/LeuEnk.pdb'],\n",
    "        resids=[],\n",
    "        cx=-15,\n",
    "        cy=-2,\n",
    "        cz=28,\n",
    "        \n",
    "        szx=15,\n",
    "        szy=18,\n",
    "        szz=15)\n",
    "\n",
    "print(\"Box directions are x (red), y (green), z (blue)\")"
   ]
  },
  {
   "cell_type": "code",
   "execution_count": null,
   "metadata": {},
   "outputs": [],
   "source": []
  }
 ],
 "metadata": {
  "kernelspec": {
   "display_name": "Python 3 (ipykernel)",
   "language": "python",
   "name": "python3"
  },
  "language_info": {
   "codemirror_mode": {
    "name": "ipython",
    "version": 3
   },
   "file_extension": ".py",
   "mimetype": "text/x-python",
   "name": "python",
   "nbconvert_exporter": "python",
   "pygments_lexer": "ipython3",
   "version": "3.12.1"
  }
 },
 "nbformat": 4,
 "nbformat_minor": 4
}
