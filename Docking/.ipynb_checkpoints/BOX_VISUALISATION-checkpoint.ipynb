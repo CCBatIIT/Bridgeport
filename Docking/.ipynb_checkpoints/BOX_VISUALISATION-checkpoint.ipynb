{
 "cells": [
  {
   "cell_type": "code",
   "execution_count": 1,
   "metadata": {},
   "outputs": [
    {
     "name": "stdout",
     "output_type": "stream",
     "text": [
      "Requirement already satisfied: py3Dmol in /home/dcooper/anaconda3/envs/mda/lib/python3.10/site-packages (2.0.0.post2)\n",
      "\u001b[33mWARNING: There was an error checking the latest version of pip.\u001b[0m\u001b[33m\n",
      "\u001b[0m"
     ]
    }
   ],
   "source": [
    "!pip install py3Dmol\n",
    "import py3Dmol\n",
    "\n"
   ]
  },
  {
   "cell_type": "code",
   "execution_count": 2,
   "metadata": {},
   "outputs": [],
   "source": [
    "#These definitions will enable loading our protein and then\n",
    "#drawing a box with a given size and centroid on the cartesian space\n",
    "#This box will enable us to set up the system coordinates for the simulation\n",
    "#\n",
    "#ACKNOWLEDGE: This script is largely based on the one created by Jose Manuel \n",
    "#Napoles Duarte, Physics Teacher at the Chemical Sciences Faculty of the \n",
    "#Autonomous University of Chihuahua (https://github.com/napoles-uach)\n",
    "#\n",
    "#First, we define the grid box\n",
    "def definegrid(object,cx,cy,cz,szx,szy,szz):\n",
    "  object.addBox({'center':{'x':cx,'y':cy,'z':cz},'dimensions': {'w':szx,'h':szy,'d':szz},'color':'blue','opacity': 0.8})\n",
    "\n",
    "#Next, we define how the protein will be shown in py3Dmol\n",
    "#Note that we are also adding a style representation for active site residues\n",
    "def viewprot(object,prot_PDBfile,resids):\n",
    "  mol1 = open(prot_PDBfile, 'r').read()\n",
    "  object.addModel(mol1,'pdb')\n",
    "  object.setStyle({'cartoon': {'color':'spectrum'}})\n",
    "  close_to_resi = {'within':{'distance':'7', 'sel':{'resi':resids}}}\n",
    "  object.addStyle(close_to_resi,{'stick':{'colorscheme':'greenCarbon'}})\n",
    "  object.addSurface(py3Dmol.VDW, {'opacity':0.0, 'color':'grey'}, {})\n",
    "\n",
    "#Lastly, we combine the box grid and protein into a single viewer\n",
    "def viewprotgrid(prot_PDBfile,resids,cx=0,cy=0,cz=0,szx=10,szy=10,szz=10):\n",
    "  mol_view = py3Dmol.view(1000,600)\n",
    "  viewprot(mol_view,prot_PDBfile,resids)\n",
    "  definegrid(mol_view,cx,cy,cz,szx,szy,szz)\n",
    "  mol_view.addArrow({'start': {'x':cx, 'y':cy, 'z':cz},\n",
    "                  'end': {'x':cx+szx, 'y':cy, 'z':cz},\n",
    "                  'radius': 0.5, 'color': 'red'})\n",
    "  mol_view.addArrow({'start': {'x':cx, 'y':cy, 'z':cz},\n",
    "                  'end': {'x':cx, 'y':cy+szy, 'z':cz},\n",
    "                  'radius': 0.5, 'color': 'green'})\n",
    "  mol_view.addArrow({'start': {'x':cx, 'y':cy, 'z':cz},\n",
    "                  'end': {'x':cx, 'y':cy, 'z':cz+szz},\n",
    "                  'radius': 0.5, 'color': 'blue'})\n",
    "  mol_view.setBackgroundColor('0xffffff')\n",
    "  mol_view.zoomTo()\n",
    "  mol_view.show() "
   ]
  },
  {
   "cell_type": "code",
   "execution_count": 11,
   "metadata": {},
   "outputs": [
    {
     "data": {
      "application/vnd.jupyter.widget-view+json": {
       "model_id": "346671cd0ecf42dfa6c51a0eb35244a3",
       "version_major": 2,
       "version_minor": 0
      },
      "text/plain": [
       "interactive(children=(Dropdown(description='prot_PDBfile', options=('/home/dcooper/MAP4K4/original_PDBs/MAP01.…"
      ]
     },
     "metadata": {},
     "output_type": "display_data"
    },
    {
     "name": "stdout",
     "output_type": "stream",
     "text": [
      "Box directions are x (red), y (green), z (blue)\n"
     ]
    }
   ],
   "source": [
    "from ipywidgets import interact,fixed,IntSlider\n",
    "import ipywidgets\n",
    "interact(viewprotgrid,\n",
    "# --> ADD YOUR PDB LOCATION AND FILENAME HERE\n",
    "         prot_PDBfile = ['/home/dcooper/MAP4K4/original_PDBs/MAP01.pdb'],\n",
    "# --> ADD THE RESIDUES YOU WANT TO VISUALIZE HERE\n",
    "         resids = [1, 2, 3],\n",
    "        #  cx=ipywidgets.IntSlider(min=-100,max=100, step=1),\n",
    "        #  cy=ipywidgets.IntSlider(min=-100,max=100, step=1),\n",
    "        #  cz=ipywidgets.IntSlider(min=-100,max=100, step=1),\n",
    "        #  szx=ipywidgets.IntSlider(min=0,max=30, step=1),\n",
    "        #  szy=ipywidgets.IntSlider(min=0,max=30, step=1),\n",
    "        #  szz=ipywidgets.IntSlider(min=0,max=30, step=1))\n",
    "        cx=-15,\n",
    "        cy=-2,\n",
    "        cz=28,\n",
    "        \n",
    "        szx=15,\n",
    "        szy=18,\n",
    "        szz=15)\n",
    "\n",
    "print(\"Box directions are x (red), y (green), z (blue)\")"
   ]
  },
  {
   "cell_type": "code",
   "execution_count": 4,
   "metadata": {},
   "outputs": [
    {
     "ename": "OSError",
     "evalue": "No such file: /mnt/d/MOR_sims/8efo_1.dcd",
     "output_type": "error",
     "traceback": [
      "\u001b[0;31m---------------------------------------------------------------------------\u001b[0m",
      "\u001b[0;31mOSError\u001b[0m                                   Traceback (most recent call last)",
      "\u001b[1;32m/home/dcooper/MOR/scripts/pose_prediction/docking/BOX_VISUALISATION.ipynb Cell 4\u001b[0m line \u001b[0;36m7\n\u001b[1;32m      <a href='vscode-notebook-cell://wsl%2Bubuntu/home/dcooper/MOR/scripts/pose_prediction/docking/BOX_VISUALISATION.ipynb#W3sdnNjb2RlLXJlbW90ZQ%3D%3D?line=4'>5</a>\u001b[0m \u001b[39mfor\u001b[39;00m i \u001b[39min\u001b[39;00m \u001b[39mrange\u001b[39m(\u001b[39m1\u001b[39m,\u001b[39m4\u001b[39m):\n\u001b[1;32m      <a href='vscode-notebook-cell://wsl%2Bubuntu/home/dcooper/MOR/scripts/pose_prediction/docking/BOX_VISUALISATION.ipynb#W3sdnNjb2RlLXJlbW90ZQ%3D%3D?line=5'>6</a>\u001b[0m     dcd \u001b[39m=\u001b[39m \u001b[39mf\u001b[39m\u001b[39m'\u001b[39m\u001b[39m/mnt/d/MOR_sims/8efo_\u001b[39m\u001b[39m{\u001b[39;00mi\u001b[39m}\u001b[39;00m\u001b[39m.dcd\u001b[39m\u001b[39m'\u001b[39m\n\u001b[0;32m----> <a href='vscode-notebook-cell://wsl%2Bubuntu/home/dcooper/MOR/scripts/pose_prediction/docking/BOX_VISUALISATION.ipynb#W3sdnNjb2RlLXJlbW90ZQ%3D%3D?line=6'>7</a>\u001b[0m     traj \u001b[39m=\u001b[39m md\u001b[39m.\u001b[39;49mload(dcd, top\u001b[39m=\u001b[39;49mpdb)\n\u001b[1;32m      <a href='vscode-notebook-cell://wsl%2Bubuntu/home/dcooper/MOR/scripts/pose_prediction/docking/BOX_VISUALISATION.ipynb#W3sdnNjb2RlLXJlbW90ZQ%3D%3D?line=8'>9</a>\u001b[0m     term \u001b[39m=\u001b[39m traj\u001b[39m.\u001b[39mslice([\u001b[39m-\u001b[39m\u001b[39m1\u001b[39m])\n\u001b[1;32m     <a href='vscode-notebook-cell://wsl%2Bubuntu/home/dcooper/MOR/scripts/pose_prediction/docking/BOX_VISUALISATION.ipynb#W3sdnNjb2RlLXJlbW90ZQ%3D%3D?line=9'>10</a>\u001b[0m     term\u001b[39m.\u001b[39msave_pdb(\u001b[39mf\u001b[39m\u001b[39m'\u001b[39m\u001b[39m/home/dcooper/MOR/pose_prediction/systems/8efo_debug/8efo_\u001b[39m\u001b[39m{\u001b[39;00mi\u001b[39m}\u001b[39;00m\u001b[39m_test.pdb\u001b[39m\u001b[39m'\u001b[39m)\n",
      "File \u001b[0;32m~/anaconda3/envs/mda/lib/python3.10/site-packages/mdtraj/core/trajectory.py:409\u001b[0m, in \u001b[0;36mload\u001b[0;34m(filename_or_filenames, discard_overlapping_frames, **kwargs)\u001b[0m\n\u001b[1;32m    403\u001b[0m     \u001b[39mraise\u001b[39;00m \u001b[39mIOError\u001b[39;00m(\u001b[39m'\u001b[39m\u001b[39mSorry, no loader for filename=\u001b[39m\u001b[39m%s\u001b[39;00m\u001b[39m (extension=\u001b[39m\u001b[39m%s\u001b[39;00m\u001b[39m) \u001b[39m\u001b[39m'\u001b[39m\n\u001b[1;32m    404\u001b[0m                 \u001b[39m'\u001b[39m\u001b[39mwas found. I can only load files \u001b[39m\u001b[39m'\u001b[39m\n\u001b[1;32m    405\u001b[0m                 \u001b[39m'\u001b[39m\u001b[39mwith extensions in \u001b[39m\u001b[39m%s\u001b[39;00m\u001b[39m'\u001b[39m \u001b[39m%\u001b[39m (\n\u001b[1;32m    406\u001b[0m                     filename_or_filenames[\u001b[39m0\u001b[39m], extension, FormatRegistry\u001b[39m.\u001b[39mloaders\u001b[39m.\u001b[39mkeys()))\n\u001b[1;32m    408\u001b[0m \u001b[39mif\u001b[39;00m loader\u001b[39m.\u001b[39m\u001b[39m__name__\u001b[39m \u001b[39mnot\u001b[39;00m \u001b[39min\u001b[39;00m [\u001b[39m'\u001b[39m\u001b[39mload_dtr\u001b[39m\u001b[39m'\u001b[39m]:\n\u001b[0;32m--> 409\u001b[0m         _assert_files_exist(filename_or_filenames)\n\u001b[1;32m    410\u001b[0m \u001b[39melse\u001b[39;00m:\n\u001b[1;32m    411\u001b[0m     _assert_files_or_dirs_exist(filename_or_filenames)\n",
      "File \u001b[0;32m~/anaconda3/envs/mda/lib/python3.10/site-packages/mdtraj/core/trajectory.py:100\u001b[0m, in \u001b[0;36m_assert_files_exist\u001b[0;34m(filenames)\u001b[0m\n\u001b[1;32m     98\u001b[0m \u001b[39mfor\u001b[39;00m fn \u001b[39min\u001b[39;00m filenames:\n\u001b[1;32m     99\u001b[0m     \u001b[39mif\u001b[39;00m \u001b[39mnot\u001b[39;00m (os\u001b[39m.\u001b[39mpath\u001b[39m.\u001b[39mexists(fn) \u001b[39mand\u001b[39;00m os\u001b[39m.\u001b[39mpath\u001b[39m.\u001b[39misfile(fn)):\n\u001b[0;32m--> 100\u001b[0m         \u001b[39mraise\u001b[39;00m \u001b[39mIOError\u001b[39;00m(\u001b[39m'\u001b[39m\u001b[39mNo such file: \u001b[39m\u001b[39m%s\u001b[39;00m\u001b[39m'\u001b[39m \u001b[39m%\u001b[39m fn)\n",
      "\u001b[0;31mOSError\u001b[0m: No such file: /mnt/d/MOR_sims/8efo_1.dcd"
     ]
    }
   ],
   "source": [
    "import mdtraj as md\n",
    "import os\n",
    "\n",
    "pdb = '/home/dcooper/MOR/Sims/systems/8efo.pdb'\n",
    "for i in range(1,4):\n",
    "    dcd = f'/mnt/d/MOR_sims/8efo_{i}.dcd'\n",
    "    traj = md.load(dcd, top=pdb)\n",
    "\n",
    "    term = traj.slice([-1])\n",
    "    term.save_pdb(f'/home/dcooper/MOR/pose_prediction/systems/8efo_debug/8efo_{i}_test.pdb')\n",
    "\n",
    "    if not os.path.exists(f'/home/dcooper/MOR/pose_prediction/systems/8efo_debug/8efo.pdb'):\n",
    "        top = traj.topology\n",
    "        sele = top.select('resname UNL')\n",
    "        lig = term.atom_slice(sele)\n",
    "        lig.save_pdb(f'/home/dcooper/MOR/pose_prediction/systems/8efo_debug/8efo.pdb')\n",
    "\n"
   ]
  },
  {
   "cell_type": "code",
   "execution_count": null,
   "metadata": {},
   "outputs": [],
   "source": []
  }
 ],
 "metadata": {
  "kernelspec": {
   "display_name": "mda",
   "language": "python",
   "name": "python3"
  },
  "language_info": {
   "codemirror_mode": {
    "name": "ipython",
    "version": 3
   },
   "file_extension": ".py",
   "mimetype": "text/x-python",
   "name": "python",
   "nbconvert_exporter": "python",
   "pygments_lexer": "ipython3",
   "version": "3.10.8"
  },
  "orig_nbformat": 4
 },
 "nbformat": 4,
 "nbformat_minor": 2
}
