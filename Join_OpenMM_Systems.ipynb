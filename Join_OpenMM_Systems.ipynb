{
 "cells": [
  {
   "cell_type": "code",
   "execution_count": 1,
   "id": "8f53efe8-2193-485d-9906-6c78de04013b",
   "metadata": {},
   "outputs": [],
   "source": [
    "import textwrap, sys, os, glob, shutil\n",
    "import numpy as np\n",
    "import MDAnalysis as mda\n",
    "import mdtraj as md\n",
    "from pdbfixer import PDBFixer\n",
    "from openbabel import openbabel\n",
    "from datetime import datetime\n",
    "#OpenFF\n",
    "import openff\n",
    "import openff.units\n",
    "import openff.toolkit\n",
    "import openff.interchange\n",
    "#OpenMM\n",
    "from openmm.app import *\n",
    "from openmm import *\n",
    "from openmm.unit import *\n",
    "#Custom\n",
    "from ForceFieldHandler import *\n",
    "from OpenMMJoiner import *\n",
    "from ProteinPreparer import *\n",
    "from Initter import *\n",
    "from bp_utils import *"
   ]
  },
  {
   "cell_type": "markdown",
   "id": "78dd3c39-6e44-4dc4-8e1a-9e0c3bd029e5",
   "metadata": {},
   "source": [
    "## Steps to Prepare"
   ]
  },
  {
   "cell_type": "code",
   "execution_count": 2,
   "id": "0516cdee-ca53-42cf-b41b-00c702ad681d",
   "metadata": {},
   "outputs": [],
   "source": [
    "start = datetime.now()"
   ]
  },
  {
   "cell_type": "code",
   "execution_count": 3,
   "id": "02f6971f-9a6c-4409-b1d4-0f0c46e541a0",
   "metadata": {},
   "outputs": [],
   "source": [
    "job_inputs = {'working_dir_name': 'gpcr_join_testing',\n",
    "              'ligand_resname': 'resname V4O',\n",
    "              'crystal_pdb_fn': '5c1m_V4O.pdb',\n",
    "              'build_modes': ['MEM', 'SOL']}"
   ]
  },
  {
   "cell_type": "code",
   "execution_count": 4,
   "id": "929cd2e0-5124-457e-b4a0-bc2c92e3ffc0",
   "metadata": {},
   "outputs": [],
   "source": [
    "working_dir_name = job_inputs['working_dir_name']\n",
    "ligand_resname = job_inputs['ligand_resname']\n",
    "crystal_pdb_fn = job_inputs['crystal_pdb_fn']"
   ]
  },
  {
   "cell_type": "code",
   "execution_count": 5,
   "id": "f3b545fd-ef48-4b68-a7f5-8b9418ac7dd4",
   "metadata": {},
   "outputs": [
    {
     "name": "stderr",
     "output_type": "stream",
     "text": [
      "/home/exouser/miniconda3/envs/openff/lib/python3.12/site-packages/MDAnalysis/topology/PDBParser.py:348: UserWarning: Unknown element  found for some atoms. These have been given an empty element record. If needed they can be guessed using MDAnalysis.topology.guessers.\n",
      "  warnings.warn(wmsg)\n",
      "/home/exouser/miniconda3/envs/openff/lib/python3.12/site-packages/MDAnalysis/topology/guessers.py:146: UserWarning: Failed to guess the mass for the following atom types: \n",
      "  warnings.warn(\"Failed to guess the mass for the following atom types: {}\".format(atom_type))\n"
     ]
    },
    {
     "name": "stdout",
     "output_type": "stream",
     "text": [
      "/media/volume/sdb/githubs/Bridgeport/gpcr_join_testing/receptor_crys.pdb True\n",
      "/media/volume/sdb/githubs/Bridgeport/gpcr_join_testing/ligand_crys.pdb True\n",
      "66 Atoms 72 Bonds 1 Residues\n",
      "66 Atoms 72 Bonds 1 Residues\n",
      "/media/volume/sdb/githubs/Bridgeport/gpcr_join_testing/ligand_crys_H.pdb True\n",
      "/media/volume/sdb/githubs/Bridgeport/gpcr_join_testing/ligand_crys.sdf True\n"
     ]
    }
   ],
   "source": [
    "receptor_path, ligand_sdf_path = Initter(crystal_pdb_fn, ligand_resname, working_dir_name).main()"
   ]
  },
  {
   "cell_type": "code",
   "execution_count": 6,
   "id": "a5657d18-b157-432a-a0a7-f3d823115c5c",
   "metadata": {},
   "outputs": [
    {
     "name": "stdout",
     "output_type": "stream",
     "text": [
      "Protanting using command line\n",
      "Running pdb2pqr30 --ff AMBER --nodebump --keep-chain --ffout AMBER --pdb-output /media/volume/sdb/githubs/Bridgeport/gpcr_join_testing/receptor_crys_H.pdb --with-ph 7 /media/volume/sdb/githubs/Bridgeport/gpcr_join_testing/receptor_crys.pdb /media/volume/sdb/githubs/Bridgeport/gpcr_join_testing/receptor_crys_H.pqr\n"
     ]
    },
    {
     "name": "stderr",
     "output_type": "stream",
     "text": [
      "INFO:PDB2PQR v3.6.2: biomolecular structure conversion software.\n",
      "INFO:Please cite:  Jurrus E, et al.  Improvements to the APBS biomolecular solvation software suite.  Protein Sci 27 112-128 (2018).\n",
      "INFO:Please cite:  Dolinsky TJ, et al.  PDB2PQR: expanding and upgrading automated preparation of biomolecular structures for molecular simulations. Nucleic Acids Res 35 W522-W525 (2007).\n",
      "INFO:Checking and transforming input arguments.\n",
      "INFO:Loading topology files.\n",
      "INFO:Loading molecule: /media/volume/sdb/githubs/Bridgeport/gpcr_join_testing/receptor_crys.pdb\n",
      "ERROR:Error parsing line: invalid literal for int() with base 10: ''\n",
      "ERROR:<REMARK     1/2 of bilayer thickness:   17.2>\n",
      "ERROR:Truncating remaining errors for record type:REMARK\n",
      "WARNING:Warning: /media/volume/sdb/githubs/Bridgeport/gpcr_join_testing/receptor_crys.pdb is a non-standard PDB file.\n",
      "\n",
      "ERROR:['REMARK']\n",
      "INFO:Setting up molecule.\n",
      "INFO:Created biomolecule object with 413 residues and 3249 atoms.\n",
      "WARNING:Multiple occupancies found: N in ILE A 238.\n",
      "WARNING:Multiple occupancies found: CA in ILE A 238.\n",
      "WARNING:Multiple occupancies found: C in ILE A 238.\n",
      "WARNING:Multiple occupancies found: O in ILE A 238.\n",
      "WARNING:Multiple occupancies found: CB in ILE A 238.\n",
      "WARNING:Multiple occupancies found: CG1 in ILE A 238.\n",
      "WARNING:Multiple occupancies found: CG2 in ILE A 238.\n",
      "WARNING:Multiple occupancies found: CD1 in ILE A 238.\n",
      "WARNING:Multiple occupancies found in ILE A 238. At least one of the instances is being ignored.\n",
      "WARNING:Multiple occupancies found: N in ARG A 258.\n",
      "WARNING:Multiple occupancies found: CA in ARG A 258.\n",
      "WARNING:Multiple occupancies found: C in ARG A 258.\n",
      "WARNING:Multiple occupancies found: O in ARG A 258.\n",
      "WARNING:Multiple occupancies found: CB in ARG A 258.\n",
      "WARNING:Multiple occupancies found: CG in ARG A 258.\n",
      "WARNING:Multiple occupancies found: CD in ARG A 258.\n",
      "WARNING:Multiple occupancies found: NE in ARG A 258.\n",
      "WARNING:Multiple occupancies found: CZ in ARG A 258.\n",
      "WARNING:Multiple occupancies found: NH1 in ARG A 258.\n",
      "WARNING:Multiple occupancies found: NH2 in ARG A 258.\n",
      "WARNING:Multiple occupancies found in ARG A 258. At least one of the instances is being ignored.\n",
      "WARNING:Multiple occupancies found: N in THR A 327.\n",
      "WARNING:Multiple occupancies found: CA in THR A 327.\n",
      "WARNING:Multiple occupancies found: C in THR A 327.\n",
      "WARNING:Multiple occupancies found: O in THR A 327.\n",
      "WARNING:Multiple occupancies found: CB in THR A 327.\n",
      "WARNING:Multiple occupancies found: OG1 in THR A 327.\n",
      "WARNING:Multiple occupancies found: CG2 in THR A 327.\n",
      "WARNING:Multiple occupancies found in THR A 327. At least one of the instances is being ignored.\n",
      "WARNING:Multiple occupancies found: N in ASN B 77.\n",
      "WARNING:Multiple occupancies found: CA in ASN B 77.\n",
      "WARNING:Multiple occupancies found: C in ASN B 77.\n",
      "WARNING:Multiple occupancies found: O in ASN B 77.\n",
      "WARNING:Multiple occupancies found: CB in ASN B 77.\n",
      "WARNING:Multiple occupancies found: CG in ASN B 77.\n",
      "WARNING:Multiple occupancies found: OD1 in ASN B 77.\n",
      "WARNING:Multiple occupancies found: ND2 in ASN B 77.\n",
      "WARNING:Multiple occupancies found in ASN B 77. At least one of the instances is being ignored.\n",
      "INFO:Setting termini states for biomolecule chains.\n",
      "WARNING:Gap in backbone detected between LEU A 56 and PRO A 58!\n",
      "WARNING:Gap in backbone detected between VAL B 102 and ASP B 110!\n",
      "INFO:Loading forcefield.\n",
      "INFO:Loading hydrogen topology definitions.\n",
      "WARNING:Missing atom CG in residue LYS A 269\n",
      "WARNING:Missing atom CD in residue LYS A 269\n",
      "WARNING:Missing atom CE in residue LYS A 269\n",
      "WARNING:Missing atom NZ in residue LYS A 269\n",
      "WARNING:Missing atom CG in residue GLU A 270\n",
      "WARNING:Missing atom CD in residue GLU A 270\n",
      "WARNING:Missing atom OE1 in residue GLU A 270\n",
      "WARNING:Missing atom OE2 in residue GLU A 270\n",
      "WARNING:Missing atom CG in residue ARG A 273\n",
      "WARNING:Missing atom CD in residue ARG A 273\n",
      "WARNING:Missing atom NE in residue ARG A 273\n",
      "WARNING:Missing atom CZ in residue ARG A 273\n",
      "WARNING:Missing atom NH1 in residue ARG A 273\n",
      "WARNING:Missing atom NH2 in residue ARG A 273\n",
      "WARNING:Missing atom OXT in residue PHE A 347\n",
      "WARNING:Missing atom OXT in residue ALA B 127\n",
      "WARNING:Missing atom CG in residue LYS A 269\n",
      "WARNING:Missing atom CD in residue LYS A 269\n",
      "WARNING:Missing atom CE in residue LYS A 269\n",
      "WARNING:Missing atom NZ in residue LYS A 269\n",
      "WARNING:Missing atom CG in residue GLU A 270\n",
      "WARNING:Missing atom CD in residue GLU A 270\n",
      "WARNING:Missing atom OE1 in residue GLU A 270\n",
      "WARNING:Missing atom OE2 in residue GLU A 270\n",
      "WARNING:Missing atom CG in residue ARG A 273\n",
      "WARNING:Missing atom CD in residue ARG A 273\n",
      "WARNING:Missing atom NE in residue ARG A 273\n",
      "WARNING:Missing atom CZ in residue ARG A 273\n",
      "WARNING:Missing atom NH1 in residue ARG A 273\n",
      "WARNING:Missing atom NH2 in residue ARG A 273\n",
      "WARNING:Missing atom OXT in residue PHE A 347\n",
      "WARNING:Missing atom OXT in residue ALA B 127\n",
      "INFO:Attempting to repair 16 missing atoms in biomolecule.\n",
      "WARNING:Missing atom CG in residue LYS A 269\n",
      "WARNING:Missing atom CD in residue LYS A 269\n",
      "WARNING:Missing atom CE in residue LYS A 269\n",
      "WARNING:Missing atom NZ in residue LYS A 269\n",
      "WARNING:Missing atom CG in residue GLU A 270\n",
      "WARNING:Missing atom CD in residue GLU A 270\n",
      "WARNING:Missing atom OE1 in residue GLU A 270\n",
      "WARNING:Missing atom OE2 in residue GLU A 270\n",
      "WARNING:Missing atom CG in residue ARG A 273\n",
      "WARNING:Missing atom CD in residue ARG A 273\n",
      "WARNING:Missing atom NE in residue ARG A 273\n",
      "WARNING:Missing atom CZ in residue ARG A 273\n",
      "WARNING:Missing atom NH1 in residue ARG A 273\n",
      "WARNING:Missing atom NH2 in residue ARG A 273\n",
      "WARNING:Missing atom OXT in residue PHE A 347\n",
      "WARNING:Missing atom OXT in residue ALA B 127\n",
      "INFO:Added atom CG to residue LYS A 269 at coordinates 7.451, -20.881, -34.204\n",
      "INFO:Added atom CD to residue LYS A 269 at coordinates 8.842, -21.176, -34.737\n",
      "INFO:Added atom CE to residue LYS A 269 at coordinates 8.995, -22.607, -35.199\n",
      "INFO:Added atom NZ to residue LYS A 269 at coordinates 10.368, -22.848, -35.711\n",
      "INFO:Added atom CG to residue GLU A 270 at coordinates 5.567, -14.496, -35.663\n",
      "INFO:Added atom CD to residue GLU A 270 at coordinates 5.065, -13.712, -36.833\n",
      "INFO:Added atom OE1 to residue GLU A 270 at coordinates 3.990, -13.128, -36.852\n",
      "INFO:Added atom OE2 to residue GLU A 270 at coordinates 5.861, -13.730, -37.794\n",
      "INFO:Added atom CG to residue ARG A 273 at coordinates 8.440, -16.023, -30.293\n",
      "INFO:Added atom CD to residue ARG A 273 at coordinates 9.173, -15.345, -31.396\n",
      "INFO:Added atom NE to residue ARG A 273 at coordinates 9.926, -16.287, -32.212\n",
      "INFO:Added atom CZ to residue ARG A 273 at coordinates 10.661, -15.922, -33.257\n",
      "INFO:Added atom NH1 to residue ARG A 273 at coordinates 10.604, -14.689, -33.749\n",
      "INFO:Added atom NH2 to residue ARG A 273 at coordinates 11.434, -16.824, -33.857\n",
      "INFO:Added atom OXT to residue PHE A 347 at coordinates 11.693, 7.344, -26.917\n",
      "INFO:Added atom OXT to residue ALA B 127 at coordinates -28.112, 9.569, -39.651\n",
      "INFO:Updating disulfide bridges.\n",
      "INFO:Adding hydrogens to biomolecule.\n",
      "INFO:Optimizing hydrogen bonds\n",
      "INFO:Applying force field to biomolecule states.\n",
      "INFO:Applying custom naming scheme (amber).\n",
      "INFO:Regenerating headers.\n",
      "INFO:Regenerating PDB lines.\n",
      "WARNING:Ignoring 465 header lines in output.\n",
      "WARNING:Ignoring 465 header lines in output.\n"
     ]
    },
    {
     "name": "stdout",
     "output_type": "stream",
     "text": [
      "Done with exit status 0\n",
      "/media/volume/sdb/githubs/Bridgeport/gpcr_join_testing/receptor_crys_H.pdb True\n",
      "/media/volume/sdb/githubs/Bridgeport/gpcr_join_testing/receptor_crys_H.pqr True\n",
      "/media/volume/sdb/githubs/Bridgeport/gpcr_join_testing/receptor_crys_H_MEM.pdb True\n"
     ]
    }
   ],
   "source": [
    "protein_solvated = ProteinPreparer(receptor_path).main()"
   ]
  },
  {
   "cell_type": "code",
   "execution_count": 7,
   "id": "9eb120e7-4e99-487d-8e9f-4c3c11bea74a",
   "metadata": {},
   "outputs": [
    {
     "name": "stderr",
     "output_type": "stream",
     "text": [
      "/media/volume/sdb/githubs/Bridgeport/ForceFieldHandler.py:82: UnitStrippedWarning: The unit of the quantity is stripped when downcasting to ndarray.\n",
      "  positions = np.array(interchange.positions) * nanometer\n"
     ]
    }
   ],
   "source": [
    "ligand_sys, ligand_top, ligand_positions = ForceFieldHandler(ligand_sdf_path).main()"
   ]
  },
  {
   "cell_type": "code",
   "execution_count": 8,
   "id": "e95ff7c5-eb64-41b3-8c00-822e1332c396",
   "metadata": {},
   "outputs": [],
   "source": [
    "receptor_sys, receptor_top, receptor_positions = ForceFieldHandler(protein_solvated).main()"
   ]
  },
  {
   "cell_type": "code",
   "execution_count": 9,
   "id": "0fdbfcf8-0c01-4b12-b619-c2ff96bfec29",
   "metadata": {},
   "outputs": [],
   "source": [
    "comp_sys, comp_top, comp_positions = Joiner((ligand_sys, ligand_top, ligand_positions),\n",
    "                                            (receptor_sys, receptor_top, receptor_positions)).main()"
   ]
  },
  {
   "cell_type": "code",
   "execution_count": 10,
   "id": "67520b6a-2cf6-46d2-a956-246d7d203431",
   "metadata": {},
   "outputs": [],
   "source": [
    "box_vectors = comp_sys.getDefaultPeriodicBoxVectors()\n",
    "\n",
    "translate = Quantity(np.array((box_vectors[0].x,\n",
    "                               box_vectors[1].y,\n",
    "                               box_vectors[2].z))/2,\n",
    "                     unit=nanometer)"
   ]
  },
  {
   "cell_type": "code",
   "execution_count": 11,
   "id": "e6ba97a5-da9f-4418-afee-657dd25a94bc",
   "metadata": {},
   "outputs": [],
   "source": [
    "integrator = LangevinIntegrator(300 * kelvin, 1/picosecond, 0.001 * picosecond)"
   ]
  },
  {
   "cell_type": "code",
   "execution_count": 12,
   "id": "41184208-1f7c-4d1e-ad39-a464d977dd07",
   "metadata": {},
   "outputs": [],
   "source": [
    "simulation = Simulation(comp_top, comp_sys, integrator)\n",
    "simulation.context.setPositions(comp_positions + translate)"
   ]
  },
  {
   "cell_type": "code",
   "execution_count": 13,
   "id": "2f5fcf32-bdef-4321-9a2f-44804018cf23",
   "metadata": {},
   "outputs": [
    {
     "name": "stdout",
     "output_type": "stream",
     "text": [
      "Original state has energy -1799027.22 kJ/mol  with maximum force 8071221.57 kJ/(mol nm)\n",
      "Time to build this simulation: 0:03:42.935349\n"
     ]
    }
   ],
   "source": [
    "#Evaluate and Report pre-minimized energy\n",
    "describe_state(simulation.context.getState(getEnergy=True, getForces=True), \"Original state\")\n",
    "end = datetime.now() - start\n",
    "print(f'Time to build this simulation: {end}')"
   ]
  },
  {
   "cell_type": "code",
   "execution_count": 14,
   "id": "83b751e7-7731-4d7a-a86a-25e828b9f067",
   "metadata": {},
   "outputs": [],
   "source": [
    "#Write Out (and try minimizing on a GPU)\n",
    "with open('result.pdb', 'w') as f:\n",
    "    PDBFile.writeFile(simulation.topology, simulation.context.getState(getPositions=True).getPositions(), f)\n",
    "    \n",
    "with open('result.xml', 'w') as f:\n",
    "    f.write(XmlSerializer.serialize(simulation.system))"
   ]
  }
 ],
 "metadata": {
  "kernelspec": {
   "display_name": "Python 3 (ipykernel)",
   "language": "python",
   "name": "python3"
  },
  "language_info": {
   "codemirror_mode": {
    "name": "ipython",
    "version": 3
   },
   "file_extension": ".py",
   "mimetype": "text/x-python",
   "name": "python",
   "nbconvert_exporter": "python",
   "pygments_lexer": "ipython3",
   "version": "3.12.1"
  }
 },
 "nbformat": 4,
 "nbformat_minor": 5
}
