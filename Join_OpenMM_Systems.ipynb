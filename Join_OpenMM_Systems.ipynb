{
 "cells": [
  {
   "cell_type": "code",
   "execution_count": 13,
   "id": "8f53efe8-2193-485d-9906-6c78de04013b",
   "metadata": {},
   "outputs": [],
   "source": [
    "import textwrap, sys, os, glob, shutil\n",
    "import numpy as np\n",
    "import MDAnalysis as mda\n",
    "from pdbfixer import PDBFixer\n",
    "from openbabel import openbabel\n",
    "from datetime import datetime\n",
    "#OpenFF\n",
    "import openff\n",
    "import openff.units\n",
    "import openff.toolkit\n",
    "import openff.interchange\n",
    "#OpenMM\n",
    "from openmm.app import *\n",
    "from openmm import *\n",
    "from openmm.unit import *"
   ]
  },
  {
   "cell_type": "markdown",
   "id": "78dd3c39-6e44-4dc4-8e1a-9e0c3bd029e5",
   "metadata": {},
   "source": [
    "## Steps to Prepare"
   ]
  },
  {
   "cell_type": "code",
   "execution_count": 14,
   "id": "fface765-669d-4005-9402-359887c99b61",
   "metadata": {},
   "outputs": [],
   "source": [
    "def change_resname(pdb_file_in, pdb_file_out, resname_in, resname_out):\n",
    "    \"\"\"\n",
    "    Changes a resname in a pdb file by changing all occurences of resname_in to resname_out\n",
    "    \n",
    "    \"\"\"\n",
    "\n",
    "    with open(pdb_file_in, 'r') as f:\n",
    "        lines = f.readlines()\n",
    "    print('Effected Lines:')\n",
    "    eff_lines = [line for line in lines if resname_in in line]\n",
    "    for line in eff_lines:\n",
    "        print(line, \"-->\", line.replace(resname_in, resname_out))\n",
    "    user_input = input(\"Confirm to make these changes [y/n] :\")\n",
    "    if user_input == 'y':\n",
    "        lines = [line.replace(resname_in, resname_out) for line in lines]\n",
    "        with open(pdb_file_out, 'w') as f:\n",
    "            f.writelines(lines)\n",
    "        return pdb_file_out\n",
    "    else:\n",
    "        print('Aborting....')\n",
    "        return None"
   ]
  },
  {
   "cell_type": "code",
   "execution_count": 15,
   "id": "02f6971f-9a6c-4409-b1d4-0f0c46e541a0",
   "metadata": {},
   "outputs": [],
   "source": [
    "#Bromodomains Testing\n",
    "#job_inputs = {'working_dir_name': 'bromodomains_testing',\n",
    "#              'ligand_resname': 'resname JQ1',\n",
    "#              'crystal_pdb_fn': '3mxf.pdb',\n",
    "#              'build_modes': ['SOL', 'SOL']}\n",
    "# GPCR Testing\n",
    "job_inputs = {'working_dir_name': 'gpcr_join_testing',\n",
    "              'ligand_resname': 'resname V4O',\n",
    "              'crystal_pdb_fn': '5c1m_V4O.pdb',\n",
    "              'build_modes': ['MEM', 'SOL']}"
   ]
  },
  {
   "cell_type": "code",
   "execution_count": 16,
   "id": "0debec28-a49a-4441-9b41-77ca20bcb13e",
   "metadata": {
    "scrolled": true
   },
   "outputs": [],
   "source": [
    "#If needed, produce a new file with a residue not named staring with a number.  4VO would throw error, but V4O will not (idk)\n",
    "#change_resname('5c1m.pdb', '5c1m_V4O.pdb', '4VO', 'V4O')"
   ]
  },
  {
   "cell_type": "code",
   "execution_count": 22,
   "id": "247b267a-92e3-4aa0-a0bb-86e904092df9",
   "metadata": {},
   "outputs": [],
   "source": [
    "class Simulation_Preparer():\n",
    "    def __init__(self, job_inputs):\n",
    "        #Declare Filenames\n",
    "        self.job_inputs = job_inputs\n",
    "        working_dir_name = job_inputs['working_dir_name']\n",
    "        self.ligand_resname = job_inputs['ligand_resname']\n",
    "        self.crystal_pdb_fn = job_inputs['crystal_pdb_fn']\n",
    "\n",
    "        self.abs_work_dir = os.path.join(os.getcwd(), working_dir_name)\n",
    "        if not os.path.isdir(self.abs_work_dir):\n",
    "            os.mkdir(self.abs_work_dir)\n",
    "\n",
    "    def align_two_proteins(self,\n",
    "                           protein_fn1,\n",
    "                           protein_fn2):\n",
    "        return NotImplmentedError('RIGHT ME')\n",
    "    \n",
    "    def seperate_crys_using_MDA(self,\n",
    "                                crys_pdb_fn: str,\n",
    "                                ligand_string: str,\n",
    "                                receptor_string: str = 'protein',\n",
    "                                ligand_pdb_fn: str = 'ligand_crys.pdb',\n",
    "                                receptor_pdb_fn: str = 'receptor_crys.pdb'):\n",
    "        \"\"\"\n",
    "        Loads the provided crystal structure, and seperates the atoms of resname LIGAND STRING into their own file\n",
    "        Arguments:\n",
    "            crys_pdb_fn: crystal structure to be seperated\n",
    "            ligand_string: MDAnalysis selection string for ligand\n",
    "            receptor_string: MDAnalysis selection string for receptor (default 'protein')\n",
    "            ligand_pdb_fn: Write path for MDAnalysis ligand (default 'ligand.pdb')\n",
    "            receptor_pdb_fn: Write path for MDAnalysis receptor (default 'receptor.pdb')\n",
    "        Returns:\n",
    "            receptor_pdb_fn: filename of the pdb file containing the receptor only\n",
    "            ligand_pdb_fn: filename of the pdb file containing the atoms from the LIGAND_STRING selection\n",
    "        \"\"\"\n",
    "        u = mda.Universe(crys_pdb_fn)\n",
    "        all_atoms = u.select_atoms('all')\n",
    "        receptor = all_atoms.select_atoms(receptor_string)\n",
    "        ligand = all_atoms.select_atoms(ligand_string)\n",
    "        receptor.write(os.path.join(self.abs_work_dir, receptor_pdb_fn))\n",
    "        ligand.write(os.path.join(self.abs_work_dir, ligand_pdb_fn))\n",
    "        return os.path.join(self.abs_work_dir, receptor_pdb_fn), os.path.join(self.abs_work_dir, ligand_pdb_fn)\n",
    "\n",
    "    def obabel_conversion(self,\n",
    "                          mol_fn: str,\n",
    "                          formats: list,\n",
    "                          out_fn: str = 'AUTO',\n",
    "                          add_Hs: bool = True,\n",
    "                          rewrite_with_Hs: bool = True):\n",
    "        \"\"\"\n",
    "        Convert a file to another format using openbabel.  Neither add_Hs, nore rewrite_with_Hs should be True if the input has hydrogens.\n",
    "        Arguments:\n",
    "            mol_fn: in_file_name : (THis should be infile.xxx where xxx = formats[0])\n",
    "            formats: 2-list of babel formats (in, out)\n",
    "            out_fn: Filename for the ligand with Hydrogens (if AUTO, it will be MOL_FN with the extension swapped to format[-1])\n",
    "            add_Hs: Bool: Whether adding hydrogens to the input file should be done (default True)\n",
    "            rewrite_with_Hs: Bool: Additionally rewrites the protonated ligand in the original file format (default True)\n",
    "        Returns:\n",
    "            str: The path of the converted file\n",
    "        Example:\n",
    "            obabel_conversion('ligand.pdb', ['pdb', 'sdf']) will attempt to protonate (by default) and convert a pdb file to sdf (named ligand.sdf)\n",
    "        \"\"\"\n",
    "        #Assertion checks\n",
    "        assert len(formats) == 2\n",
    "        #Obabel conversion block\n",
    "        obConversion = openbabel.OBConversion()\n",
    "        obConversion.SetInAndOutFormats(*formats)\n",
    "        mol = openbabel.OBMol()\n",
    "        #Find INput\n",
    "        if os.path.isfile(mol_fn):\n",
    "            obConversion.ReadFile(mol, mol_fn)\n",
    "        elif os.path.isfile(os.path.join(self.abs_work_dir, mol_fn)):\n",
    "            obConversion.ReadFile(mol, os.path.join(self.abs_work_dir, mol_fn))\n",
    "        else:\n",
    "            raise FileNotFoundError('mol_fn was not found')\n",
    "        #Add Hydrogens\n",
    "        if add_Hs:\n",
    "            mol.AddHydrogens()\n",
    "        print(mol.NumAtoms(), 'Atoms', mol.NumBonds(), 'Bonds', mol.NumResidues(), 'Residues')\n",
    "        #Output file name parsing\n",
    "        if out_fn == 'AUTO':\n",
    "            out_fn = os.path.splitext(mol_fn)[0] + '.' + formats[-1]\n",
    "        #Actually writeout the protonated file in the second format\n",
    "        obConversion.WriteFile(mol, out_fn)\n",
    "        \n",
    "        #Rewrite original format with Hydrogens (if necessary)\n",
    "        if rewrite_with_Hs:\n",
    "            #recursively use this function to convert from format 0 to format 0 again\n",
    "            org_form_new_fn = os.path.splitext(mol_fn)[0] + '_H.' + formats[0]\n",
    "            org_form_wHs_fn = self.obabel_conversion(mol_fn, [formats[0], formats[0]], out_fn=org_form_new_fn, add_Hs=True, rewrite_with_Hs=False)[0]\n",
    "            return (out_fn, org_form_wHs_fn)\n",
    "        else:\n",
    "            return (out_fn, None)\n",
    "\n",
    "    def protonate_with_pdb2pqr(self,\n",
    "                               protein_fn: str,\n",
    "                               protein_H_fn: str = None,\n",
    "                               at_pH=7):\n",
    "        \"\"\"\n",
    "        Protonates the given structure using pdb2pqr30\n",
    "        Parameters:\n",
    "            protein_fn: structure to be protonated\n",
    "            protein_H_fn: filepath for protonated receptor (as pdb)\n",
    "                          pqr output of pdb2pqr is inferred as protein_H_fn with a pqr extension instead of pdb\n",
    "            at_pH: pH for protonation (default 7)\n",
    "        Returns:\n",
    "            2-tuple = (protein_H_fn, protein_pqr_fn); file paths (as strings) to the protonated pdb and pqr file\n",
    "        \"\"\"\n",
    "        if protein_H_fn is None:\n",
    "            protein_H_fn = os.path.splitext(protein_fn)[0] + '_H' + os.path.splitext(protein_fn)[-1]\n",
    "        protein_pqr_fn = os.path.splitext(protein_H_fn)[0] + '.pqr'\n",
    "        my_cmd = f'pdb2pqr30 --ff AMBER --nodebump --keep-chain --ffout AMBER --pdb-output {protein_H_fn} --with-ph {at_pH} {protein_fn} {protein_pqr_fn}'\n",
    "        print('Protanting using command line')\n",
    "        print(f'Running {my_cmd}')\n",
    "        exit_status = os.system(my_cmd)\n",
    "        print(f'Done with exit status {exit_status}')\n",
    "        return protein_H_fn, protein_pqr_fn\n",
    "\n",
    "    def run_PDBFixer(self,\n",
    "                     in_pdbfile: str,\n",
    "                     mode: str = \"MEM\",\n",
    "                     out_file_fn: str = None,\n",
    "                     padding = 1.5,\n",
    "                     ionicStrength = 0.15):\n",
    "        \"\"\"\n",
    "        Generates a solvated and membrane-added system (depending on MODE)\n",
    "        MODE = 'MEM' for membrane and solvent\n",
    "        MODE = 'SOL' for solvent only\n",
    "        Parameters:\n",
    "            in_pdbfile: the structure to be solvated\n",
    "            mode: string: must be in ['MEM', 'SOL']\n",
    "            solvated_file_fn: Filename to save solvated system; default is to add '_solvated' between the body and extension of the input file name\n",
    "            padding: float or int: minimum nanometer distance between the boundary and any atoms in the input.  Default 1.5 nm = 15 A\n",
    "            ionicStrength: float (not int) : molar strength of ionic solution. Default 0.15 M = 150 mmol\n",
    "        Returns:\n",
    "            solvated_file_fn: the filename of the solvated output\n",
    "        \"\"\"\n",
    "        assert mode in ['MEM', 'SOL']\n",
    "        fixer = PDBFixer(in_pdbfile)\n",
    "\n",
    "        if mode == 'MEM':\n",
    "            fixer.addMembrane('POPC', minimumPadding=padding * nanometer, ionicStrength=ionicStrength * molar)\n",
    "        elif mode == 'SOL':\n",
    "            fixer.addSolvent(padding=padding * nanometer, ionicStrength=ionicStrength * molar)\n",
    "\n",
    "        fixer.addMissingHydrogens()\n",
    "        \n",
    "        # ADD PDBFixer hydrogens and parsing crystal structures (Hydrogens with pdb2pqr30 at the moment)\n",
    "        if out_file_fn is None:\n",
    "            out_file_fn = os.path.splitext(in_pdbfile)[0] + f'_{mode}' + os.path.splitext(in_pdbfile)[-1]\n",
    "        \n",
    "        with open(out_file_fn, \"w\") as f:\n",
    "            PDBFile.writeFile(fixer.topology, fixer.positions, f)\n",
    "        return out_file_fn\n",
    "\n",
    "    def insert_molecule_and_remove_clashes(self,\n",
    "                                           topology: openff.toolkit.Topology,\n",
    "                                           insert: openff.toolkit.Molecule,\n",
    "                                           radius: openff.units.Quantity = 1.5 * openff.units.unit.angstrom,\n",
    "                                           keep: list[openff.toolkit.Molecule] = []) -> openff.toolkit.Topology:\n",
    "        \"\"\"\n",
    "        Add a molecule to a copy of the topology, removing any clashing molecules.\n",
    "    \n",
    "        The molecule will be added to the end of the topology. A new topology is\n",
    "        returned; the input topology will not be altered. All molecules that\n",
    "        clash will be removed, and each removed molecule will be printed to stdout.\n",
    "        Users are responsible for ensuring that no important molecules have been\n",
    "        removed; the clash radius may be modified accordingly.\n",
    "    \n",
    "        Parameters\n",
    "        ==========\n",
    "        top\n",
    "            The topology to insert a molecule into\n",
    "        insert\n",
    "            The molecule to insert\n",
    "        radius\n",
    "            Any atom within this distance of any atom in the insert is considered\n",
    "            clashing.\n",
    "        keep\n",
    "            Keep copies of these molecules, even if they're clashing\n",
    "        \"\"\"\n",
    "        # We'll collect the molecules for the output topology into a list\n",
    "        new_top_mols = []\n",
    "        # A molecule's positions in a topology are stored as its zeroth conformer\n",
    "        insert_coordinates = insert.conformers[0][:, None, :]\n",
    "        for molecule in topology.molecules:\n",
    "            if any(keep_mol.is_isomorphic_with(molecule) for keep_mol in keep): #keep is an empty list by default\n",
    "                new_top_mols.append(molecule)\n",
    "                continue\n",
    "            molecule_coordinates = molecule.conformers[0][None, :, :]\n",
    "            diff_matrix = molecule_coordinates - insert_coordinates\n",
    "    \n",
    "            # np.linalg.norm doesn't work on Pint quantities 😢\n",
    "            working_unit = openff.units.unit.nanometer\n",
    "            distance_matrix = (np.linalg.norm(diff_matrix.m_as(working_unit), axis=-1) * working_unit)\n",
    "    \n",
    "            if distance_matrix.min() > radius:\n",
    "                # This molecule is not clashing, so add it to the topology\n",
    "                new_top_mols.append(molecule)\n",
    "            else:\n",
    "                print(f\"Removed {molecule.to_smiles()} molecule\")\n",
    "    \n",
    "        # Insert the ligand at the end\n",
    "        new_top_mols.append(insert)\n",
    "    \n",
    "        # This pattern of assembling a topology from a list of molecules\n",
    "        # ends up being much more efficient than adding each molecule\n",
    "        # to a new topology one at a time\n",
    "        new_top = openff.toolkit.Topology.from_molecules(new_top_mols)\n",
    "    \n",
    "        # Don't forget the box vectors!\n",
    "        new_top.box_vectors = topology.box_vectors\n",
    "        return new_top\n",
    "        \n",
    "    def generate_topologies(self,\n",
    "                            structure_file: str,\n",
    "                            ligand_to_insert: openff.toolkit.Molecule = None,\n",
    "                            json_save_fn: str = None):\n",
    "        \"\"\"\n",
    "        Convert the final structure files into OpenFF topologies\n",
    "        Parameters:\n",
    "            structure_file: the structure file to generate topology for\n",
    "            ligand_to_insert: If an openff toolkit openff.toolkit.Molecule type object is given, it will be inserted into the receptor.\n",
    "            save_as_json: If a filename is provided, a json file of the generated topology will be saved\n",
    "        Returns:\n",
    "            top: The generated topology\n",
    "        \"\"\"\n",
    "        #Create the topology of the complex phase\n",
    "        top = openff.toolkit.Topology.from_pdb(structure_file)\n",
    "        #Insert the ligand into this phase and remove clashes\n",
    "        if ligand_to_insert is not None:\n",
    "            top = self.insert_molecule_and_remove_clashes(top, ligand_to_insert)\n",
    "        if json_save_fn is not None:\n",
    "            with open(json_save_fn, \"w\") as f:\n",
    "                print(top.to_json(), file=f)\n",
    "        return top\n",
    "\n",
    "    def top2interchange(self, top: openff.toolkit.Topology, xmls: list):\n",
    "        \"\"\"\n",
    "        Convert an OpenFF openff.toolkit.Topology into and OpenFF Interchange (Can take a long time!)\n",
    "        This is the actual step where MD parameters are applied\n",
    "        Parameters:\n",
    "            top: the topology to be converted\n",
    "        Returns:\n",
    "            interchange: The interchange object which was created\n",
    "        \"\"\"\n",
    "        sage_ff14sb = openff.toolkit.ForceField(*xmls)\n",
    "        return sage_ff14sb.create_interchange(top)\n",
    "\n",
    "    def interchange2OpenmmSim(self,\n",
    "                              interchange,\n",
    "                             temp):\n",
    "        \"\"\"\n",
    "        Construct an openn simulation object from an openff interachange\n",
    "        \n",
    "        \"\"\"\n",
    "        # Construct and configure a Langevin integrator at 300 K with an appropriate friction constant and time-step\n",
    "        integrator = LangevinIntegrator(300 * kelvin, 1 / picosecond, 0.001 * picoseconds)\n",
    "        # Under the hood, this creates *OpenMM* `System` and `Topology` objects, then combines them together\n",
    "        simulation = interchange.to_openmm_simulation(integrator=integrator)\n",
    "        # Add a reporter to record the structure every 10 steps\n",
    "        dcd_reporter = DCDReporter(f\"trajectory.dcd\", 1000)\n",
    "        simulation.reporters.append(dcd_reporter)\n",
    "        simulation.reporters.append(StateDataReporter(sys.stdout, 1000, step=True, potentialEnergy=True, temperature=True))\n",
    "        #Evaluate and Report pre-minimized energy\n",
    "        describe_state(simulation.context.getState(getEnergy=True, getForces=True), \"Original state\")\n",
    "        #Minimize the structure\n",
    "        simulation.minimizeEnergy()\n",
    "        #Evaluate and Report post-minimized energy\n",
    "        describe_state(simulation.context.getState(getEnergy=True, getForces=True), \"Minimized state\")\n",
    "        simulation.context.setVelocitiesToTemperature(300 * kelvin)\n",
    "        return simulation"
   ]
  },
  {
   "cell_type": "markdown",
   "id": "9e0e9a90-1004-4624-b885-6de9bb1c54f3",
   "metadata": {},
   "source": [
    "Invoke the Class"
   ]
  },
  {
   "cell_type": "code",
   "execution_count": 23,
   "id": "fb40cf50-bac9-4049-977a-8e7ca0d18610",
   "metadata": {},
   "outputs": [],
   "source": [
    "start = datetime.now()\n",
    "self = Simulation_Preparer(job_inputs)"
   ]
  },
  {
   "cell_type": "markdown",
   "id": "59b6008f-9e35-4c2c-a2e4-aa1f8a36e1b8",
   "metadata": {},
   "source": [
    "Using the provided crystal structure, seperate into protein and ligand components.  THis is based on selection strings, by default the \"receptor\" is anything under the selection string \"protein\" and the \"ligand\" is the user provided selection string for \"ligand_resname\""
   ]
  },
  {
   "cell_type": "code",
   "execution_count": 24,
   "id": "841a9908-f7bf-42f2-a887-273629ff0471",
   "metadata": {},
   "outputs": [
    {
     "name": "stdout",
     "output_type": "stream",
     "text": [
      "/media/volume/sdb/githubs/Bridgeport/gpcr_join_testing/receptor_crys.pdb True\n",
      "/media/volume/sdb/githubs/Bridgeport/gpcr_join_testing/ligand_crys.pdb True\n"
     ]
    },
    {
     "name": "stderr",
     "output_type": "stream",
     "text": [
      "/home/exouser/miniconda3/envs/openff/lib/python3.12/site-packages/MDAnalysis/topology/PDBParser.py:348: UserWarning: Unknown element  found for some atoms. These have been given an empty element record. If needed they can be guessed using MDAnalysis.topology.guessers.\n",
      "  warnings.warn(wmsg)\n",
      "/home/exouser/miniconda3/envs/openff/lib/python3.12/site-packages/MDAnalysis/topology/guessers.py:146: UserWarning: Failed to guess the mass for the following atom types: \n",
      "  warnings.warn(\"Failed to guess the mass for the following atom types: {}\".format(atom_type))\n"
     ]
    }
   ],
   "source": [
    "receptor_path, ligand_path = self.seperate_crys_using_MDA(self.crystal_pdb_fn, self.ligand_resname)\n",
    "print(receptor_path, os.path.isfile(receptor_path))\n",
    "print(ligand_path, os.path.isfile(ligand_path))"
   ]
  },
  {
   "cell_type": "markdown",
   "id": "682d2bf9-dad1-4f44-b497-f9c08f74cd17",
   "metadata": {},
   "source": [
    "Utilize openbabel to convert the ligand file to sdf (the prefered input format for OpenFF), while also adding hydrogens"
   ]
  },
  {
   "cell_type": "code",
   "execution_count": 25,
   "id": "8a3150cd-26ec-4454-bc2e-b25fdce78b8c",
   "metadata": {},
   "outputs": [
    {
     "name": "stdout",
     "output_type": "stream",
     "text": [
      "66 Atoms 72 Bonds 1 Residues\n",
      "66 Atoms 72 Bonds 1 Residues\n",
      "/media/volume/sdb/githubs/Bridgeport/gpcr_join_testing/ligand_crys_H.pdb True\n",
      "/media/volume/sdb/githubs/Bridgeport/gpcr_join_testing/ligand_crys.sdf True\n"
     ]
    }
   ],
   "source": [
    "ligand_sdf_path, ligand_protonated = self.obabel_conversion(ligand_path, ['pdb', 'sdf'], out_fn='AUTO', add_Hs=True, rewrite_with_Hs=True)\n",
    "print(ligand_protonated, os.path.isfile(ligand_protonated))\n",
    "print(ligand_sdf_path, os.path.isfile(ligand_sdf_path))"
   ]
  },
  {
   "cell_type": "markdown",
   "id": "ae0c2e7f-64c8-4b42-a012-02a1c6925367",
   "metadata": {},
   "source": [
    "Define the Ligand as an OpenFF molecule"
   ]
  },
  {
   "cell_type": "code",
   "execution_count": 26,
   "id": "ad30d3b1-9a8a-4a73-93d0-8a83088ebc20",
   "metadata": {},
   "outputs": [
    {
     "name": "stdout",
     "output_type": "stream",
     "text": [
      "<class 'openff.toolkit.topology.molecule.Molecule'> CO[C@]12CC[C@]34C[C@@]1(C)[C@H](c1ccccc1)N[C@H]2[C@@]31CCN(C)[C@@H]4Cc2ccc(O)cc21\n"
     ]
    }
   ],
   "source": [
    "self.ligand = openff.toolkit.Molecule.from_file(ligand_sdf_path)\n",
    "print(type(self.ligand), self.ligand.to_smiles(explicit_hydrogens=False))"
   ]
  },
  {
   "cell_type": "markdown",
   "id": "effffbf2-fa0f-42fd-8185-4411714c0540",
   "metadata": {},
   "source": [
    "Obtain the Ligand as an OpenMM System"
   ]
  },
  {
   "cell_type": "code",
   "execution_count": 27,
   "id": "c3b39b23-d27c-4da4-906c-ab8af842a56e",
   "metadata": {},
   "outputs": [],
   "source": [
    "sage_ff = openff.toolkit.ForceField('openff-2.1.0.offxml')"
   ]
  },
  {
   "cell_type": "code",
   "execution_count": 28,
   "id": "fd2c36d0-090c-41ba-8ce8-6d8208578bab",
   "metadata": {},
   "outputs": [],
   "source": [
    "cubic_box = openff.units.Quantity(30 * np.eye(3), openff.units.unit.angstrom)\n",
    "interchange = openff.interchange.Interchange.from_smirnoff(topology=[self.ligand], force_field=sage_ff, box=cubic_box)"
   ]
  },
  {
   "cell_type": "code",
   "execution_count": 29,
   "id": "36991129-1363-45c8-808a-cca6845561b8",
   "metadata": {},
   "outputs": [
    {
     "name": "stderr",
     "output_type": "stream",
     "text": [
      "/tmp/ipykernel_48567/3350557486.py:1: UnitStrippedWarning: The unit of the quantity is stripped when downcasting to ndarray.\n",
      "  ligand_positions = np.array(interchange.positions) * nanometer\n"
     ]
    }
   ],
   "source": [
    "ligand_positions = np.array(interchange.positions) * nanometer\n",
    "ligand_sys = interchange.to_openmm_system()\n",
    "ligand_top = interchange.to_openmm_topology()"
   ]
  },
  {
   "cell_type": "markdown",
   "id": "40076083-d2d2-4838-85f8-9f29b864a885",
   "metadata": {},
   "source": [
    "Protonate the protiein using pdb2pqr30 on the command line"
   ]
  },
  {
   "cell_type": "code",
   "execution_count": 30,
   "id": "de1b2467-17bd-461e-9995-dc09e06a50f1",
   "metadata": {},
   "outputs": [
    {
     "name": "stdout",
     "output_type": "stream",
     "text": [
      "Protanting using command line\n",
      "Running pdb2pqr30 --ff AMBER --nodebump --keep-chain --ffout AMBER --pdb-output /media/volume/sdb/githubs/Bridgeport/gpcr_join_testing/receptor_crys_H.pdb --with-ph 7 /media/volume/sdb/githubs/Bridgeport/gpcr_join_testing/receptor_crys.pdb /media/volume/sdb/githubs/Bridgeport/gpcr_join_testing/receptor_crys_H.pqr\n"
     ]
    },
    {
     "name": "stderr",
     "output_type": "stream",
     "text": [
      "INFO:PDB2PQR v3.6.2: biomolecular structure conversion software.\n",
      "INFO:Please cite:  Jurrus E, et al.  Improvements to the APBS biomolecular solvation software suite.  Protein Sci 27 112-128 (2018).\n",
      "INFO:Please cite:  Dolinsky TJ, et al.  PDB2PQR: expanding and upgrading automated preparation of biomolecular structures for molecular simulations. Nucleic Acids Res 35 W522-W525 (2007).\n",
      "INFO:Checking and transforming input arguments.\n",
      "INFO:Loading topology files.\n",
      "INFO:Loading molecule: /media/volume/sdb/githubs/Bridgeport/gpcr_join_testing/receptor_crys.pdb\n",
      "ERROR:Error parsing line: invalid literal for int() with base 10: ''\n",
      "ERROR:<REMARK     1/2 of bilayer thickness:   17.2>\n",
      "ERROR:Truncating remaining errors for record type:REMARK\n",
      "WARNING:Warning: /media/volume/sdb/githubs/Bridgeport/gpcr_join_testing/receptor_crys.pdb is a non-standard PDB file.\n",
      "\n",
      "ERROR:['REMARK']\n",
      "INFO:Setting up molecule.\n",
      "INFO:Created biomolecule object with 413 residues and 3249 atoms.\n",
      "WARNING:Multiple occupancies found: N in ILE A 238.\n",
      "WARNING:Multiple occupancies found: CA in ILE A 238.\n",
      "WARNING:Multiple occupancies found: C in ILE A 238.\n",
      "WARNING:Multiple occupancies found: O in ILE A 238.\n",
      "WARNING:Multiple occupancies found: CB in ILE A 238.\n",
      "WARNING:Multiple occupancies found: CG1 in ILE A 238.\n",
      "WARNING:Multiple occupancies found: CG2 in ILE A 238.\n",
      "WARNING:Multiple occupancies found: CD1 in ILE A 238.\n",
      "WARNING:Multiple occupancies found in ILE A 238. At least one of the instances is being ignored.\n",
      "WARNING:Multiple occupancies found: N in ARG A 258.\n",
      "WARNING:Multiple occupancies found: CA in ARG A 258.\n",
      "WARNING:Multiple occupancies found: C in ARG A 258.\n",
      "WARNING:Multiple occupancies found: O in ARG A 258.\n",
      "WARNING:Multiple occupancies found: CB in ARG A 258.\n",
      "WARNING:Multiple occupancies found: CG in ARG A 258.\n",
      "WARNING:Multiple occupancies found: CD in ARG A 258.\n",
      "WARNING:Multiple occupancies found: NE in ARG A 258.\n",
      "WARNING:Multiple occupancies found: CZ in ARG A 258.\n",
      "WARNING:Multiple occupancies found: NH1 in ARG A 258.\n",
      "WARNING:Multiple occupancies found: NH2 in ARG A 258.\n",
      "WARNING:Multiple occupancies found in ARG A 258. At least one of the instances is being ignored.\n",
      "WARNING:Multiple occupancies found: N in THR A 327.\n",
      "WARNING:Multiple occupancies found: CA in THR A 327.\n",
      "WARNING:Multiple occupancies found: C in THR A 327.\n",
      "WARNING:Multiple occupancies found: O in THR A 327.\n",
      "WARNING:Multiple occupancies found: CB in THR A 327.\n",
      "WARNING:Multiple occupancies found: OG1 in THR A 327.\n",
      "WARNING:Multiple occupancies found: CG2 in THR A 327.\n",
      "WARNING:Multiple occupancies found in THR A 327. At least one of the instances is being ignored.\n",
      "WARNING:Multiple occupancies found: N in ASN B 77.\n",
      "WARNING:Multiple occupancies found: CA in ASN B 77.\n",
      "WARNING:Multiple occupancies found: C in ASN B 77.\n",
      "WARNING:Multiple occupancies found: O in ASN B 77.\n",
      "WARNING:Multiple occupancies found: CB in ASN B 77.\n",
      "WARNING:Multiple occupancies found: CG in ASN B 77.\n",
      "WARNING:Multiple occupancies found: OD1 in ASN B 77.\n",
      "WARNING:Multiple occupancies found: ND2 in ASN B 77.\n",
      "WARNING:Multiple occupancies found in ASN B 77. At least one of the instances is being ignored.\n",
      "INFO:Setting termini states for biomolecule chains.\n",
      "WARNING:Gap in backbone detected between LEU A 56 and PRO A 58!\n",
      "WARNING:Gap in backbone detected between VAL B 102 and ASP B 110!\n",
      "INFO:Loading forcefield.\n",
      "INFO:Loading hydrogen topology definitions.\n",
      "WARNING:Missing atom CG in residue LYS A 269\n",
      "WARNING:Missing atom CD in residue LYS A 269\n",
      "WARNING:Missing atom CE in residue LYS A 269\n",
      "WARNING:Missing atom NZ in residue LYS A 269\n",
      "WARNING:Missing atom CG in residue GLU A 270\n",
      "WARNING:Missing atom CD in residue GLU A 270\n",
      "WARNING:Missing atom OE1 in residue GLU A 270\n",
      "WARNING:Missing atom OE2 in residue GLU A 270\n",
      "WARNING:Missing atom CG in residue ARG A 273\n",
      "WARNING:Missing atom CD in residue ARG A 273\n",
      "WARNING:Missing atom NE in residue ARG A 273\n",
      "WARNING:Missing atom CZ in residue ARG A 273\n",
      "WARNING:Missing atom NH1 in residue ARG A 273\n",
      "WARNING:Missing atom NH2 in residue ARG A 273\n",
      "WARNING:Missing atom OXT in residue PHE A 347\n",
      "WARNING:Missing atom OXT in residue ALA B 127\n",
      "WARNING:Missing atom CG in residue LYS A 269\n",
      "WARNING:Missing atom CD in residue LYS A 269\n",
      "WARNING:Missing atom CE in residue LYS A 269\n",
      "WARNING:Missing atom NZ in residue LYS A 269\n",
      "WARNING:Missing atom CG in residue GLU A 270\n",
      "WARNING:Missing atom CD in residue GLU A 270\n",
      "WARNING:Missing atom OE1 in residue GLU A 270\n",
      "WARNING:Missing atom OE2 in residue GLU A 270\n",
      "WARNING:Missing atom CG in residue ARG A 273\n",
      "WARNING:Missing atom CD in residue ARG A 273\n",
      "WARNING:Missing atom NE in residue ARG A 273\n",
      "WARNING:Missing atom CZ in residue ARG A 273\n",
      "WARNING:Missing atom NH1 in residue ARG A 273\n",
      "WARNING:Missing atom NH2 in residue ARG A 273\n",
      "WARNING:Missing atom OXT in residue PHE A 347\n",
      "WARNING:Missing atom OXT in residue ALA B 127\n",
      "INFO:Attempting to repair 16 missing atoms in biomolecule.\n",
      "WARNING:Missing atom CG in residue LYS A 269\n",
      "WARNING:Missing atom CD in residue LYS A 269\n",
      "WARNING:Missing atom CE in residue LYS A 269\n",
      "WARNING:Missing atom NZ in residue LYS A 269\n",
      "WARNING:Missing atom CG in residue GLU A 270\n",
      "WARNING:Missing atom CD in residue GLU A 270\n",
      "WARNING:Missing atom OE1 in residue GLU A 270\n",
      "WARNING:Missing atom OE2 in residue GLU A 270\n",
      "WARNING:Missing atom CG in residue ARG A 273\n",
      "WARNING:Missing atom CD in residue ARG A 273\n",
      "WARNING:Missing atom NE in residue ARG A 273\n",
      "WARNING:Missing atom CZ in residue ARG A 273\n",
      "WARNING:Missing atom NH1 in residue ARG A 273\n",
      "WARNING:Missing atom NH2 in residue ARG A 273\n",
      "WARNING:Missing atom OXT in residue PHE A 347\n",
      "WARNING:Missing atom OXT in residue ALA B 127\n",
      "INFO:Added atom CG to residue LYS A 269 at coordinates 7.451, -20.881, -34.204\n",
      "INFO:Added atom CD to residue LYS A 269 at coordinates 8.842, -21.176, -34.737\n",
      "INFO:Added atom CE to residue LYS A 269 at coordinates 8.995, -22.607, -35.199\n",
      "INFO:Added atom NZ to residue LYS A 269 at coordinates 10.368, -22.848, -35.711\n",
      "INFO:Added atom CG to residue GLU A 270 at coordinates 5.567, -14.496, -35.663\n",
      "INFO:Added atom CD to residue GLU A 270 at coordinates 5.065, -13.712, -36.833\n",
      "INFO:Added atom OE1 to residue GLU A 270 at coordinates 3.990, -13.128, -36.852\n",
      "INFO:Added atom OE2 to residue GLU A 270 at coordinates 5.861, -13.730, -37.794\n",
      "INFO:Added atom CG to residue ARG A 273 at coordinates 8.440, -16.023, -30.293\n",
      "INFO:Added atom CD to residue ARG A 273 at coordinates 9.173, -15.345, -31.396\n",
      "INFO:Added atom NE to residue ARG A 273 at coordinates 9.926, -16.287, -32.212\n",
      "INFO:Added atom CZ to residue ARG A 273 at coordinates 10.661, -15.922, -33.257\n",
      "INFO:Added atom NH1 to residue ARG A 273 at coordinates 10.604, -14.689, -33.749\n",
      "INFO:Added atom NH2 to residue ARG A 273 at coordinates 11.434, -16.824, -33.857\n",
      "INFO:Added atom OXT to residue PHE A 347 at coordinates 11.693, 7.344, -26.917\n",
      "INFO:Added atom OXT to residue ALA B 127 at coordinates -28.112, 9.569, -39.651\n",
      "INFO:Updating disulfide bridges.\n",
      "INFO:Adding hydrogens to biomolecule.\n",
      "INFO:Optimizing hydrogen bonds\n"
     ]
    },
    {
     "name": "stdout",
     "output_type": "stream",
     "text": [
      "Done with exit status 0\n",
      "/media/volume/sdb/githubs/Bridgeport/gpcr_join_testing/receptor_crys_H.pdb True\n",
      "/media/volume/sdb/githubs/Bridgeport/gpcr_join_testing/receptor_crys_H.pqr True\n"
     ]
    },
    {
     "name": "stderr",
     "output_type": "stream",
     "text": [
      "INFO:Applying force field to biomolecule states.\n",
      "INFO:Applying custom naming scheme (amber).\n",
      "INFO:Regenerating headers.\n",
      "INFO:Regenerating PDB lines.\n",
      "WARNING:Ignoring 465 header lines in output.\n",
      "WARNING:Ignoring 465 header lines in output.\n"
     ]
    }
   ],
   "source": [
    "protein_protonated, protein_pqr = self.protonate_with_pdb2pqr(receptor_path, at_pH=7)\n",
    "print(protein_protonated, os.path.isfile(protein_protonated))\n",
    "print(protein_pqr, os.path.isfile(protein_pqr))"
   ]
  },
  {
   "cell_type": "code",
   "execution_count": 31,
   "id": "68670502-5a35-49ba-9ece-c7b6b13c1733",
   "metadata": {},
   "outputs": [],
   "source": [
    "openmm_ff = ForceField('amber14/protein.ff14SB.xml', 'amber14/lipid17.xml', 'wat_opc3.xml')"
   ]
  },
  {
   "cell_type": "markdown",
   "id": "4972e89d-0c64-451c-aa4d-968e70ee8b08",
   "metadata": {},
   "source": [
    "Solvate the receptor (without the ligand still), in Membrane or water depending on the Build Mode specified in the input file. \n",
    "\n",
    "This can take a while for membrane proteins..."
   ]
  },
  {
   "cell_type": "code",
   "execution_count": 32,
   "id": "ca3da2b0-99cc-4365-b3be-fd3ff7f34c83",
   "metadata": {},
   "outputs": [
    {
     "name": "stdout",
     "output_type": "stream",
     "text": [
      "/media/volume/sdb/githubs/Bridgeport/gpcr_join_testing/receptor_crys_H_MEM.pdb True\n"
     ]
    }
   ],
   "source": [
    "self.protein_solvated = self.run_PDBFixer(protein_protonated, mode=self.job_inputs['build_modes'][0], padding=1.5, ionicStrength=0.15)\n",
    "print(self.protein_solvated, os.path.isfile(self.protein_solvated))"
   ]
  },
  {
   "cell_type": "markdown",
   "id": "f379b4b2-800d-42a9-b482-a443917c710f",
   "metadata": {},
   "source": [
    "Solvate the ligand in it's own small box (should it be needed as a second phase of FE calculation)"
   ]
  },
  {
   "cell_type": "code",
   "execution_count": 33,
   "id": "cf8514e0-6990-4f23-a392-1d0200e484ac",
   "metadata": {},
   "outputs": [],
   "source": [
    "#ligand_solvated = self.run_PDBFixer(ligand_protonated, mode=self.job_inputs['build_modes'][1], padding=1.5, ionicStrength=0.15)\n",
    "#print(ligand_solvated, os.path.isfile(ligand_solvated))"
   ]
  },
  {
   "cell_type": "code",
   "execution_count": 34,
   "id": "db7b5cd0-02cc-4a34-92aa-56b2840c70bd",
   "metadata": {},
   "outputs": [],
   "source": [
    "pdb = PDBFile(self.protein_solvated)\n",
    "receptor_top, receptor_positions = pdb.getTopology(), pdb.getPositions()\n",
    "receptor_sys = openmm_ff.createSystem(receptor_top, nonbondedMethod=PME)"
   ]
  },
  {
   "cell_type": "code",
   "execution_count": 35,
   "id": "0fdbfcf8-0c01-4b12-b619-c2ff96bfec29",
   "metadata": {},
   "outputs": [],
   "source": [
    "box_vectors = receptor_sys.getDefaultPeriodicBoxVectors()\n",
    "\n",
    "translate = Quantity(np.array((box_vectors[0].x,\n",
    "                               box_vectors[1].y,\n",
    "                               box_vectors[2].z))/2,\n",
    "                     unit=nanometer)"
   ]
  },
  {
   "cell_type": "code",
   "execution_count": 36,
   "id": "6cc96fb4-ece9-4d3c-a058-8d1f3c0a6501",
   "metadata": {},
   "outputs": [],
   "source": [
    "#Write Out Receptor Only system (for testing)\n",
    "with open('test_translate_reconly.pdb', 'w') as f:\n",
    "    PDBFile.writeFile(receptor_top, receptor_positions + translate, f)\n",
    "    \n",
    "with open('test_translate_reconly.xml', 'w') as f:\n",
    "    f.write(XmlSerializer.serialize(receptor_sys))"
   ]
  },
  {
   "cell_type": "code",
   "execution_count": 37,
   "id": "39c18a62-3a93-4567-8ff2-fe20d7c7337c",
   "metadata": {},
   "outputs": [],
   "source": [
    "def join_two_topologies(tops: tuple, poss: tuple):\n",
    "    \"\"\"\n",
    "    Joins two topologies by adding the first to the second\n",
    "    Parameters:\n",
    "        tops: A two-tuple of openmm Topologies\n",
    "    Return\n",
    "    \"\"\"\n",
    "    assert len(tops) == 2 and len(poss) == 2\n",
    "    modeller = Modeller(tops[0], poss[0])\n",
    "    modeller.add(tops[1], poss[1])\n",
    "    return modeller.topology, modeller.positions\n",
    "\n",
    "def describe_system(sys: System):\n",
    "    box_vecs = sys.getDefaultPeriodicBoxVectors()\n",
    "    print('Box Vectors')\n",
    "    [print(box_vec) for box_vec in box_vecs]\n",
    "    forces = sys.getForces()\n",
    "    print('Forces')\n",
    "    [print(force) for force in forces]\n",
    "    num_particles = sys.getNumParticles()\n",
    "    print(num_particles, 'Particles')\n",
    "\n",
    "def describe_state(state: State, name: str = \"State\"):\n",
    "    max_force = max(np.sqrt(v.x**2 + v.y**2 + v.z**2) for v in state.getForces())\n",
    "    print(f\"{name} has energy {round(state.getPotentialEnergy()._value, 2)} kJ/mol \",\n",
    "          f\"with maximum force {round(max_force, 2)} kJ/(mol nm)\")\n",
    "\n",
    "def join_two_systems(sys1: System, sys2: System):\n",
    "    \"\"\"\n",
    "    Joins Two Openmm systems by adding the elements of system 1 to system 2\n",
    "    Intended use in this notebook is join_two_systems(ligand_sys, receptor_sys)\n",
    "    \n",
    "    Parameters:\n",
    "        sys1 - The openmm system to be added to sys2\n",
    "        sys2 - The openmm system to have sys1 added to\n",
    "    Returns\n",
    "        System - The combined system\n",
    "    \"\"\"\n",
    "    #Particles\n",
    "    new_particle_indices = []\n",
    "    for i in range(sys1.getNumParticles()):\n",
    "        new_particle_indices.append(sys2.addParticle(sys1.getParticleMass(i)))\n",
    "    \n",
    "    #Contstraints (mostly wrt hydrogen distances)\n",
    "    for i in range(sys1.getNumConstraints()):\n",
    "        params = sys1.getConstraintParameters(i)\n",
    "        params[0] = new_particle_indices[params[0]]\n",
    "        params[1] = new_particle_indices[params[1]]\n",
    "        sys2.addConstraint(*params)\n",
    "    \n",
    "    #NonBonded\n",
    "    sys1_force_name = 'Nonbonded force'\n",
    "    sys2_force_name = 'NonbondedForce'\n",
    "    \n",
    "    force_ind = [force.getName() for force in sys1.getForces()].index(sys1_force_name)\n",
    "    sys1_force = sys1.getForces()[force_ind]\n",
    "    \n",
    "    force_ind = [force.getName() for force in sys2.getForces()].index(sys2_force_name)\n",
    "    sys2_force = sys2.getForces()[force_ind]\n",
    "    \n",
    "    for i in range(sys1_force.getNumParticles()):\n",
    "        params = sys1_force.getParticleParameters(i)\n",
    "        sys2_force.addParticle(*params)\n",
    "    \n",
    "    for i in range(sys1_force.getNumExceptions()):\n",
    "        params = sys1_force.getExceptionParameters(i)\n",
    "        params[0] = new_particle_indices[params[0]]\n",
    "        params[1] = new_particle_indices[params[1]]\n",
    "        sys2_force.addException(*params)\n",
    "\n",
    "    #Torsion\n",
    "    sys1_force_name = 'PeriodicTorsionForce'\n",
    "    sys2_force_name = 'PeriodicTorsionForce'\n",
    "    \n",
    "    force_ind = [force.getName() for force in sys1.getForces()].index(sys1_force_name)\n",
    "    sys1_force = sys1.getForces()[force_ind]\n",
    "    \n",
    "    force_ind = [force.getName() for force in sys2.getForces()].index(sys2_force_name)\n",
    "    sys2_force = sys2.getForces()[force_ind]\n",
    "    \n",
    "    for i in range(sys1_force.getNumTorsions()):\n",
    "        params = sys1_force.getTorsionParameters(i)\n",
    "        params[0] = new_particle_indices[params[0]]\n",
    "        params[1] = new_particle_indices[params[1]]\n",
    "        params[2] = new_particle_indices[params[2]]\n",
    "        params[3] = new_particle_indices[params[3]]\n",
    "        sys2_force.addTorsion(*params)\n",
    "\n",
    "    #Angle\n",
    "    sys1_force_name = 'HarmonicAngleForce'\n",
    "    sys2_force_name = 'HarmonicAngleForce'\n",
    "    \n",
    "    force_ind = [force.getName() for force in sys1.getForces()].index(sys1_force_name)\n",
    "    sys1_force = sys1.getForces()[force_ind]\n",
    "    \n",
    "    force_ind = [force.getName() for force in sys2.getForces()].index(sys2_force_name)\n",
    "    sys2_force = sys2.getForces()[force_ind]\n",
    "    \n",
    "    for i in range(sys1_force.getNumAngles()):\n",
    "        params = sys1_force.getAngleParameters(i)\n",
    "        params[0] = new_particle_indices[params[0]]\n",
    "        params[1] = new_particle_indices[params[1]]\n",
    "        params[2] = new_particle_indices[params[2]]\n",
    "        sys2_force.addAngle(*params)\n",
    "\n",
    "    #Bond\n",
    "    sys1_force_name = 'HarmonicBondForce'\n",
    "    sys2_force_name = 'HarmonicBondForce'\n",
    "    \n",
    "    force_ind = [force.getName() for force in sys1.getForces()].index(sys1_force_name)\n",
    "    sys1_force = sys1.getForces()[force_ind]\n",
    "    \n",
    "    force_ind = [force.getName() for force in sys2.getForces()].index(sys2_force_name)\n",
    "    sys2_force = sys2.getForces()[force_ind]\n",
    "    \n",
    "    for i in range(sys1_force.getNumBonds()):\n",
    "        params = sys1_force.getBondParameters(i)\n",
    "        params[0] = new_particle_indices[params[0]]\n",
    "        params[1] = new_particle_indices[params[1]]\n",
    "        sys2_force.addBond(*params)\n",
    "    \n",
    "    return sys2"
   ]
  },
  {
   "cell_type": "code",
   "execution_count": 38,
   "id": "20573d9c-e772-46aa-a277-3b60905e3dee",
   "metadata": {},
   "outputs": [],
   "source": [
    "comp_top, comp_positions = join_two_topologies((receptor_top, ligand_top), (receptor_positions, ligand_positions))"
   ]
  },
  {
   "cell_type": "markdown",
   "id": "12433bc7-4782-4e41-9f7e-1bf3bd7b4d11",
   "metadata": {},
   "source": [
    "com_positions needs to be moved by the PeriodicBoxVectors/2 in each direction, as the origin is the center of the OPM structure"
   ]
  },
  {
   "cell_type": "code",
   "execution_count": 39,
   "id": "15c1605e-7ae3-49e6-bfbf-74936ebb3fd9",
   "metadata": {},
   "outputs": [],
   "source": [
    "comp_sys = join_two_systems(ligand_sys, receptor_sys)"
   ]
  },
  {
   "cell_type": "code",
   "execution_count": 40,
   "id": "e6ba97a5-da9f-4418-afee-657dd25a94bc",
   "metadata": {},
   "outputs": [],
   "source": [
    "integrator = LangevinIntegrator(300 * kelvin, 1/picosecond, 0.001 * picosecond)"
   ]
  },
  {
   "cell_type": "code",
   "execution_count": 41,
   "id": "41184208-1f7c-4d1e-ad39-a464d977dd07",
   "metadata": {},
   "outputs": [],
   "source": [
    "simulation = Simulation(comp_top, receptor_sys, integrator)\n",
    "simulation.context.setPositions(comp_positions + translate)"
   ]
  },
  {
   "cell_type": "code",
   "execution_count": 42,
   "id": "2f5fcf32-bdef-4321-9a2f-44804018cf23",
   "metadata": {},
   "outputs": [
    {
     "name": "stdout",
     "output_type": "stream",
     "text": [
      "Original state has energy -1800778.36 kJ/mol  with maximum force 8071191.92 kJ/(mol nm)\n",
      "Time to build this simulation: 0:04:08.874151\n"
     ]
    }
   ],
   "source": [
    "#Evaluate and Report pre-minimized energy\n",
    "describe_state(simulation.context.getState(getEnergy=True, getForces=True), \"Original state\")\n",
    "end = datetime.now() - start\n",
    "print(f'Time to build this simulation: {end}')"
   ]
  },
  {
   "cell_type": "code",
   "execution_count": 43,
   "id": "83b751e7-7731-4d7a-a86a-25e828b9f067",
   "metadata": {},
   "outputs": [],
   "source": [
    "#Write Out (and try minimizing on a GPU)\n",
    "with open('test_translate_result.pdb', 'w') as f:\n",
    "    PDBFile.writeFile(simulation.topology, simulation.context.getState(getPositions=True).getPositions(), f)\n",
    "    \n",
    "with open('test_translate_result.xml', 'w') as f:\n",
    "    f.write(XmlSerializer.serialize(simulation.system))"
   ]
  },
  {
   "cell_type": "code",
   "execution_count": null,
   "id": "362365d8-1eb0-4898-96d6-f76988f80653",
   "metadata": {},
   "outputs": [],
   "source": []
  },
  {
   "cell_type": "code",
   "execution_count": null,
   "id": "15112a21-5d73-4023-a265-69db12545c43",
   "metadata": {},
   "outputs": [],
   "source": []
  }
 ],
 "metadata": {
  "kernelspec": {
   "display_name": "Python 3 (ipykernel)",
   "language": "python",
   "name": "python3"
  },
  "language_info": {
   "codemirror_mode": {
    "name": "ipython",
    "version": 3
   },
   "file_extension": ".py",
   "mimetype": "text/x-python",
   "name": "python",
   "nbconvert_exporter": "python",
   "pygments_lexer": "ipython3",
   "version": "3.12.1"
  }
 },
 "nbformat": 4,
 "nbformat_minor": 5
}
