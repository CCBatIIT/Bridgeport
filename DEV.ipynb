{
 "cells": [
  {
   "cell_type": "code",
   "execution_count": 1,
   "id": "8f53efe8-2193-485d-9906-6c78de04013b",
   "metadata": {},
   "outputs": [],
   "source": [
    "#YANK BP\n",
    "import textwrap, sys, os, glob, shutil, openmm\n",
    "#import nglview\n",
    "#import openmmtools as mmtools\n",
    "#import yank.utils\n",
    "import numpy as np\n",
    "import MDAnalysis as mda\n",
    "#OPENFF\n",
    "from openff.units import Quantity, unit\n",
    "from openmm import unit as openmm_unit\n",
    "from pdbfixer import PDBFixer\n",
    "from openff.toolkit import ForceField, Molecule, Topology\n",
    "from openbabel import openbabel"
   ]
  },
  {
   "cell_type": "code",
   "execution_count": 2,
   "id": "135cc0da-4234-408f-be3a-67e0d20a0ef7",
   "metadata": {},
   "outputs": [],
   "source": [
    "job_inputs = {'working_dir_name': 'bromodomains_testing',\n",
    "              'ligand_resname': 'resname JQ1',\n",
    "              'crystal_pdb_fn': '3mxf.pdb'}"
   ]
  },
  {
   "cell_type": "markdown",
   "id": "78dd3c39-6e44-4dc4-8e1a-9e0c3bd029e5",
   "metadata": {},
   "source": [
    "## Steps to Prepare"
   ]
  },
  {
   "cell_type": "code",
   "execution_count": 3,
   "id": "247b267a-92e3-4aa0-a0bb-86e904092df9",
   "metadata": {},
   "outputs": [],
   "source": [
    "class Simulation_Preparer():\n",
    "    def __init__(self, job_inputs):\n",
    "        #Declare Filenames\n",
    "        self.job_inputs = job_inputs\n",
    "        working_dir_name = job_inputs['working_dir_name']\n",
    "        self.ligand_resname = job_inputs['ligand_resname']\n",
    "        self.crystal_pdb_fn = job_inputs['crystal_pdb_fn']\n",
    "\n",
    "        self.abs_work_dir = os.path.join(os.getcwd(), working_dir_name)\n",
    "        if not os.path.isdir(self.abs_work_dir):\n",
    "            os.mkdir(self.abs_work_dir)\n",
    "\n",
    "    \n",
    "    def seperate_crys_using_MDA(self,\n",
    "                                crys_pdb_fn: str,\n",
    "                                ligand_string: str,\n",
    "                                receptor_string: str = 'protein',\n",
    "                                ligand_pdb_fn: str = 'ligand_crys.pdb',\n",
    "                                receptor_pdb_fn: str = 'receptor_crys.pdb'):\n",
    "        \"\"\"\n",
    "        Loads the provided crystal structure, and seperates the atoms of resname LIGAND STRING into their own file\n",
    "        Arguments:\n",
    "            crys_pdb_fn: crystal structure to be seperated\n",
    "            ligand_string: MDAnalysis selection string for ligand\n",
    "            receptor_string: MDAnalysis selection string for receptor (default 'protein')\n",
    "            ligand_pdb_fn: Write path for MDAnalysis ligand (default 'ligand.pdb')\n",
    "            receptor_pdb_fn: Write path for MDAnalysis receptor (default 'receptor.pdb')\n",
    "        Returns:\n",
    "            receptor_pdb_fn: filename of the pdb file containing the receptor only\n",
    "            ligand_pdb_fn: filename of the pdb file containing the atoms from the LIGAND_STRING selection\n",
    "        \"\"\"\n",
    "        u = mda.Universe(crys_pdb_fn)\n",
    "        all_atoms = u.select_atoms('all')\n",
    "        receptor = all_atoms.select_atoms(receptor_string)\n",
    "        ligand = all_atoms.select_atoms(ligand_string)\n",
    "        receptor.write(os.path.join(self.abs_work_dir, receptor_pdb_fn))\n",
    "        ligand.write(os.path.join(self.abs_work_dir, ligand_pdb_fn))\n",
    "        return os.path.join(self.abs_work_dir, receptor_pdb_fn), os.path.join(self.abs_work_dir, ligand_pdb_fn)\n",
    "\n",
    "    def obabel_conversion(self,\n",
    "                          mol_fn: str,\n",
    "                          formats: list,\n",
    "                          out_fn: str = 'AUTO',\n",
    "                          add_Hs: bool = True,\n",
    "                          rewrite_with_Hs: bool = True):\n",
    "        \"\"\"\n",
    "        Convert a file to another format using openbabel.  Neither add_Hs, nore rewrite_with_Hs should be True if the input has hydrogens.\n",
    "        Arguments:\n",
    "            mol_fn: in_file_name : (THis should be infile.xxx where xxx = formats[0])\n",
    "            formats: 2-list of babel formats (in, out)\n",
    "            out_fn: Filename for the ligand with Hydrogens (if AUTO, it will be MOL_FN with the extension swapped to format[-1])\n",
    "            add_Hs: Bool: Whether adding hydrogens to the input file should be done (default True)\n",
    "            rewrite_with_Hs: Bool: Additionally rewrites the protonated ligand in the original file format (default True)\n",
    "        Returns:\n",
    "            str: The path of the converted file\n",
    "        Example:\n",
    "            obabel_conversion('ligand.pdb', ['pdb', 'sdf']) will attempt to protonate (by default) and convert a pdb file to sdf (named ligand.sdf)\n",
    "        \"\"\"\n",
    "        #Assertion checks\n",
    "        assert len(formats) == 2\n",
    "        #Obabel conversion block\n",
    "        obConversion = openbabel.OBConversion()\n",
    "        obConversion.SetInAndOutFormats(*formats)\n",
    "        mol = openbabel.OBMol()\n",
    "        #Find INput\n",
    "        if os.path.isfile(mol_fn):\n",
    "            obConversion.ReadFile(mol, mol_fn)\n",
    "        elif os.path.isfile(os.path.join(self.abs_work_dir, mol_fn)):\n",
    "            obConversion.ReadFile(mol, os.path.join(self.abs_work_dir, mol_fn))\n",
    "        else:\n",
    "            raise FileNotFoundError('mol_fn was not found')\n",
    "        #Add Hydrogens\n",
    "        if add_Hs:\n",
    "            mol.AddHydrogens()\n",
    "        print(mol.NumAtoms(), 'Atoms', mol.NumBonds(), 'Bonds', mol.NumResidues(), 'Residues')\n",
    "        #Output file name parsing\n",
    "        if out_fn == 'AUTO':\n",
    "            out_fn = os.path.splitext(mol_fn)[0] + '.' + formats[-1]\n",
    "        #Actually writeout the protonated file in the second format\n",
    "        obConversion.WriteFile(mol, out_fn)\n",
    "        \n",
    "        #Rewrite original format with Hydrogens (if necessary)\n",
    "        if rewrite_with_Hs:\n",
    "            #recursively use this function to convert from format 0 to format 0 again\n",
    "            org_form_new_fn = os.path.splitext(mol_fn)[0] + '_H.' + formats[0]\n",
    "            org_form_wHs_fn = self.obabel_conversion(mol_fn, [formats[0], formats[0]], out_fn=org_form_new_fn, add_Hs=True, rewrite_with_Hs=False)[0]\n",
    "            return (out_fn, org_form_wHs_fn)\n",
    "        else:\n",
    "            return (out_fn, None)\n",
    "\n",
    "    def protonate_with_pdb2pqr(self,\n",
    "                               protein_fn: str,\n",
    "                               protein_H_fn: str = None,\n",
    "                               at_pH=7):\n",
    "        \"\"\"Protonates the given structure using pdb2pqr30\n",
    "        Parameters:\n",
    "            protein_fn: structure to be protonated\n",
    "        protein_H_fn: filepath for protonated receptor (as pdb)\n",
    "                        pqr output of pdb2pqr is inferred as protein_H_fn with a pqr extension instead of pdb\n",
    "        at_pH: pH for protonation (default 7)\n",
    "        \"\"\"\n",
    "        if protein_H_fn is None:\n",
    "            protein_H_fn = os.path.splitext(protein_fn)[0] + '_H' + os.path.splitext(protein_fn)[-1]\n",
    "        protein_pqr_fn = os.path.splitext(protein_H_fn)[0] + '.pqr'\n",
    "        my_cmd = f'pdb2pqr30 --ff AMBER --nodebump --keep-chain --ffout AMBER --pdb-output {protein_H_fn} --with-ph {at_pH} {protein_fn} {protein_pqr_fn}'\n",
    "        print('Protanting using command line')\n",
    "        print(f'Running {my_cmd}')\n",
    "        exit_status = os.system(my_cmd)\n",
    "        print(f'Done with exit status {exit_status}')\n",
    "        return protein_H_fn, protein_pqr_fn\n",
    "\n",
    "    def run_PDBFixer(self,\n",
    "                     in_pdbfile: str,\n",
    "                     mode: str = \"MEM\",\n",
    "                     out_file_fn: str = None,\n",
    "                     padding = 1.5,\n",
    "                     ionicStrength = 0.15):\n",
    "        \"\"\"\n",
    "        Generates a solvated and membrane-added system (depending on MODE)\n",
    "        MODE = 'MEM' for membrane and solvent\n",
    "        MODE = 'SOL' for solvent only\n",
    "        Parameters:\n",
    "            in_pdbfile: the structure to be solvated\n",
    "            mode: string: must be in ['MEM', 'SOL']\n",
    "            solvated_file_fn: Filename to save solvated system; default is to add '_solvated' between the body and extension of the input file name\n",
    "            padding: float or int: minimum nanometer distance between the boundary and any atoms in the input.  Default 1.5 nm = 15 A\n",
    "            ionicStrength: float (not int) : molar strength of ionic solution. Default 0.15 M = 150 mmol\n",
    "        Returns:\n",
    "            solvated_file_fn: the filename of the solvated output\n",
    "        \"\"\"\n",
    "        assert mode in ['MEM', 'SOL']\n",
    "        fixer = PDBFixer(in_pdbfile)\n",
    "\n",
    "        if mode == 'MEM':\n",
    "            fixer.addMembrane('POPE', padding=padding * openmm_unit.nanometer, ionicStrength=ionicStrength * openmm_unit.molar)\n",
    "        elif mode == 'SOL':\n",
    "            fixer.addSolvent(padding=padding * openmm_unit.nanometer, ionicStrength=ionicStrength * openmm_unit.molar)\n",
    "        \n",
    "        # ADD PDBFixer hydrogens and parsing crystal structures (Hydrogens with pdb2pqr30 at the moment)\n",
    "        if out_file_fn is None:\n",
    "            out_file_fn = os.path.splitext(in_pdbfile)[0] + f'_{mode}' + os.path.splitext(in_pdbfile)[-1]\n",
    "        \n",
    "        with open(out_file_fn, \"w\") as f:\n",
    "            openmm.app.PDBFile.writeFile(fixer.topology, fixer.positions, f)\n",
    "        return out_file_fn\n",
    "\n",
    "    def insert_molecule_and_remove_clashes(self,\n",
    "                                           topology: Topology,\n",
    "                                           insert: Molecule,\n",
    "                                           radius: Quantity = 1.5 * unit.angstrom,\n",
    "                                           keep: list[Molecule] = []) -> Topology:\n",
    "        \"\"\"\n",
    "        Add a molecule to a copy of the topology, removing any clashing molecules.\n",
    "    \n",
    "        The molecule will be added to the end of the topology. A new topology is\n",
    "        returned; the input topology will not be altered. All molecules that\n",
    "        clash will be removed, and each removed molecule will be printed to stdout.\n",
    "        Users are responsible for ensuring that no important molecules have been\n",
    "        removed; the clash radius may be modified accordingly.\n",
    "    \n",
    "        Parameters\n",
    "        ==========\n",
    "        top\n",
    "            The topology to insert a molecule into\n",
    "        insert\n",
    "            The molecule to insert\n",
    "        radius\n",
    "            Any atom within this distance of any atom in the insert is considered\n",
    "            clashing.\n",
    "        keep\n",
    "            Keep copies of these molecules, even if they're clashing\n",
    "        \"\"\"\n",
    "        # We'll collect the molecules for the output topology into a list\n",
    "        new_top_mols = []\n",
    "        # A molecule's positions in a topology are stored as its zeroth conformer\n",
    "        insert_coordinates = insert.conformers[0][:, None, :]\n",
    "        for molecule in topology.molecules:\n",
    "            if any(keep_mol.is_isomorphic_with(molecule) for keep_mol in keep):\n",
    "                new_top_mols.append(molecule)\n",
    "                continue\n",
    "            molecule_coordinates = molecule.conformers[0][None, :, :]\n",
    "            diff_matrix = molecule_coordinates - insert_coordinates\n",
    "    \n",
    "            # np.linalg.norm doesn't work on Pint quantities 😢\n",
    "            working_unit = unit.nanometer\n",
    "            distance_matrix = (\n",
    "                np.linalg.norm(diff_matrix.m_as(working_unit), axis=-1) * working_unit\n",
    "            )\n",
    "    \n",
    "            if distance_matrix.min() > radius:\n",
    "                # This molecule is not clashing, so add it to the topology\n",
    "                new_top_mols.append(molecule)\n",
    "            else:\n",
    "                print(f\"Removed {molecule.to_smiles()} molecule\")\n",
    "    \n",
    "        # Insert the ligand at the end\n",
    "        new_top_mols.append(insert)\n",
    "    \n",
    "        # This pattern of assembling a topology from a list of molecules\n",
    "        # ends up being much more efficient than adding each molecule\n",
    "        # to a new topology one at a time\n",
    "        new_top = Topology.from_molecules(new_top_mols)\n",
    "    \n",
    "        # Don't forget the box vectors!\n",
    "        new_top.box_vectors = topology.box_vectors\n",
    "        return new_top\n",
    "        \n",
    "    def generate_topologies(self,\n",
    "                            structure_file: str,\n",
    "                            ligand_to_insert: Molecule = None,\n",
    "                            json_save_fn: str = None):\n",
    "        \"\"\"\n",
    "        Convert the final structure files into OpenFF topologies\n",
    "        Parameters:\n",
    "            structure_file: the structure file to generate topology for\n",
    "            ligand_to_insert: If an openff toolkit Molecule type object is given, it will be inserted into the receptor.\n",
    "            save_as_json: If a filename is provided, a json file of the generated topology will be saved\n",
    "        Returns:\n",
    "            top: The generated topology\n",
    "        \"\"\"\n",
    "        #Create the topology of the complex phase\n",
    "        top = Topology.from_pdb(structure_file)\n",
    "        #Insert the ligand into this phase and remove clashes\n",
    "        if ligand_to_insert is not None:\n",
    "            top = self.insert_molecule_and_remove_clashes(top, ligand_to_insert)\n",
    "        if json_save_fn is not None:\n",
    "            with open(json_save_fn, \"w\") as f:\n",
    "                print(top.to_json(), file=f)\n",
    "        return top\n",
    "\n",
    "    def top2interchange(self, top: Topology, xmls: list):\n",
    "        \"\"\"\n",
    "        Convert an OpenFF Topology into and OpenFF Interchange (Can take a long time!)\n",
    "        This is the actual step where MD parameters are applied\n",
    "        Parameters:\n",
    "            top: the topology to be converted\n",
    "        Returns:\n",
    "            interchange: The interchange object which was created\n",
    "        \"\"\"\n",
    "        sage_ff14sb = ForceField(*xmls)\n",
    "        return sage_ff14sb.create_interchange(top)\n",
    "\n",
    "    def interchange2OpenmmSim(self,\n",
    "                              interchange,\n",
    "                             temp: openmm_unit):\n",
    "        \"\"\"\n",
    "        Construct an openn simulation object from an openff interachange\n",
    "        \n",
    "        \"\"\"\n",
    "        # Construct and configure a Langevin integrator at 300 K with an appropriate friction constant and time-step\n",
    "        integrator = openmm.LangevinIntegrator(300 * openmm_unit.kelvin, 1 / openmm_unit.picosecond, 0.001 * openmm_unit.picoseconds)\n",
    "        # Under the hood, this creates *OpenMM* `System` and `Topology` objects, then combines them together\n",
    "        simulation = interchange.to_openmm_simulation(integrator=integrator)\n",
    "        # Add a reporter to record the structure every 10 steps\n",
    "        dcd_reporter = openmm.app.DCDReporter(f\"trajectory.dcd\", 1000)\n",
    "        simulation.reporters.append(dcd_reporter)\n",
    "        simulation.reporters.append(openmm.app.StateDataReporter(sys.stdout, 1000, step=True, potentialEnergy=True, temperature=True))\n",
    "        #Evaluate and Report pre-minimized energy\n",
    "        describe_state(simulation.context.getState(getEnergy=True, getForces=True), \"Original state\")\n",
    "        #Minimize the structure\n",
    "        simulation.minimizeEnergy()\n",
    "        #Evaluate and Report post-minimized energy\n",
    "        describe_state(simulation.context.getState(getEnergy=True, getForces=True), \"Minimized state\")\n",
    "        simulation.context.setVelocitiesToTemperature(300 * openmm_unit.kelvin)\n",
    "        return simulation"
   ]
  },
  {
   "cell_type": "markdown",
   "id": "9e0e9a90-1004-4624-b885-6de9bb1c54f3",
   "metadata": {},
   "source": [
    "Invoke the Class"
   ]
  },
  {
   "cell_type": "code",
   "execution_count": 4,
   "id": "fb40cf50-bac9-4049-977a-8e7ca0d18610",
   "metadata": {},
   "outputs": [],
   "source": [
    "self = Simulation_Preparer(job_inputs)"
   ]
  },
  {
   "cell_type": "markdown",
   "id": "59b6008f-9e35-4c2c-a2e4-aa1f8a36e1b8",
   "metadata": {},
   "source": [
    "Using the provided crystal structure, seperate into protein and ligand components.  THis is based on selection strings, by default the \"receptor\" is anything under the selection string \"protein\" and the \"ligand\" is the user provided selection string for \"ligand_resname\""
   ]
  },
  {
   "cell_type": "code",
   "execution_count": 5,
   "id": "841a9908-f7bf-42f2-a887-273629ff0471",
   "metadata": {},
   "outputs": [
    {
     "name": "stdout",
     "output_type": "stream",
     "text": [
      "/media/volume/sdc/githubs/MinhSimPrep/bromodomains_testing/receptor_crys.pdb True\n",
      "/media/volume/sdc/githubs/MinhSimPrep/bromodomains_testing/ligand_crys.pdb True\n"
     ]
    },
    {
     "name": "stderr",
     "output_type": "stream",
     "text": [
      "/home/exouser/miniconda3/envs/openff/lib/python3.12/site-packages/MDAnalysis/coordinates/PDB.py:1153: UserWarning: Found no information for attr: 'formalcharges' Using default value of '0'\n",
      "  warnings.warn(\"Found no information for attr: '{}'\"\n"
     ]
    }
   ],
   "source": [
    "receptor_path, ligand_path = self.seperate_crys_using_MDA(self.crystal_pdb_fn, self.ligand_resname)\n",
    "print(receptor_path, os.path.isfile(receptor_path))\n",
    "print(ligand_path, os.path.isfile(ligand_path))"
   ]
  },
  {
   "cell_type": "markdown",
   "id": "682d2bf9-dad1-4f44-b497-f9c08f74cd17",
   "metadata": {},
   "source": [
    "Utilize openbabel to convert the ligand file to sdf (the prefered input format for OpenFF), while also adding hydrogens"
   ]
  },
  {
   "cell_type": "code",
   "execution_count": 6,
   "id": "8a3150cd-26ec-4454-bc2e-b25fdce78b8c",
   "metadata": {},
   "outputs": [
    {
     "name": "stdout",
     "output_type": "stream",
     "text": [
      "56 Atoms 59 Bonds 1 Residues\n",
      "56 Atoms 59 Bonds 1 Residues\n",
      "/media/volume/sdc/githubs/MinhSimPrep/bromodomains_testing/ligand_crys_H.pdb True\n",
      "/media/volume/sdc/githubs/MinhSimPrep/bromodomains_testing/ligand_crys.sdf True\n"
     ]
    }
   ],
   "source": [
    "ligand_sdf_path, ligand_protonated = self.obabel_conversion(ligand_path, ['pdb', 'sdf'], out_fn='AUTO', add_Hs=True, rewrite_with_Hs=True)\n",
    "print(ligand_protonated, os.path.isfile(ligand_protonated))\n",
    "print(ligand_sdf_path, os.path.isfile(ligand_sdf_path))"
   ]
  },
  {
   "cell_type": "markdown",
   "id": "ae0c2e7f-64c8-4b42-a012-02a1c6925367",
   "metadata": {},
   "source": [
    "Define the Ligand as an OpenFF molecule"
   ]
  },
  {
   "cell_type": "code",
   "execution_count": 7,
   "id": "ad30d3b1-9a8a-4a73-93d0-8a83088ebc20",
   "metadata": {},
   "outputs": [
    {
     "name": "stdout",
     "output_type": "stream",
     "text": [
      "<class 'openff.toolkit.topology.molecule.Molecule'> Cc1sc2c(c1C)C(c1ccc(Cl)cc1)=N[C@@H](CC(=O)OC(C)(C)C)c1nnc(C)n1-2\n"
     ]
    }
   ],
   "source": [
    "self.ligand = Molecule.from_file(ligand_sdf_path)\n",
    "print(type(self.ligand), self.ligand.to_smiles(explicit_hydrogens=False))"
   ]
  },
  {
   "cell_type": "markdown",
   "id": "40076083-d2d2-4838-85f8-9f29b864a885",
   "metadata": {},
   "source": [
    "Protonate the protiein using pdb2pqr30 on the command line"
   ]
  },
  {
   "cell_type": "code",
   "execution_count": null,
   "id": "0eeecec9-884d-4991-836d-3e1502e7e787",
   "metadata": {},
   "outputs": [],
   "source": []
  },
  {
   "cell_type": "code",
   "execution_count": 8,
   "id": "de1b2467-17bd-461e-9995-dc09e06a50f1",
   "metadata": {
    "scrolled": true
   },
   "outputs": [
    {
     "name": "stdout",
     "output_type": "stream",
     "text": [
      "Protanting using command line\n",
      "Running pdb2pqr30 --ff AMBER --nodebump --keep-chain --ffout AMBER --pdb-output /media/volume/sdc/githubs/MinhSimPrep/bromodomains_testing/receptor_crys_H.pdb --with-ph 7 /media/volume/sdc/githubs/MinhSimPrep/bromodomains_testing/receptor_crys.pdb /media/volume/sdc/githubs/MinhSimPrep/bromodomains_testing/receptor_crys_H.pqr\n"
     ]
    },
    {
     "name": "stderr",
     "output_type": "stream",
     "text": [
      "INFO:PDB2PQR v3.6.2: biomolecular structure conversion software.\n",
      "INFO:Please cite:  Jurrus E, et al.  Improvements to the APBS biomolecular solvation software suite.  Protein Sci 27 112-128 (2018).\n",
      "INFO:Please cite:  Dolinsky TJ, et al.  PDB2PQR: expanding and upgrading automated preparation of biomolecular structures for molecular simulations. Nucleic Acids Res 35 W522-W525 (2007).\n",
      "INFO:Checking and transforming input arguments.\n",
      "INFO:Loading topology files.\n",
      "INFO:Loading molecule: /media/volume/sdc/githubs/MinhSimPrep/bromodomains_testing/receptor_crys.pdb\n",
      "ERROR:Error parsing line: invalid literal for int() with base 10: ''\n",
      "ERROR:<REMARK     2>\n",
      "ERROR:Truncating remaining errors for record type:REMARK\n",
      "WARNING:Warning: /media/volume/sdc/githubs/MinhSimPrep/bromodomains_testing/receptor_crys.pdb is a non-standard PDB file.\n",
      "\n",
      "ERROR:['REMARK']\n",
      "INFO:Setting up molecule.\n",
      "INFO:Created biomolecule object with 127 residues and 1059 atoms.\n",
      "WARNING:Multiple occupancies found: CB in SER A 51.\n",
      "WARNING:Multiple occupancies found: OG in SER A 51.\n",
      "WARNING:Multiple occupancies found in SER A 51. At least one of the instances is being ignored.\n",
      "WARNING:Multiple occupancies found: CB in LYS A 72.\n",
      "WARNING:Multiple occupancies found: CG in LYS A 72.\n",
      "WARNING:Multiple occupancies found: CD in LYS A 72.\n",
      "WARNING:Multiple occupancies found: CE in LYS A 72.\n",
      "WARNING:Multiple occupancies found: NZ in LYS A 72.\n",
      "WARNING:Multiple occupancies found in LYS A 72. At least one of the instances is being ignored.\n",
      "WARNING:Multiple occupancies found: CB in THR A 103.\n",
      "WARNING:Multiple occupancies found: OG1 in THR A 103.\n",
      "WARNING:Multiple occupancies found: CG2 in THR A 103.\n",
      "WARNING:Multiple occupancies found in THR A 103. At least one of the instances is being ignored.\n",
      "WARNING:Multiple occupancies found: CB in GLN A 127.\n",
      "WARNING:Multiple occupancies found: CG in GLN A 127.\n",
      "WARNING:Multiple occupancies found: CD in GLN A 127.\n",
      "WARNING:Multiple occupancies found: OE1 in GLN A 127.\n",
      "WARNING:Multiple occupancies found: NE2 in GLN A 127.\n",
      "WARNING:Multiple occupancies found in GLN A 127. At least one of the instances is being ignored.\n",
      "INFO:Setting termini states for biomolecule chains.\n",
      "INFO:Loading forcefield.\n",
      "INFO:Loading hydrogen topology definitions.\n",
      "WARNING:Missing atom CD in residue LYS A 141\n",
      "WARNING:Missing atom CE in residue LYS A 141\n",
      "WARNING:Missing atom NZ in residue LYS A 141\n",
      "WARNING:Missing atom CD in residue LYS A 141\n",
      "WARNING:Missing atom CE in residue LYS A 141\n",
      "WARNING:Missing atom NZ in residue LYS A 141\n",
      "INFO:Attempting to repair 3 missing atoms in biomolecule.\n",
      "WARNING:Missing atom CD in residue LYS A 141\n",
      "WARNING:Missing atom CE in residue LYS A 141\n",
      "WARNING:Missing atom NZ in residue LYS A 141\n",
      "INFO:Added atom CD to residue LYS A 141 at coordinates 38.984, 16.751, -9.862\n",
      "INFO:Added atom CE to residue LYS A 141 at coordinates 39.885, 15.584, -9.523\n",
      "INFO:Added atom NZ to residue LYS A 141 at coordinates 39.929, 14.624, -10.653\n",
      "INFO:Updating disulfide bridges.\n",
      "INFO:Adding hydrogens to biomolecule.\n",
      "INFO:Optimizing hydrogen bonds\n"
     ]
    },
    {
     "name": "stdout",
     "output_type": "stream",
     "text": [
      "Done with exit status 0\n",
      "/media/volume/sdc/githubs/MinhSimPrep/bromodomains_testing/receptor_crys_H.pdb True\n",
      "/media/volume/sdc/githubs/MinhSimPrep/bromodomains_testing/receptor_crys_H.pqr True\n"
     ]
    },
    {
     "name": "stderr",
     "output_type": "stream",
     "text": [
      "INFO:Applying force field to biomolecule states.\n",
      "INFO:Applying custom naming scheme (amber).\n",
      "INFO:Regenerating headers.\n",
      "INFO:Regenerating PDB lines.\n",
      "WARNING:Ignoring 464 header lines in output.\n",
      "WARNING:Ignoring 464 header lines in output.\n"
     ]
    }
   ],
   "source": [
    "protein_protonated, protein_pqr = self.protonate_with_pdb2pqr(receptor_path, at_pH=7)\n",
    "print(protein_protonated, os.path.isfile(protein_protonated))\n",
    "print(protein_pqr, os.path.isfile(protein_pqr))"
   ]
  },
  {
   "cell_type": "markdown",
   "id": "4972e89d-0c64-451c-aa4d-968e70ee8b08",
   "metadata": {},
   "source": [
    "Solvate the receptor (without the ligand still)"
   ]
  },
  {
   "cell_type": "code",
   "execution_count": 9,
   "id": "ca3da2b0-99cc-4365-b3be-fd3ff7f34c83",
   "metadata": {},
   "outputs": [
    {
     "name": "stdout",
     "output_type": "stream",
     "text": [
      "/media/volume/sdc/githubs/MinhSimPrep/bromodomains_testing/receptor_crys_H_SOL.pdb True\n"
     ]
    }
   ],
   "source": [
    "self.protein_solvated = self.run_PDBFixer(protein_protonated, mode='SOL', padding=1.5, ionicStrength=0.15)\n",
    "print(self.protein_solvated, os.path.isfile(self.protein_solvated))"
   ]
  },
  {
   "cell_type": "markdown",
   "id": "f379b4b2-800d-42a9-b482-a443917c710f",
   "metadata": {},
   "source": [
    "Solvate the ligand in it's own small box (should it be needed as a second phase of FE calculation)"
   ]
  },
  {
   "cell_type": "code",
   "execution_count": 10,
   "id": "cf8514e0-6990-4f23-a392-1d0200e484ac",
   "metadata": {},
   "outputs": [
    {
     "name": "stderr",
     "output_type": "stream",
     "text": [
      "/home/exouser/miniconda3/envs/openff/lib/python3.12/site-packages/openmm/app/internal/pdbstructure.py:537: UserWarning: WARNING: duplicate atom (HETATM   33  H   JQ1 A   1      29.489  18.365   2.512  1.00  0.00           H  , HETATM   32  H   JQ1 A   1      30.644  19.618   2.124  1.00  0.00           H  )\n",
      "  warnings.warn(\"WARNING: duplicate atom (%s, %s)\" % (atom, old_atom._pdb_string(old_atom.serial_number, atom.alternate_location_indicator)))\n",
      "/home/exouser/miniconda3/envs/openff/lib/python3.12/site-packages/openmm/app/internal/pdbstructure.py:537: UserWarning: WARNING: duplicate atom (HETATM   34  H   JQ1 A   1      29.120  19.540   1.272  1.00  0.00           H  , HETATM   33  H   JQ1 A   1      29.489  18.365   2.512  1.00  0.00           H  )\n",
      "  warnings.warn(\"WARNING: duplicate atom (%s, %s)\" % (atom, old_atom._pdb_string(old_atom.serial_number, atom.alternate_location_indicator)))\n",
      "/home/exouser/miniconda3/envs/openff/lib/python3.12/site-packages/openmm/app/internal/pdbstructure.py:537: UserWarning: WARNING: duplicate atom (HETATM   35  H   JQ1 A   1      25.310  15.307   2.440  1.00  0.00           H  , HETATM   34  H   JQ1 A   1      29.120  19.540   1.272  1.00  0.00           H  )\n",
      "  warnings.warn(\"WARNING: duplicate atom (%s, %s)\" % (atom, old_atom._pdb_string(old_atom.serial_number, atom.alternate_location_indicator)))\n",
      "/home/exouser/miniconda3/envs/openff/lib/python3.12/site-packages/openmm/app/internal/pdbstructure.py:537: UserWarning: WARNING: duplicate atom (HETATM   36  H   JQ1 A   1      25.095  14.064   1.232  1.00  0.00           H  , HETATM   35  H   JQ1 A   1      25.310  15.307   2.440  1.00  0.00           H  )\n",
      "  warnings.warn(\"WARNING: duplicate atom (%s, %s)\" % (atom, old_atom._pdb_string(old_atom.serial_number, atom.alternate_location_indicator)))\n",
      "/home/exouser/miniconda3/envs/openff/lib/python3.12/site-packages/openmm/app/internal/pdbstructure.py:537: UserWarning: WARNING: duplicate atom (HETATM   37  H   JQ1 A   1      24.338  15.625   1.023  1.00  0.00           H  , HETATM   36  H   JQ1 A   1      25.095  14.064   1.232  1.00  0.00           H  )\n",
      "  warnings.warn(\"WARNING: duplicate atom (%s, %s)\" % (atom, old_atom._pdb_string(old_atom.serial_number, atom.alternate_location_indicator)))\n",
      "/home/exouser/miniconda3/envs/openff/lib/python3.12/site-packages/openmm/app/internal/pdbstructure.py:537: UserWarning: WARNING: duplicate atom (HETATM   38  H   JQ1 A   1      24.836  14.573  -1.145  1.00  0.00           H  , HETATM   37  H   JQ1 A   1      24.338  15.625   1.023  1.00  0.00           H  )\n",
      "  warnings.warn(\"WARNING: duplicate atom (%s, %s)\" % (atom, old_atom._pdb_string(old_atom.serial_number, atom.alternate_location_indicator)))\n",
      "/home/exouser/miniconda3/envs/openff/lib/python3.12/site-packages/openmm/app/internal/pdbstructure.py:537: UserWarning: WARNING: duplicate atom (HETATM   39  H   JQ1 A   1      26.142  14.114  -2.211  1.00  0.00           H  , HETATM   38  H   JQ1 A   1      24.836  14.573  -1.145  1.00  0.00           H  )\n",
      "  warnings.warn(\"WARNING: duplicate atom (%s, %s)\" % (atom, old_atom._pdb_string(old_atom.serial_number, atom.alternate_location_indicator)))\n",
      "/home/exouser/miniconda3/envs/openff/lib/python3.12/site-packages/openmm/app/internal/pdbstructure.py:537: UserWarning: WARNING: duplicate atom (HETATM   40  H   JQ1 A   1      25.363  15.667  -2.401  1.00  0.00           H  , HETATM   39  H   JQ1 A   1      26.142  14.114  -2.211  1.00  0.00           H  )\n",
      "  warnings.warn(\"WARNING: duplicate atom (%s, %s)\" % (atom, old_atom._pdb_string(old_atom.serial_number, atom.alternate_location_indicator)))\n",
      "/home/exouser/miniconda3/envs/openff/lib/python3.12/site-packages/openmm/app/internal/pdbstructure.py:537: UserWarning: WARNING: duplicate atom (HETATM   41  H   JQ1 A   1      28.737  12.477  -6.163  1.00  0.00           H  , HETATM   40  H   JQ1 A   1      25.363  15.667  -2.401  1.00  0.00           H  )\n",
      "  warnings.warn(\"WARNING: duplicate atom (%s, %s)\" % (atom, old_atom._pdb_string(old_atom.serial_number, atom.alternate_location_indicator)))\n",
      "/home/exouser/miniconda3/envs/openff/lib/python3.12/site-packages/openmm/app/internal/pdbstructure.py:537: UserWarning: WARNING: duplicate atom (HETATM   42  H   JQ1 A   1      30.061  13.595  -5.946  1.00  0.00           H  , HETATM   41  H   JQ1 A   1      28.737  12.477  -6.163  1.00  0.00           H  )\n",
      "  warnings.warn(\"WARNING: duplicate atom (%s, %s)\" % (atom, old_atom._pdb_string(old_atom.serial_number, atom.alternate_location_indicator)))\n",
      "/home/exouser/miniconda3/envs/openff/lib/python3.12/site-packages/openmm/app/internal/pdbstructure.py:537: UserWarning: WARNING: duplicate atom (HETATM   43  H   JQ1 A   1      28.548  13.861  -5.114  1.00  0.00           H  , HETATM   42  H   JQ1 A   1      30.061  13.595  -5.946  1.00  0.00           H  )\n",
      "  warnings.warn(\"WARNING: duplicate atom (%s, %s)\" % (atom, old_atom._pdb_string(old_atom.serial_number, atom.alternate_location_indicator)))\n",
      "/home/exouser/miniconda3/envs/openff/lib/python3.12/site-packages/openmm/app/internal/pdbstructure.py:537: UserWarning: WARNING: duplicate atom (HETATM   44  H   JQ1 A   1      30.125  10.466  -5.349  1.00  0.00           H  , HETATM   43  H   JQ1 A   1      28.548  13.861  -5.114  1.00  0.00           H  )\n",
      "  warnings.warn(\"WARNING: duplicate atom (%s, %s)\" % (atom, old_atom._pdb_string(old_atom.serial_number, atom.alternate_location_indicator)))\n",
      "/home/exouser/miniconda3/envs/openff/lib/python3.12/site-packages/openmm/app/internal/pdbstructure.py:537: UserWarning: WARNING: duplicate atom (HETATM   45  H   JQ1 A   1      30.935  10.589  -3.805  1.00  0.00           H  , HETATM   44  H   JQ1 A   1      30.125  10.466  -5.349  1.00  0.00           H  )\n",
      "  warnings.warn(\"WARNING: duplicate atom (%s, %s)\" % (atom, old_atom._pdb_string(old_atom.serial_number, atom.alternate_location_indicator)))\n",
      "/home/exouser/miniconda3/envs/openff/lib/python3.12/site-packages/openmm/app/internal/pdbstructure.py:537: UserWarning: WARNING: duplicate atom (HETATM   46  H   JQ1 A   1      31.524  11.499  -5.176  1.00  0.00           H  , HETATM   45  H   JQ1 A   1      30.935  10.589  -3.805  1.00  0.00           H  )\n",
      "  warnings.warn(\"WARNING: duplicate atom (%s, %s)\" % (atom, old_atom._pdb_string(old_atom.serial_number, atom.alternate_location_indicator)))\n",
      "/home/exouser/miniconda3/envs/openff/lib/python3.12/site-packages/openmm/app/internal/pdbstructure.py:537: UserWarning: WARNING: duplicate atom (HETATM   47  H   JQ1 A   1      28.008  11.043  -4.119  1.00  0.00           H  , HETATM   46  H   JQ1 A   1      31.524  11.499  -5.176  1.00  0.00           H  )\n",
      "  warnings.warn(\"WARNING: duplicate atom (%s, %s)\" % (atom, old_atom._pdb_string(old_atom.serial_number, atom.alternate_location_indicator)))\n",
      "/home/exouser/miniconda3/envs/openff/lib/python3.12/site-packages/openmm/app/internal/pdbstructure.py:537: UserWarning: WARNING: duplicate atom (HETATM   48  H   JQ1 A   1      27.891  12.543  -3.230  1.00  0.00           H  , HETATM   47  H   JQ1 A   1      28.008  11.043  -4.119  1.00  0.00           H  )\n",
      "  warnings.warn(\"WARNING: duplicate atom (%s, %s)\" % (atom, old_atom._pdb_string(old_atom.serial_number, atom.alternate_location_indicator)))\n",
      "/home/exouser/miniconda3/envs/openff/lib/python3.12/site-packages/openmm/app/internal/pdbstructure.py:537: UserWarning: WARNING: duplicate atom (HETATM   49  H   JQ1 A   1      28.900  11.248  -2.630  1.00  0.00           H  , HETATM   48  H   JQ1 A   1      27.891  12.543  -3.230  1.00  0.00           H  )\n",
      "  warnings.warn(\"WARNING: duplicate atom (%s, %s)\" % (atom, old_atom._pdb_string(old_atom.serial_number, atom.alternate_location_indicator)))\n",
      "/home/exouser/miniconda3/envs/openff/lib/python3.12/site-packages/openmm/app/internal/pdbstructure.py:537: UserWarning: WARNING: duplicate atom (HETATM   50  H   JQ1 A   1      24.660  18.456  -3.969  1.00  0.00           H  , HETATM   49  H   JQ1 A   1      28.900  11.248  -2.630  1.00  0.00           H  )\n",
      "  warnings.warn(\"WARNING: duplicate atom (%s, %s)\" % (atom, old_atom._pdb_string(old_atom.serial_number, atom.alternate_location_indicator)))\n",
      "/home/exouser/miniconda3/envs/openff/lib/python3.12/site-packages/openmm/app/internal/pdbstructure.py:537: UserWarning: WARNING: duplicate atom (HETATM   51  H   JQ1 A   1      27.275  16.953  -6.859  1.00  0.00           H  , HETATM   50  H   JQ1 A   1      24.660  18.456  -3.969  1.00  0.00           H  )\n",
      "  warnings.warn(\"WARNING: duplicate atom (%s, %s)\" % (atom, old_atom._pdb_string(old_atom.serial_number, atom.alternate_location_indicator)))\n",
      "/home/exouser/miniconda3/envs/openff/lib/python3.12/site-packages/openmm/app/internal/pdbstructure.py:537: UserWarning: WARNING: duplicate atom (HETATM   52  H   JQ1 A   1      26.080  17.575  -2.223  1.00  0.00           H  , HETATM   51  H   JQ1 A   1      27.275  16.953  -6.859  1.00  0.00           H  )\n",
      "  warnings.warn(\"WARNING: duplicate atom (%s, %s)\" % (atom, old_atom._pdb_string(old_atom.serial_number, atom.alternate_location_indicator)))\n",
      "/home/exouser/miniconda3/envs/openff/lib/python3.12/site-packages/openmm/app/internal/pdbstructure.py:537: UserWarning: WARNING: duplicate atom (HETATM   53  H   JQ1 A   1      28.727  16.116  -5.123  1.00  0.00           H  , HETATM   52  H   JQ1 A   1      26.080  17.575  -2.223  1.00  0.00           H  )\n",
      "  warnings.warn(\"WARNING: duplicate atom (%s, %s)\" % (atom, old_atom._pdb_string(old_atom.serial_number, atom.alternate_location_indicator)))\n",
      "/home/exouser/miniconda3/envs/openff/lib/python3.12/site-packages/openmm/app/internal/pdbstructure.py:537: UserWarning: WARNING: duplicate atom (HETATM   54  H   JQ1 A   1      32.415  15.789  -3.020  1.00  0.00           H  , HETATM   53  H   JQ1 A   1      28.727  16.116  -5.123  1.00  0.00           H  )\n",
      "  warnings.warn(\"WARNING: duplicate atom (%s, %s)\" % (atom, old_atom._pdb_string(old_atom.serial_number, atom.alternate_location_indicator)))\n",
      "/home/exouser/miniconda3/envs/openff/lib/python3.12/site-packages/openmm/app/internal/pdbstructure.py:537: UserWarning: WARNING: duplicate atom (HETATM   55  H   JQ1 A   1      32.551  14.485  -1.876  1.00  0.00           H  , HETATM   54  H   JQ1 A   1      32.415  15.789  -3.020  1.00  0.00           H  )\n",
      "  warnings.warn(\"WARNING: duplicate atom (%s, %s)\" % (atom, old_atom._pdb_string(old_atom.serial_number, atom.alternate_location_indicator)))\n",
      "/home/exouser/miniconda3/envs/openff/lib/python3.12/site-packages/openmm/app/internal/pdbstructure.py:537: UserWarning: WARNING: duplicate atom (HETATM   56  H   JQ1 A   1      30.284  14.585  -1.373  1.00  0.00           H  , HETATM   55  H   JQ1 A   1      32.551  14.485  -1.876  1.00  0.00           H  )\n",
      "  warnings.warn(\"WARNING: duplicate atom (%s, %s)\" % (atom, old_atom._pdb_string(old_atom.serial_number, atom.alternate_location_indicator)))\n"
     ]
    },
    {
     "name": "stdout",
     "output_type": "stream",
     "text": [
      "/media/volume/sdc/githubs/MinhSimPrep/bromodomains_testing/ligand_crys_H_SOL.pdb True\n"
     ]
    }
   ],
   "source": [
    "ligand_solvated = self.run_PDBFixer(ligand_protonated, mode='SOL', padding=1.5, ionicStrength=0.15)\n",
    "print(ligand_solvated, os.path.isfile(ligand_solvated))"
   ]
  },
  {
   "cell_type": "markdown",
   "id": "a6b359a6-0b09-43ea-b589-c6ffb31d1cb5",
   "metadata": {},
   "source": [
    "Generate a topology of the complex system"
   ]
  },
  {
   "cell_type": "code",
   "execution_count": 11,
   "id": "8390372c-e0f1-414d-8b76-bdab4d255fbb",
   "metadata": {},
   "outputs": [
    {
     "name": "stdout",
     "output_type": "stream",
     "text": [
      "<class 'str'> <class 'openff.toolkit.topology.molecule.Molecule'>\n"
     ]
    }
   ],
   "source": [
    "print(type(self.protein_solvated), type(self.ligand))"
   ]
  },
  {
   "cell_type": "code",
   "execution_count": 12,
   "id": "30b8253c-cafc-49d3-8f14-56a6a1962e0e",
   "metadata": {},
   "outputs": [
    {
     "name": "stdout",
     "output_type": "stream",
     "text": [
      "Removed [H][O][H] molecule\n",
      "Removed [H][O][H] molecule\n",
      "Removed [H][O][H] molecule\n",
      "Removed [H][O][H] molecule\n",
      "Removed [H][O][H] molecule\n",
      "Removed [H][O][H] molecule\n",
      "Removed [H][O][H] molecule\n"
     ]
    }
   ],
   "source": [
    "complex_topology = self.generate_topologies(self.protein_solvated, ligand_to_insert=self.ligand)"
   ]
  },
  {
   "cell_type": "code",
   "execution_count": 14,
   "id": "3329c514-8595-46d5-afa8-10e095d62364",
   "metadata": {},
   "outputs": [],
   "source": [
    "interchange = self.top2interchange(complex_topology, [\"openff-2.1.0.offxml\", \"opc-1.0.1.offxml\", \"ff14sb_off_impropers_0.0.3.offxml\"])"
   ]
  },
  {
   "cell_type": "code",
   "execution_count": null,
   "id": "e75c1cc0-782e-43f2-9c02-bf018646e5f4",
   "metadata": {},
   "outputs": [],
   "source": []
  },
  {
   "cell_type": "code",
   "execution_count": null,
   "id": "411d9886-43e3-4a84-8182-e9c6a2cac09b",
   "metadata": {},
   "outputs": [],
   "source": []
  },
  {
   "cell_type": "code",
   "execution_count": null,
   "id": "999b50b4-7f0c-4490-8a9a-0cc983f2b321",
   "metadata": {},
   "outputs": [],
   "source": [
    "DEPRECATED_BELOW_THIS_LINE"
   ]
  },
  {
   "cell_type": "code",
   "execution_count": 15,
   "id": "8ea5eb1c-654d-481d-a814-9b05b8b0bc71",
   "metadata": {},
   "outputs": [],
   "source": [
    "class Simulation_Preparer(object):\n",
    "    \n",
    "    def __init__ (self, crystal_pdb_fn, ligand_resname):\n",
    "        self.ligand_resname = ligand_resname\n",
    "        \n",
    "        # Split Crystal into protein and ligand pdbs based on selection strings\n",
    "        #receptor_path, ligand_path = self.seperate_crys_using_MDA(crystal_pdb_fn, self.ligand_resname)\n",
    "        \n",
    "        # Convert ligand pdb above to an sdf with openbabel, addhs and make sdf\n",
    "        #ligand_sdf_path = self.obabel_conversion((ligand_path,'ligand.sdf'))\n",
    "        \n",
    "        # The previous function also rewrites the input file with protons added at the following path\n",
    "        #ligand_protonated = os.path.splitext(ligand_path)[0] + '_H' + os.path.splitext(ligand_path)[-1]\n",
    "        \n",
    "        #Verify existance of the protonated pdb and sdf\n",
    "        #print(os.path.isfile(ligand_protonated), ligand_protonated, os.path.isfile(ligand_sdf_path), ligand_sdf_path)\n",
    "        \n",
    "        # Load an  openff Molecule from a SDF file\n",
    "        self.ligand = Molecule.from_file(ligand_sdf_path)\n",
    "        \n",
    "        # Print out a SMILES code for the ligand\n",
    "        print(self.ligand.to_smiles(explicit_hydrogens=False))\n",
    "        \n",
    "        # Protonate the receptor (ph7), then put it in a box of water\n",
    "        #receptor_path = self.protonate_with_pdb2pqr(receptor_path)\n",
    "        \n",
    "        #self.receptor_solvated_fn = PDBFixer_solvation(receptor_path)\n",
    "        # Create a phase of the ligand in a box of water\n",
    "        #self.ligand_solvated_path = PDBFixer_solvation(ligand_protonated)\n",
    "\n",
    "    def generate_topologies(self, save_as_jsons=True):\n",
    "        #Create the topology of the complex phase\n",
    "        comp_top = Topology.from_pdb(self.receptor_solvated_fn)\n",
    "        #Insert the ligand into this phase and remove clashes\n",
    "        self.comp_top = insert_molecule_and_remove_clashes(comp_top, self.ligand)\n",
    "        # Do the same as above for the solvent phase, requires a slight workaround where the ligand is removed and added back in by openff\n",
    "        solvent_phase_path = just_the_solvent(self.ligand_solvated_path, self.ligand_resname)\n",
    "        solv_top = Topology.from_pdb(solvent_phase_path) #ligand cannot be here\n",
    "        self.solv_top = insert_molecule_and_remove_clashes(solv_top, self.ligand) #and so is added here\n",
    "        if save_as_jsons:\n",
    "            with open(\"complex_topology.json\", \"w\") as f:\n",
    "                print(comp_top.to_json(), file=f)\n",
    "            with open(\"solvent_topology.json\", \"w\") as f:\n",
    "                print(solv_top.to_json(), file=f)\n",
    "\n",
    "    def generate_interchanges(self, xmls):\n",
    "        sage_ff14sb = ForceField(*xmls)\n",
    "        # Create interchanges of both phases (this takes a while)\n",
    "        self.comp_interchange = sage_ff14sb.create_interchange(self.comp_top)\n",
    "        self.solv_interchange = sage_ff14sb.create_interchange(self.solv_top)\n",
    "\n",
    "    def openmm_writeout(self):\n",
    "        make_simulation_and_writeout(self.comp_interchange, 'complex', self.ligand_resname)\n",
    "        make_simulation_and_writeout(self.solv_interchange, 'solvent', self.ligand_resname)    \n",
    "    \n",
    "    def seperate_crys_using_MDA(crys_pdb_fn: str,\n",
    "                                ligand_string: str,\n",
    "                                receptor_string: str = 'protein',\n",
    "                                ligand_pdb_fn: str = 'ligand.pdb',\n",
    "                                receptor_pdb_fn: str = 'receptor.pdb'):\n",
    "        \"\"\"\n",
    "        Loads the provided crystal structure, and seperates the atoms of resname LIGAND STRING into their own file\n",
    "        Arguments:\n",
    "            crys_pdb_fn: crystal structure to be seperated\n",
    "            ligand_string: MDAnalysis selection string for ligand\n",
    "            receptor_string: MDAnalysis selection string for receptor (default 'protein')\n",
    "            ligand_pdb_fn: Write path for MDAnalysis ligand (default 'ligand.pdb')\n",
    "            receptor_pdb_fn: Write path for MDAnalysis receptor (default 'receptor.pdb')\n",
    "        Returns:\n",
    "            receptor_pdb_fn: filename of the pdb file containing the receptor only\n",
    "            ligand_pdb_fn: filename of the pdb file containing the atoms from the LIGAND_STRING selection\n",
    "        \"\"\"\n",
    "        u = mda.Universe(crys_pdb_fn)\n",
    "        all_atoms = u.select_atoms('all')\n",
    "        receptor = all_atoms.select_atoms(receptor_string)\n",
    "        ligand = all_atoms.select_atoms(ligand_string)\n",
    "        receptor.write(receptor_pdb_fn)\n",
    "        ligand.write(ligand_pdb_fn)\n",
    "        return receptor_pdb_fn, ligand_pdb_fn\n",
    "    \n",
    "    \n",
    "    def determine_restrained_residues(structure_file, n_closest, ligand_string):\n",
    "        \"\"\"\n",
    "        Determines the 'n_closest' residues to the selection given by 'ligand_string' as measured by the distance of alpha\n",
    "        carbons to the center of mass of the selection.  Assembles a selection string for the determined residues.\n",
    "        EX.\n",
    "        >>>determine_restrained_residues(\"SOME.pdb\", 3, \"resname lig\")\n",
    "        (resname PHE and resid 32) or (resname ALA and resid 47) or (resname GLY and resid 54)\n",
    "        \"\"\"\n",
    "        u = mda.Universe(structure_file)\n",
    "        protein_CAs = u.select_atoms('protein and name CA')\n",
    "        uq = u.select_atoms(ligand_string)\n",
    "        uq_com = uq.center_of_mass()\n",
    "        #Build a list of resnames resids and distances (sort by distance)\n",
    "        residues = []\n",
    "        for atom in protein_CAs:\n",
    "            dist = np.sqrt(np.sum((atom.position - uq_com)**2))\n",
    "            residues.append([atom.resname, atom.resindex, dist])\n",
    "        residues = sorted(residues, key = lambda x: x[2])\n",
    "        #Craft the restraint string\n",
    "        restraint_string = ''\n",
    "        for res in residues[:n_closest]:\n",
    "            restraint_string += f'(resname {res[0]} and resid {res[1]}) or '\n",
    "        restraint_string = restraint_string[:-4]\n",
    "        return restraint_string\n",
    "    \n",
    "    \n",
    "    \n",
    "    \n",
    "    \n",
    "    def protonate_with_pdb2pqr(protein_fn, protein_H_fn=None, at_pH=7):\n",
    "        \"\"\"Protonate the given structure using pdb2pqr30\n",
    "        protein_fn: structure to be protonated\n",
    "        protein_H_fn: filepath for protonated receptor (as pdb)\n",
    "                        pqr output of pdb2pqr is inferred as protein_H_fn with a pqr extension instead of pdb\n",
    "        at_pH: pH for protonation (default 7)\n",
    "        \"\"\"\n",
    "        if protein_H_fn is None:\n",
    "            protein_H_fn = os.path.splitext(protein_fn)[0] + '_H' + os.path.splitext(protein_fn)[-1]\n",
    "        protein_pqr_fn = os.path.splitext(protein_H_fn)[0] + '.pqr'\n",
    "        my_cmd = f'pdb2pqr30 --ff AMBER --nodebump --keep-chain --ffout AMBER --pdb-output {protein_H_fn} --with-ph {at_pH} {protein_fn} {protein_pqr_fn}'\n",
    "        print('Protanting using command line')\n",
    "        print(my_cmd)\n",
    "        os.system(my_cmd)\n",
    "        print('Done')\n",
    "        return protein_H_fn\n",
    "    \n",
    "    \n",
    "    def PDBFixer_solvation(in_pdbfile, solvated_file=None, padding=1.5, ionicStrength=0.15):\n",
    "        \"\"\"\n",
    "        Generates a solvated system using PDBFixer.\n",
    "        in_pdbfile: structure file: structure to be placed in a solvation box\n",
    "        solvated_file: string: filename to save output.  Default is the add '_solvated' between the body and extension of the input file name\n",
    "        padding: float or int: minimum nanometer distance between the boundary and any atoms in the input.  Default 1.5 nm = 15 A\n",
    "        ionicStrength: float (not int as thats a lot of ions :) : molar strength of ionic solution. Default 0.15 M = 150 mmol\n",
    "        \"\"\"\n",
    "        fixer = PDBFixer(in_pdbfile)\n",
    "        fixer.addSolvent(padding=padding * openmm_unit.nanometer, ionicStrength=ionicStrength * openmm_unit.molar)\n",
    "        # ADD PDBFixer hydrogens and parsing crystal structures (Hydrogens with pdb2pqr30 at the moment)\n",
    "        if solvated_file == None:\n",
    "            solvated_file = os.path.splitext(in_pdbfile)[0] + '_solvated' + os.path.splitext(in_pdbfile)[-1]\n",
    "        with open(solvated_file, \"w\") as f:\n",
    "            openmm.app.PDBFile.writeFile(fixer.topology, fixer.positions, f)\n",
    "        return solvated_file\n",
    "    \n",
    "    \n",
    "    def just_the_solvent(ligand_solvated_path, ligand_resname, solvent_phase_fn='solvent_phase.pdb'):\n",
    "        u = mda.Universe(ligand_solvated_path)\n",
    "        solvent = u.select_atoms(f'not {ligand_resname}')\n",
    "        solvent.write(solvent_phase_fn)\n",
    "        return solvent_phase_fn\n",
    "    \n",
    "    \n",
    "    def insert_molecule_and_remove_clashes(topology: Topology, insert: Molecule, radius: Quantity = 1.5 * unit.angstrom,\n",
    "                                           keep: list[Molecule] = [],) -> Topology:\n",
    "        \"\"\"\n",
    "        Add a molecule to a copy of the topology, removing any clashing molecules.\n",
    "    \n",
    "        The molecule will be added to the end of the topology. A new topology is\n",
    "        returned; the input topology will not be altered. All molecules that\n",
    "        clash will be removed, and each removed molecule will be printed to stdout.\n",
    "        Users are responsible for ensuring that no important molecules have been\n",
    "        removed; the clash radius may be modified accordingly.\n",
    "    \n",
    "        Parameters\n",
    "        ==========\n",
    "        top\n",
    "            The topology to insert a molecule into\n",
    "        insert\n",
    "            The molecule to insert\n",
    "        radius\n",
    "            Any atom within this distance of any atom in the insert is considered\n",
    "            clashing.\n",
    "        keep\n",
    "            Keep copies of these molecules, even if they're clashing\n",
    "        \"\"\"\n",
    "        # We'll collect the molecules for the output topology into a list\n",
    "        new_top_mols = []\n",
    "        # A molecule's positions in a topology are stored as its zeroth conformer\n",
    "        insert_coordinates = insert.conformers[0][:, None, :]\n",
    "        for molecule in topology.molecules:\n",
    "            if any(keep_mol.is_isomorphic_with(molecule) for keep_mol in keep):\n",
    "                new_top_mols.append(molecule)\n",
    "                continue\n",
    "            molecule_coordinates = molecule.conformers[0][None, :, :]\n",
    "            diff_matrix = molecule_coordinates - insert_coordinates\n",
    "    \n",
    "            # np.linalg.norm doesn't work on Pint quantities 😢\n",
    "            working_unit = unit.nanometer\n",
    "            distance_matrix = (\n",
    "                np.linalg.norm(diff_matrix.m_as(working_unit), axis=-1) * working_unit\n",
    "            )\n",
    "    \n",
    "            if distance_matrix.min() > radius:\n",
    "                # This molecule is not clashing, so add it to the topology\n",
    "                new_top_mols.append(molecule)\n",
    "            else:\n",
    "                print(f\"Removed {molecule.to_smiles()} molecule\")\n",
    "    \n",
    "        # Insert the ligand at the end\n",
    "        new_top_mols.append(insert)\n",
    "    \n",
    "        # This pattern of assembling a topology from a list of molecules\n",
    "        # ends up being much more efficient than adding each molecule\n",
    "        # to a new topology one at a time\n",
    "        new_top = Topology.from_molecules(new_top_mols)\n",
    "    \n",
    "        # Don't forget the box vectors!\n",
    "        new_top.box_vectors = topology.box_vectors\n",
    "        return new_top\n",
    "    \n",
    "    \n",
    "    def describe_state(state: openmm.State, name: str = \"State\"):\n",
    "        max_force = max(np.sqrt(v.x**2 + v.y**2 + v.z**2) for v in state.getForces())\n",
    "        print(f\"{name} has energy {round(state.getPotentialEnergy()._value, 2)} kJ/mol \",\n",
    "              f\"with maximum force {round(max_force, 2)} kJ/(mol nm)\")\n",
    "    \n",
    "    \n",
    "    def construct_openmm_simulation_from_interchange(interchange):\n",
    "        \"\"\"Construct an openn simulation object from an openff interachange\"\"\"\n",
    "        # Construct and configure a Langevin integrator at 300 K with an appropriate friction constant and time-step\n",
    "        integrator = openmm.LangevinIntegrator(300 * openmm_unit.kelvin, 1 / openmm_unit.picosecond, 0.001 * openmm_unit.picoseconds)\n",
    "        # Under the hood, this creates *OpenMM* `System` and `Topology` objects, then combines them together\n",
    "        simulation = interchange.to_openmm_simulation(integrator=integrator)\n",
    "        # Add a reporter to record the structure every 10 steps\n",
    "        dcd_reporter = openmm.app.DCDReporter(f\"trajectory.dcd\", 1000)\n",
    "        simulation.reporters.append(dcd_reporter)\n",
    "        simulation.reporters.append(openmm.app.StateDataReporter(sys.stdout, 1000, step=True, potentialEnergy=True, temperature=True))\n",
    "        #Evaluate and Report pre-minimized energy\n",
    "        describe_state(simulation.context.getState(getEnergy=True, getForces=True), \"Original state\")\n",
    "        #Minimize the structure\n",
    "        simulation.minimizeEnergy()\n",
    "        #Evaluate and Report post-minimized energy\n",
    "        describe_state(simulation.context.getState(getEnergy=True, getForces=True), \"Minimized state\")\n",
    "        simulation.context.setVelocitiesToTemperature(300 * openmm_unit.kelvin)\n",
    "        return simulation\n",
    "    \n",
    "    \n",
    "    def make_simulation_and_writeout(interchange, phase, ligand_resname='resname UNK'):\n",
    "        sim = make_openmm_simulation(interchange)\n",
    "        with open(f'{phase}_final.xml', \"w\") as xml_file:\n",
    "            xml_file.write(openmm.XmlSerializer.serialize(sim.system))\n",
    "        \n",
    "        with open(f'{phase}_final.pdb', \"w\") as pdb_file:  \n",
    "            openmm.app.PDBFile.writeFile(sim.topology,\n",
    "                                         sim.context.getState(getPositions=True, enforcePeriodicBox=True).getPositions(),\n",
    "                                         file=pdb_file,\n",
    "                                         keepIds=True)\n",
    "        with open(f'{phase}_final.pdb', 'r') as f:\n",
    "            lines = f.readlines()\n",
    "        assert ligand_resname.startswith('resname') and len(ligand_resname) == 11\n",
    "        ligand_resname = ligand_resname[-3:]\n",
    "        \n",
    "        lines = [line.replace('UNK', ligand_resname) for line in lines]\n",
    "        with open(f'{phase}_final.pdb', 'w') as f:\n",
    "            f.writelines(lines)\n",
    "    \n",
    "    \n",
    "    \n",
    "    def run_for_walltime(simulation, num_minutes):\n",
    "        simulation.runForClockTime(num_minutes * openmm_unit.minute)\n",
    "    \n",
    "    \n",
    "    def run_for_steps(simulation, nsteps):\n",
    "        simulation.step(nsteps)\n"
   ]
  },
  {
   "cell_type": "code",
   "execution_count": null,
   "id": "cf31cce4-975a-4c54-91ae-fa0fbd17678b",
   "metadata": {},
   "outputs": [],
   "source": []
  },
  {
   "cell_type": "code",
   "execution_count": null,
   "id": "78b797e1-cc06-4af0-a7e4-5499582e8135",
   "metadata": {},
   "outputs": [],
   "source": [
    "prepper = Simulation_Preparer('3mxf.pdb', 'resname JQ1') # A Crystal Structure and A residue defining the ligand"
   ]
  },
  {
   "cell_type": "code",
   "execution_count": null,
   "id": "5d06182f-9def-4c17-8ae6-24eb318f66ba",
   "metadata": {},
   "outputs": [],
   "source": [
    "prepper.generate_topologies(save_as_jsons=True)"
   ]
  },
  {
   "cell_type": "code",
   "execution_count": null,
   "id": "ef60a110-414b-4230-b212-bdaec0c25887",
   "metadata": {},
   "outputs": [],
   "source": [
    "prepper.generate_interchanges([\"openff-2.1.0.offxml\", \"opc-1.0.1.offxml\", \"ff14sb_off_impropers_0.0.3.offxml\"]) # Takes a while"
   ]
  },
  {
   "cell_type": "code",
   "execution_count": null,
   "id": "cf003b95-f360-4f99-9317-afc043468dd8",
   "metadata": {},
   "outputs": [],
   "source": [
    "prepper.openmm_writeout() # Takes a while"
   ]
  },
  {
   "cell_type": "code",
   "execution_count": null,
   "id": "e1ade6ed-8b6a-4c1f-b1fd-c3f07738f86b",
   "metadata": {},
   "outputs": [],
   "source": []
  },
  {
   "cell_type": "code",
   "execution_count": null,
   "id": "d997d611-e95c-4fe6-87d4-91199c457569",
   "metadata": {},
   "outputs": [],
   "source": []
  },
  {
   "cell_type": "code",
   "execution_count": null,
   "id": "ff924ddd-0ea7-485d-b8ac-8e97be04e787",
   "metadata": {},
   "outputs": [],
   "source": []
  },
  {
   "cell_type": "code",
   "execution_count": null,
   "id": "be48cf1a-6772-48e9-aee4-a7503011d1cf",
   "metadata": {},
   "outputs": [],
   "source": []
  },
  {
   "cell_type": "code",
   "execution_count": null,
   "id": "264a751a-dd51-4fad-ad55-29a9f186e460",
   "metadata": {},
   "outputs": [],
   "source": []
  },
  {
   "cell_type": "code",
   "execution_count": null,
   "id": "34d15ce7-9ea8-4942-92fa-e4098ad5dad6",
   "metadata": {},
   "outputs": [],
   "source": []
  },
  {
   "cell_type": "code",
   "execution_count": null,
   "id": "64406c43-3b69-4dae-9ebe-313c0805acbd",
   "metadata": {},
   "outputs": [],
   "source": []
  },
  {
   "cell_type": "code",
   "execution_count": null,
   "id": "0179ef77-a92c-4c9c-b7de-8d426955037d",
   "metadata": {},
   "outputs": [],
   "source": [
    "# ALL PREVIOUS MEMORY CAN BE CLEARED AT THIS POINT?"
   ]
  },
  {
   "cell_type": "code",
   "execution_count": null,
   "id": "e82959d8-705e-4519-97a4-2b05ea033228",
   "metadata": {},
   "outputs": [],
   "source": [
    "complex_fns = ('complex_final.pdb', 'complex_final.xml')\n",
    "solvent_fns = ('solvent_final.pdb', 'solvent_final.xml')\n",
    "ligand_resname = 'resname UNK'\n",
    "yank_output_dir = 'UNK/yankrun2'\n",
    "yaml_file_fn = 'UNK/yank_script.yaml'\n",
    "restraint_string = determine_restrained_residues(complex_fns[0], 4, ligand_resname)\n",
    "\n",
    "with open(yaml_file_fn, 'w') as f:\n",
    "    f.write(write_the_yaml(complex_fns, solvent_fns, ligand_resname, yank_output_dir, restraint_string))"
   ]
  },
  {
   "cell_type": "code",
   "execution_count": null,
   "id": "b3139db9-b3e0-4dc8-9347-1bd87b0a4906",
   "metadata": {},
   "outputs": [],
   "source": [
    "with open(yaml_file_fn, 'r') as f:\n",
    "    my_yaml = yaml.load(f, Loader=YankLoader)\n",
    "yaml_builder = yank.experiment.ExperimentBuilder(script=my_yaml)"
   ]
  },
  {
   "cell_type": "code",
   "execution_count": null,
   "id": "be6a7333-f481-4e1e-b812-3183fb237306",
   "metadata": {},
   "outputs": [],
   "source": [
    "yaml_builder.run_experiments()"
   ]
  },
  {
   "cell_type": "code",
   "execution_count": null,
   "id": "e63615f1-7531-42fa-a9f7-d7a052597d46",
   "metadata": {},
   "outputs": [],
   "source": [
    "import yank.analyze"
   ]
  },
  {
   "cell_type": "code",
   "execution_count": null,
   "id": "d504df79-5c95-4aee-9367-3a0e35f8fdb1",
   "metadata": {},
   "outputs": [],
   "source": [
    "Analyzer = yank.analyze.ExperimentAnalyzer('UNK/yankrun2/experiments/')\n",
    "results = Analyzer.auto_analyze()"
   ]
  },
  {
   "cell_type": "code",
   "execution_count": null,
   "id": "867cd588-94f7-4bf2-9854-23903df20bdc",
   "metadata": {},
   "outputs": [],
   "source": [
    "print(results)"
   ]
  }
 ],
 "metadata": {
  "kernelspec": {
   "display_name": "Python 3 (ipykernel)",
   "language": "python",
   "name": "python3"
  },
  "language_info": {
   "codemirror_mode": {
    "name": "ipython",
    "version": 3
   },
   "file_extension": ".py",
   "mimetype": "text/x-python",
   "name": "python",
   "nbconvert_exporter": "python",
   "pygments_lexer": "ipython3",
   "version": "3.12.1"
  }
 },
 "nbformat": 4,
 "nbformat_minor": 5
}
